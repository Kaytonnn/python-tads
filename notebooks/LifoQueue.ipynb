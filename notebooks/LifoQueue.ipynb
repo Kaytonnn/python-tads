{
  "nbformat": 4,
  "nbformat_minor": 0,
  "metadata": {
    "colab": {
      "name": "Pilhas-Python.ipynb",
      "version": "0.3.2",
      "provenance": [],
      "collapsed_sections": [],
      "toc_visible": true,
      "include_colab_link": true
    },
    "kernelspec": {
      "name": "python3",
      "display_name": "Python 3"
    }
  },
  "cells": [
    {
      "cell_type": "markdown",
      "metadata": {
        "id": "view-in-github",
        "colab_type": "text"
      },
      "source": [
        "<a href=\"https://colab.research.google.com/github/joaovdxavier/python-tads/blob/master/Pilhas_Python.ipynb\" target=\"_parent\"><img src=\"https://colab.research.google.com/assets/colab-badge.svg\" alt=\"Open In Colab\"/></a>"
      ]
    },
    {
      "metadata": {
        "id": "2WrGReSHNepQ",
        "colab_type": "text"
      },
      "cell_type": "markdown",
      "source": [
        "# Pilhas: conceitos iniciais"
      ]
    },
    {
      "metadata": {
        "id": "z2JdSK3GJY00",
        "colab_type": "text"
      },
      "cell_type": "markdown",
      "source": [
        "Uma **pilha** é um tipo de dado abstrato muito utilizado em computação. Seu nome é devido a analogia do comportamento dessa estrutura com uma pilhas de objetos no mundo real. \n",
        "\n",
        "Considere, por exemplo, uma pilha de cartas, onde uma nova carta adicionada é **sempre adicionada ao topo da pilha**, e qualquer carta que venha a ser retirada é **sempre retirada do topo da pilha**.\n",
        "\n",
        "Dessa forma, podemos pensar em uma pilha como uma lista dinâmica em que as** operações são realizadas sempre no topo** (na mesma extremidade).\n",
        "\n",
        "Portanto, em uma estrutura do tipo pilha, o **último elemento inserido é o primeiro a ser removido** ou consultado. Essa estrutura também é conhecida como** LIFO**, do inglês last-in first-out.\n"
      ]
    },
    {
      "metadata": {
        "id": "iF3ODX8eFEDt",
        "colab_type": "text"
      },
      "cell_type": "markdown",
      "source": [
        "# Pilhas em Python\n"
      ]
    },
    {
      "metadata": {
        "id": "S954EGRXGIbW",
        "colab_type": "text"
      },
      "cell_type": "markdown",
      "source": [
        "##Pilhas Usando listas"
      ]
    },
    {
      "metadata": {
        "id": "iGD5XQYLl_zA",
        "colab_type": "text"
      },
      "cell_type": "markdown",
      "source": [
        "\n",
        "No Python podemos implementar uma pilha de forma rudimentar usando uma lista, pois essa estrutura de dados nos oferece métodos para que possamos realizar as operações necessárias na nossa pilha.\n",
        "\n",
        "Os seguintes métodos serão uteis na implementação de pilhas em Python:\n",
        "\n",
        "\n",
        "* list.**append(x)** : adicina um item no final da lista, onde x = item a ser adicionado.\n",
        "* list.**pop()**: remove um item do final da lista.\n",
        "* list**[-1]**: acessa o item que esta no final da lista(topo da pilha).\n",
        "* **len(lista)**: retorna o tamanho atual da lista. "
      ]
    },
    {
      "metadata": {
        "id": "jtAHjoXyJeIq",
        "colab_type": "text"
      },
      "cell_type": "markdown",
      "source": [
        "Criando e adicionando itens a pilha."
      ]
    },
    {
      "metadata": {
        "id": "vRZHq3GTGmPh",
        "colab_type": "code",
        "outputId": "4c10e549-4e51-46f6-9905-5fb0ed177ee7",
        "colab": {
          "base_uri": "https://localhost:8080/",
          "height": 34
        }
      },
      "cell_type": "code",
      "source": [
        "pilha = [] #criando uma lista/pilha vazia.\n",
        "pilha.append(1) #adiciona um item no final da lista/topo da pilha\n",
        "pilha.append(2) #adiciona um item no final da lista/topo da pilha\n",
        "print(pilha)"
      ],
      "execution_count": 0,
      "outputs": [
        {
          "output_type": "stream",
          "text": [
            "[1, 2]\n"
          ],
          "name": "stdout"
        }
      ]
    },
    {
      "metadata": {
        "id": "qsAYb1rpJlA1",
        "colab_type": "text"
      },
      "cell_type": "markdown",
      "source": [
        "Removendo itens do topo da pilha."
      ]
    },
    {
      "metadata": {
        "id": "vTi4vXoZJr9L",
        "colab_type": "code",
        "outputId": "bdc37390-8714-4b3a-c584-e61e6a318842",
        "colab": {
          "base_uri": "https://localhost:8080/",
          "height": 51
        }
      },
      "cell_type": "code",
      "source": [
        "print(\"Pilha antes da remoção: \", pilha)\n",
        "pilha.pop() #removendo item do topo da pilha\n",
        "print(\"Pilha depois da remoção: \", pilha)"
      ],
      "execution_count": 0,
      "outputs": [
        {
          "output_type": "stream",
          "text": [
            "Pilha antes da remoção:  [1, 2]\n",
            "Pilha depois da remoção:  [1]\n"
          ],
          "name": "stdout"
        }
      ]
    },
    {
      "metadata": {
        "id": "1Kuxen25KfF7",
        "colab_type": "text"
      },
      "cell_type": "markdown",
      "source": [
        "Acessando o item que esta no topo da pilha."
      ]
    },
    {
      "metadata": {
        "id": "Phfee2J7KmH6",
        "colab_type": "code",
        "outputId": "5f5bf730-8920-441b-9591-e8b0740c283d",
        "colab": {
          "base_uri": "https://localhost:8080/",
          "height": 34
        }
      },
      "cell_type": "code",
      "source": [
        "pilha.append(3)\n",
        "print(pilha[-1])#Acessando o item do topo da pilha"
      ],
      "execution_count": 0,
      "outputs": [
        {
          "output_type": "stream",
          "text": [
            "3\n"
          ],
          "name": "stdout"
        }
      ]
    },
    {
      "metadata": {
        "id": "5LbB9fazKwg9",
        "colab_type": "text"
      },
      "cell_type": "markdown",
      "source": [
        "Verificando o tamanho da pilha. "
      ]
    },
    {
      "metadata": {
        "id": "5-rUaLCiK3Pk",
        "colab_type": "code",
        "outputId": "6b2b32f7-039b-4645-a37b-078d0bd16bd6",
        "colab": {
          "base_uri": "https://localhost:8080/",
          "height": 34
        }
      },
      "cell_type": "code",
      "source": [
        "print(len(pilha))"
      ],
      "execution_count": 0,
      "outputs": [
        {
          "output_type": "stream",
          "text": [
            "2\n"
          ],
          "name": "stdout"
        }
      ]
    },
    {
      "metadata": {
        "id": "QLGwGbgwK-eq",
        "colab_type": "text"
      },
      "cell_type": "markdown",
      "source": [
        "**Dica**: Sempre é bom verificar o tamanho da pilha antes de remover um item dela."
      ]
    },
    {
      "metadata": {
        "id": "pOknPfvEZfpo",
        "colab_type": "text"
      },
      "cell_type": "markdown",
      "source": [
        "###Exercicios de Fixação"
      ]
    },
    {
      "metadata": {
        "id": "yOT_8YXuPQtC",
        "colab_type": "text"
      },
      "cell_type": "markdown",
      "source": [
        "1 - Elabore um programa e as TADs necessárias, sem usar pilha, que simule uma\n",
        "sequência de operações Empilha (push) e Desempilha (pop), e determine se está\n",
        "ocorrendo um underflow (tentativa de Desempilhar em uma pilha vazia) ou não em\n",
        "alguma operação Desempilha. "
      ]
    },
    {
      "metadata": {
        "id": "J4BPWz_4ZqMd",
        "colab_type": "code",
        "colab": {}
      },
      "cell_type": "code",
      "source": [
        ""
      ],
      "execution_count": 0,
      "outputs": []
    },
    {
      "metadata": {
        "id": "EdT02YrLmw57",
        "colab_type": "text"
      },
      "cell_type": "markdown",
      "source": [
        "2 - Utilizando os métodos append() e pop() de listas, escreva uma função bem_formada() que recebe um string s contendo apenas os caracteres **(,**  **)**, **[**,  **]**,  devolve True caso a expressão estiver bem formada e False caso contrário."
      ]
    },
    {
      "metadata": {
        "id": "GZAOHDcLZq09",
        "colab_type": "code",
        "colab": {}
      },
      "cell_type": "code",
      "source": [
        ""
      ],
      "execution_count": 0,
      "outputs": []
    },
    {
      "metadata": {
        "id": "sE9BVulIGa5p",
        "colab_type": "text"
      },
      "cell_type": "markdown",
      "source": [
        "##Usando Queue.py"
      ]
    },
    {
      "metadata": {
        "id": "byXUiit_Ga4H",
        "colab_type": "text"
      },
      "cell_type": "markdown",
      "source": [
        ""
      ]
    },
    {
      "metadata": {
        "id": "85A7w1isnrHc",
        "colab_type": "text"
      },
      "cell_type": "markdown",
      "source": [
        "Uma maneira mais segura de implementar uma pilha é usando a classe  queue.LifoQueue da library queue.py. Os metodos a abaixo serão utilizados na manipilação e verificação da pilha.\n",
        "\n",
        "* **Queue.qsize()**: retorna o tamanho da pilha.\n",
        "* **Queue.empty()**: retorna True(verdadeiro) se a pilha estiver vazia, False(falso) caso contrario.\n",
        "* **Queue.full()**: returna True(verdadeiro) se a pilha estiver cheia, False(falso) caso contrario.\n",
        "* **Queue.put(item)**: coloca um item na pilha(topo).\n",
        "* **Queue.get()**: remove e retorna o item que esta no topo da pilha.\n",
        "\n",
        "Onde, Queue = nome da pilha."
      ]
    },
    {
      "metadata": {
        "id": "mNpFsAhgquTZ",
        "colab_type": "text"
      },
      "cell_type": "markdown",
      "source": [
        "No código abaixo criamos uma variavel do tipo queue.LifoQueue."
      ]
    },
    {
      "metadata": {
        "id": "0F6D0TFGq-ij",
        "colab_type": "code",
        "colab": {}
      },
      "cell_type": "code",
      "source": [
        "from queue import LifoQueue\n",
        "pilha = LifoQueue()"
      ],
      "execution_count": 0,
      "outputs": []
    },
    {
      "metadata": {
        "id": "SlpVetlsroGP",
        "colab_type": "text"
      },
      "cell_type": "markdown",
      "source": [
        "Verificando se a pilha esta vazia."
      ]
    },
    {
      "metadata": {
        "id": "DKeyjoyMr0K0",
        "colab_type": "code",
        "outputId": "fd403779-1142-464c-8da9-c9dd817e737f",
        "colab": {
          "base_uri": "https://localhost:8080/",
          "height": 34
        }
      },
      "cell_type": "code",
      "source": [
        "print(pilha.empty())"
      ],
      "execution_count": 0,
      "outputs": [
        {
          "output_type": "stream",
          "text": [
            "True\n"
          ],
          "name": "stdout"
        }
      ]
    },
    {
      "metadata": {
        "id": "WmLlS_-RsAA0",
        "colab_type": "text"
      },
      "cell_type": "markdown",
      "source": [
        "Adicionado um item ao topo da pilha."
      ]
    },
    {
      "metadata": {
        "id": "iJRCftG_sEgH",
        "colab_type": "code",
        "colab": {}
      },
      "cell_type": "code",
      "source": [
        "pilha.put(\"teste\")"
      ],
      "execution_count": 0,
      "outputs": []
    },
    {
      "metadata": {
        "id": "MEOr9rH8spgY",
        "colab_type": "text"
      },
      "cell_type": "markdown",
      "source": [
        "Agora vamos verificar se a pilha esta vazia, depois o usar o metodo get para remover e retornar o item que esta no topo da pilha e verificar se ela esta vazia novamente."
      ]
    },
    {
      "metadata": {
        "id": "XNq-29ICs6QQ",
        "colab_type": "code",
        "outputId": "9938be82-2d30-4f03-deeb-531509e69488",
        "colab": {
          "base_uri": "https://localhost:8080/",
          "height": 68
        }
      },
      "cell_type": "code",
      "source": [
        "print(pilha.empty())\n",
        "print(pilha.get())\n",
        "print(pilha.empty())"
      ],
      "execution_count": 0,
      "outputs": [
        {
          "output_type": "stream",
          "text": [
            "False\n",
            "teste\n",
            "True\n"
          ],
          "name": "stdout"
        }
      ]
    },
    {
      "metadata": {
        "id": "9p9I8NtPudLy",
        "colab_type": "text"
      },
      "cell_type": "markdown",
      "source": [
        "**OBS**: não utilize o metodo **get** em uma pilha vazia."
      ]
    },
    {
      "metadata": {
        "id": "WLFrNphluwqq",
        "colab_type": "text"
      },
      "cell_type": "markdown",
      "source": [
        "Por fim, adicionamos itens a pilha e verificamos o seu tamanho a cada adição."
      ]
    },
    {
      "metadata": {
        "id": "IDVKpFAvu8De",
        "colab_type": "code",
        "outputId": "cad30672-df52-44ca-f18d-ce9d2ffc324f",
        "colab": {
          "base_uri": "https://localhost:8080/",
          "height": 68
        }
      },
      "cell_type": "code",
      "source": [
        "pilha.put(\"teste1\")\n",
        "print(pilha.qsize())\n",
        "pilha.put(\"teste2\")\n",
        "print(pilha.qsize())\n",
        "pilha.put(\"teste3\")\n",
        "print(pilha.qsize())"
      ],
      "execution_count": 0,
      "outputs": [
        {
          "output_type": "stream",
          "text": [
            "1\n",
            "2\n",
            "3\n"
          ],
          "name": "stdout"
        }
      ]
    },
    {
      "metadata": {
        "id": "QG_Asqm4Iojs",
        "colab_type": "text"
      },
      "cell_type": "markdown",
      "source": [
        "###Exercicios de Fixação"
      ]
    },
    {
      "metadata": {
        "id": "d9uh5po7KWS7",
        "colab_type": "text"
      },
      "cell_type": "markdown",
      "source": [
        "1 - Crie uma função que receba um número n e armazene todos os resultados da operação fatoria de 1 até n em um pilha usando a classe queue.LifoQueue.\n",
        "\n",
        "Exemplo:\n",
        "* Valor de n: 4\n",
        "* Valores armazendos: 1! , 2! , 3! , 4!\n",
        "\n",
        "**Sugestão:** Usar o Queue.get() e imprimir os valores "
      ]
    },
    {
      "metadata": {
        "id": "RMa7MTrNJQGn",
        "colab_type": "code",
        "colab": {}
      },
      "cell_type": "code",
      "source": [
        ""
      ],
      "execution_count": 0,
      "outputs": []
    },
    {
      "metadata": {
        "id": "jakEF9ztMl3Z",
        "colab_type": "text"
      },
      "cell_type": "markdown",
      "source": [
        "2 - Use as operações/funções Empilha (push), Desempilha (pop) e Vazia (Empty) para construir operações que façam o seguinte:\n",
        "\n",
        "* Dado um inteiro n, definir o item i como o n-ésimo elemento a partir do topo da pilha, deixando a pilha sem seus n elementos superiores (obs: no final, o item i será o topo da pilha).\n",
        "* Dado um inteiro n, definir o item i como o n-ésimo elemento a partir do topo da pilha, deixando a pilha inalterada.\n",
        "* Dado um item i, deixar a pilha somente com o item i."
      ]
    },
    {
      "metadata": {
        "id": "0HqfZcuWPRfT",
        "colab_type": "code",
        "colab": {}
      },
      "cell_type": "code",
      "source": [
        ""
      ],
      "execution_count": 0,
      "outputs": []
    },
    {
      "metadata": {
        "id": "Atdthd1tjZ1b",
        "colab_type": "text"
      },
      "cell_type": "markdown",
      "source": [
        "# Importância e usos gerais\n",
        "\n",
        "Como as pilhas utilizam bibliotecas de outros tipos de dados abstratos, como as **listas**  e também sua própria biblioteca **lifoQueue()**, podemos dizer que elas (as pilhas), servem para abstrair certos tipos de problemas da realidade. "
      ]
    },
    {
      "metadata": {
        "id": "EyCho6tzjZmr",
        "colab_type": "text"
      },
      "cell_type": "markdown",
      "source": [
        "## Chamadas de função\n",
        "Talvez a mais famosa utilização de pilhas em computação esteja no gerenciamento de chamadas de função de um programa. Uma pilha pode ser usada para manter informações sobre as funções de um programa que estejam ativas, aguardando por serem terminadas. Considere o seguinte exemplo:"
      ]
    },
    {
      "metadata": {
        "id": "h20mAuaEklND",
        "colab_type": "code",
        "colab": {}
      },
      "cell_type": "code",
      "source": [
        "def ola():\n",
        "    print(\"olá, \")\n",
        "    mundo()\n",
        " \n",
        "def mundo():\n",
        "    print(\"mundo!\")\n",
        " \n",
        "def olamundo():\n",
        "    ola()\n",
        " \n",
        "olamundo()"
      ],
      "execution_count": 0,
      "outputs": []
    },
    {
      "metadata": {
        "id": "0WlZ-DrNk4Vz",
        "colab_type": "text"
      },
      "cell_type": "markdown",
      "source": [
        "A primeira função a ser chamada é a olamundo(), que por sua vez chama a função ola(), então a função olamundo() é empilhada, pois seu término depende do término da função ola(). \n",
        "\n",
        "Essa, por sua vez, chama a função mundo() e é empilhada. Ao terminar a execução da função mundo(), a função ola() é desempilhada e sua execução termina de onde havia parado (chamada à função mundo()). \n",
        "\n",
        "Como não há mais nada a ser executado nessa função, sua execução termina, e a função olamundo()é desempilhada e sua execução continua, encerrando assim o programa."
      ]
    },
    {
      "metadata": {
        "id": "lySiRm1bl6xb",
        "colab_type": "text"
      },
      "cell_type": "markdown",
      "source": [
        "## Checagem de parênteses \n",
        "Outra utilização de pilhas é a verificação do balanceamento de parênteses. Como saber se os seguintes parênteses estão balanceados, isto é, se para cada abre-parênteses, existe um fecha-parênteses correspondente?\n",
        "\n",
        "(((((((((((((((((()()()()))))))())))()))()))()))((()))))\n",
        "\n",
        "Uma forma bem simples de resolver esse problema é ler a sequência de parênteses, um por um e, a cada abre-parênteses que encontrarmos, vamos empilhá-lo. \n",
        "\n",
        "Quando encontrarmos um fecha-parênteses, devemos desempilhar um abre-parênteses, pois encontramos um fecha-parênteses correspondente a ele. \n",
        "\n",
        "Assim, ao final da avaliação da sequência acima, se ela estiver balanceada corretamente, não restarão elementos na pilha."
      ]
    },
    {
      "metadata": {
        "id": "PS2DgbYZ_r4R",
        "colab_type": "text"
      },
      "cell_type": "markdown",
      "source": [
        "# Exercicios"
      ]
    },
    {
      "metadata": {
        "id": "2Z49BLX9AGn-",
        "colab_type": "text"
      },
      "cell_type": "markdown",
      "source": [
        "1 - Utilizando uma pilha, escreva uma progama que recebe um número interio positivo e converte para binário puro.\n",
        "\n",
        "Exemplos:\n",
        "\n",
        "5 → 101\n",
        "\n",
        "13 → 1101\n",
        "\n",
        "1 → 1"
      ]
    },
    {
      "metadata": {
        "id": "EXEeuc0sxgKr",
        "colab_type": "text"
      },
      "cell_type": "markdown",
      "source": [
        "Resolução:"
      ]
    },
    {
      "metadata": {
        "id": "Ui0VbK3BuTMY",
        "colab_type": "code",
        "outputId": "4ce3a316-67fe-4c0f-807a-94ac51be1924",
        "colab": {
          "base_uri": "https://localhost:8080/",
          "height": 51
        }
      },
      "cell_type": "code",
      "source": [
        "import queue\n",
        "\n",
        "binario = queue.LifoQueue()\n",
        "n = int(input(\"Digite um número inteiro: \"))\n",
        "print(\"O número {} em binario:\".format(n), end=\" \")\n",
        "\n",
        "while n >= 2:\n",
        "  binario.put(n % 2)\n",
        "  n = n // 2\n",
        "binario.put(1)\n",
        "\n",
        "while not binario.empty():\n",
        "  print(binario.get(), end=\"\")"
      ],
      "execution_count": 0,
      "outputs": [
        {
          "output_type": "stream",
          "text": [
            "Digite um número inteiro: 13\n",
            "O número 13 em binario: 1101"
          ],
          "name": "stdout"
        }
      ]
    },
    {
      "metadata": {
        "id": "bsER7jm7zLdc",
        "colab_type": "text"
      },
      "cell_type": "markdown",
      "source": [
        "2 - Utilizando as operações de manipulação de pilhas vistas em sala, uma pilha auxiliar e\n",
        "uma variável do tipo TipoItem, escreva um procedimento que remove um item com\n",
        "chave c de uma posição qualquer de uma pilha. \n",
        "\n",
        "Note que você não tem acesso à\n",
        "estrutura interna da pilha (topo, item, etc), apenas às operações de manipulação."
      ]
    },
    {
      "metadata": {
        "id": "CTAYFr7xzLAR",
        "colab_type": "code",
        "colab": {}
      },
      "cell_type": "code",
      "source": [
        ""
      ],
      "execution_count": 0,
      "outputs": []
    },
    {
      "metadata": {
        "id": "zK7wL76rDBiZ",
        "colab_type": "text"
      },
      "cell_type": "markdown",
      "source": [
        "3 - Considere que um editor de texto representa os caracteres digitados como uma\n",
        "pilha, sendo que o último caracter lido fica no topo\n",
        "\n",
        "* Alguns comandos apagam caracteres. Por exemplo, o backspace apaga o último caractere\n",
        "lido\n",
        "\n",
        "* Alguns comandos apagam tudo o que já foi lido anteriormente\n",
        "\n",
        "* Considere que, no seu editor, # representa backspacee @ indica “apagar tudo”\n",
        "\n",
        "* Faça um programa que execute essas ações usando o TAD pilha"
      ]
    },
    {
      "metadata": {
        "id": "ZU2TqJq0DOrN",
        "colab_type": "code",
        "colab": {}
      },
      "cell_type": "code",
      "source": [
        ""
      ],
      "execution_count": 0,
      "outputs": []
    },
    {
      "metadata": {
        "id": "5yKsy4b7DQtI",
        "colab_type": "text"
      },
      "cell_type": "markdown",
      "source": [
        "4 - Às vezes, na aritmética tradicional, faz-se necessário usar parênteses para dar o significado\n",
        "correto à expressão. Por exemplo\n",
        "\n",
        "* A*B-C/D equivale a: (A*B)-(C/D)\n",
        "\n",
        "\n",
        "Na notação polonesa reversa (posfixa), os operadores aparecem depois dos operandos e dispensa parênteses\n",
        " \n",
        " * Exemplo: AB*CD/-\n",
        "\n",
        "Interpretação da notação posfixa usando pilha:\n",
        "\n",
        "* Empilha operandos até encontrar um operador;\n",
        "* Retira os operandos, calcula e empilha o resultado;\n",
        "* Até que se chegue ao final da expressão.\n",
        "\n",
        "Implemente uma função que calcule o valor de uma expressão posfixa passada\n",
        "por parâmetro utilizando uma pilha"
      ]
    },
    {
      "metadata": {
        "id": "v6WJUB2rE7SN",
        "colab_type": "code",
        "colab": {}
      },
      "cell_type": "code",
      "source": [
        ""
      ],
      "execution_count": 0,
      "outputs": []
    }
  ]
}
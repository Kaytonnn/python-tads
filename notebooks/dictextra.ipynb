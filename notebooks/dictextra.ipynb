{
  "nbformat": 4,
  "nbformat_minor": 0,
  "metadata": {
    "colab": {
      "name": "Notebook Dicionarios.ipynb",
      "version": "0.3.2",
      "provenance": [],
      "collapsed_sections": [],
      "toc_visible": true
    },
    "kernelspec": {
      "name": "python3",
      "display_name": "Python 3"
    }
  },
  "cells": [
    {
      "metadata": {
        "id": "IucX_uN0BNAa",
        "colab_type": "text"
      },
      "cell_type": "markdown",
      "source": [
        "# Dicionários\n",
        "## Atividade de Estrutura de Dados Básicos, IMD\n",
        "## Professor: Leonardo Bezerra\n",
        "\n",
        "\\\n",
        "\n",
        "---\n",
        "\n",
        "\\\n",
        "\n",
        "Participantes (link do github):\n",
        "\n",
        "* [João Marcos](https://github.com/marcospb19) \n",
        "\n",
        "* [Marlon Secundo](https://github.com/marlonsecundo) \n",
        "\n",
        "* [João Vítor Fonseca](https://github.com/vitor177) \n",
        "\n",
        "* [Marcelo Moura](https://github.com/marcelomoura1511)"
      ]
    },
    {
      "metadata": {
        "id": "6UDLvcpmF7sA",
        "colab_type": "text"
      },
      "cell_type": "markdown",
      "source": [
        "# Introdução"
      ]
    },
    {
      "metadata": {
        "id": "r20Np1WI4CUM",
        "colab_type": "text"
      },
      "cell_type": "markdown",
      "source": [
        "## O que é um dicionário?"
      ]
    },
    {
      "metadata": {
        "id": "5ZMP7iEyKCT1",
        "colab_type": "text"
      },
      "cell_type": "markdown",
      "source": [
        "\n",
        "Dicionário é uma estrutura de dados abstrata que pode guardar informações, essas informações precisam ser acessadas através de chaves únicas. \\\n",
        "Dicionários são variáveis no python, podem ser deletadas, atribuídas, enfim... \\\n",
        "Diferentemente de listas e tuplas, dicionários não necessariamente usam o conceito de continuidade (0, 1, 2...)."
      ]
    },
    {
      "metadata": {
        "id": "11LuljRbRrun",
        "colab_type": "code",
        "colab": {}
      },
      "cell_type": "code",
      "source": [
        "import sys\n",
        "print(sys.version[:5])"
      ],
      "execution_count": 0,
      "outputs": []
    },
    {
      "metadata": {
        "id": "J9xUFZPISPgj",
        "colab_type": "text"
      },
      "cell_type": "markdown",
      "source": [
        "Estamos usando a versão 3.6, alguns métodos de dicionários mudam de nome ou comportamento entre diferentes versões (lembre-se disso quando for usar em outras versões).\n",
        "\n",
        "\n",
        "Antes de começar: algumas partes do código precisam da anterior, então tente reproduzir linearmente.\n"
      ]
    },
    {
      "metadata": {
        "id": "3d6L9R4CN-d2",
        "colab_type": "text"
      },
      "cell_type": "markdown",
      "source": [
        "## Básico"
      ]
    },
    {
      "metadata": {
        "id": "4qVEzt55paKY",
        "colab_type": "text"
      },
      "cell_type": "markdown",
      "source": [
        "Vamos começar inicializando dois dicionários vazios, então vamos imprimir ambos e verificar o seus tipos:"
      ]
    },
    {
      "metadata": {
        "id": "SCpOnbbKRg5E",
        "colab_type": "code",
        "colab": {}
      },
      "cell_type": "code",
      "source": [
        "var1       = {}\n",
        "dicionario = {}\n",
        "\n",
        "print(var1)\n",
        "print(dicionario)\n",
        "\n",
        "print(\"A variável \\'var1\\'       é do tipo: \" , type(var1))\n",
        "print(\"A variável \\'dicionario\\' é do tipo: \" , type(dicionario))"
      ],
      "execution_count": 0,
      "outputs": []
    },
    {
      "metadata": {
        "id": "JmBtV91MTB1q",
        "colab_type": "text"
      },
      "cell_type": "markdown",
      "source": [
        "Vamos apagar (assim como qualquer variável) os dicionários 'var1' e 'dicionario', e criar 'd'"
      ]
    },
    {
      "metadata": {
        "id": "Tm53WH6suour",
        "colab_type": "code",
        "colab": {}
      },
      "cell_type": "code",
      "source": [
        "del var1\n",
        "del dicionario\n",
        "\n",
        "d = {}\n",
        "print(d , type(d))"
      ],
      "execution_count": 0,
      "outputs": []
    },
    {
      "metadata": {
        "id": "erxNWRnnu8DG",
        "colab_type": "text"
      },
      "cell_type": "markdown",
      "source": [
        "Agora vamos adicionar chaves e valores à **`d`**"
      ]
    },
    {
      "metadata": {
        "id": "E1B8ZkVDTXkx",
        "colab_type": "code",
        "colab": {}
      },
      "cell_type": "code",
      "source": [
        "d[3] = 100\n",
        "d[1] = 10\n",
        "d[10] = 0\n",
        "\n",
        "print(d[3])\n",
        "print(d[1])\n",
        "print(d[10])"
      ],
      "execution_count": 0,
      "outputs": []
    },
    {
      "metadata": {
        "id": "AANBeHPhv9yU",
        "colab_type": "text"
      },
      "cell_type": "markdown",
      "source": [
        "Adicionamos 3 chaves, 3, 1 e 10. Perceba que não há sequência ou relação entre esses números\n",
        "\n",
        "\n",
        "Ao escrever: \\\n",
        "`d[3] = 100` , \\\n",
        "estamos dizendo que a chave **3** possui valor **100** \\\n",
        "\n",
        "Chaves são únicas e simplesmente apontam para seu conteúdo, sem mistério.\n",
        "\n",
        "Vamos imprimir 'd':"
      ]
    },
    {
      "metadata": {
        "id": "Wlk1wx6xw8rj",
        "colab_type": "code",
        "colab": {}
      },
      "cell_type": "code",
      "source": [
        "print(\"d =\" , d)"
      ],
      "execution_count": 0,
      "outputs": []
    },
    {
      "metadata": {
        "id": "JdORNEPaxCe8",
        "colab_type": "text"
      },
      "cell_type": "markdown",
      "source": [
        "Vou separar em linhas para que possamos entender melhor:\n",
        "\n",
        "\\\n",
        "\n",
        "`d = { ` \n",
        "> ` 3: 100, \\\n",
        "1: 10, \\\n",
        "10: 0`\n",
        "\n",
        "}\n",
        "\n",
        "\\\n",
        "\n",
        "Podemos ver claramente, cada chave na esquerda com seu valor correspondente na direita, e cada entrada separada por vírgula."
      ]
    },
    {
      "metadata": {
        "id": "bzUAUrqsyA5w",
        "colab_type": "text"
      },
      "cell_type": "markdown",
      "source": [
        "Ao invés de criarmos um dicionário vazio e ir adicionando valores individualmente, podemos criar um dicionário com todos esses valores.\n",
        "\n",
        "Só vamos precisar mudar um pouco o texto escrito (vejam os comentários abaixo)."
      ]
    },
    {
      "metadata": {
        "id": "QpRiqqjx1WI1",
        "colab_type": "code",
        "colab": {}
      },
      "cell_type": "code",
      "source": [
        "# Criando um dicionário vazio e adicionando os valores/chaves\n",
        "d = {}\n",
        "d[3] = 100\n",
        "d[1] = 10\n",
        "d[10] = 0\n",
        "\n",
        "# Mostrando os valores\n",
        "print(d[3] , d[1] , d[10])\n",
        "\n",
        "\n",
        "# Criando um dicionário com valores/chaves\n",
        "d = {\n",
        "\t3: 100,\n",
        "\t1: 10,\n",
        "\t10: 0\n",
        "}\n",
        "\n",
        "# Mostrando novamente os valores\n",
        "print(d[3] , d[1] , d[10])"
      ],
      "execution_count": 0,
      "outputs": []
    },
    {
      "metadata": {
        "id": "sPlM5IexOL7o",
        "colab_type": "text"
      },
      "cell_type": "markdown",
      "source": [
        "O operador `del` também é utilizado para remover entradas"
      ]
    },
    {
      "metadata": {
        "id": "H-tYULf9Oa6q",
        "colab_type": "code",
        "colab": {}
      },
      "cell_type": "code",
      "source": [
        "del d[3]\n",
        "del d[1]\n",
        "print(d)"
      ],
      "execution_count": 0,
      "outputs": []
    },
    {
      "metadata": {
        "id": "iSZ6Lcxk5o3C",
        "colab_type": "text"
      },
      "cell_type": "markdown",
      "source": [
        "### Exercício 1 "
      ]
    },
    {
      "metadata": {
        "id": "zBnDZOenQFMM",
        "colab_type": "text"
      },
      "cell_type": "markdown",
      "source": [
        "\n",
        "#### Parte 1\n",
        "\n",
        "Modifique a declaração do dicionario e faça as correções solicitadas.\n",
        "\n",
        "- Remova a chave 2019\n",
        "\n",
        "- Mude o valor da chave version para \"3.6.7\"\n",
        "\n",
        "- Adicione a chave \"language\" com o valor \"python\""
      ]
    },
    {
      "metadata": {
        "id": "xUVwyq3IPSGL",
        "colab_type": "code",
        "colab": {}
      },
      "cell_type": "code",
      "source": [
        "dicionario = {\n",
        "\t\"version\": \"3.6.2\",\n",
        "\t2019: 0\n",
        "}"
      ],
      "execution_count": 0,
      "outputs": []
    },
    {
      "metadata": {
        "id": "TMHgGMCa4sKk",
        "colab_type": "text"
      },
      "cell_type": "markdown",
      "source": [
        "#### Parte 2\n",
        "\n",
        "Refaça as alterações da parte 1, porém dessa vez você não poderá mudar a declaração do dicionário, só pode adicionar e remover em nas outras linhas.\n",
        "\n",
        "\n"
      ]
    },
    {
      "metadata": {
        "id": "mqlaJauDh4Ti",
        "colab_type": "code",
        "colab": {}
      },
      "cell_type": "code",
      "source": [
        "dicionario = {\n",
        "\t\"version\": \"3.6.2\",\n",
        "\t2019: 0\n",
        "}\n",
        "\n",
        "# Faça as alterações aqui embaixo!\n",
        "\n",
        "\n",
        "\n",
        "\n"
      ],
      "execution_count": 0,
      "outputs": []
    },
    {
      "metadata": {
        "id": "URV-o1k0N5Yl",
        "colab_type": "text"
      },
      "cell_type": "markdown",
      "source": [
        "## Avançado"
      ]
    },
    {
      "metadata": {
        "id": "5V1rxbTr0hwt",
        "colab_type": "text"
      },
      "cell_type": "markdown",
      "source": [
        "Nos 3 exemplos que vimos, tanto chaves quanto valores eram inteiros, porém também podemos usar outros tipos:\n",
        "\n",
        "podemos usar int, float, e strings para chaves\n",
        "e para valores podemos usar quase qualquer coisa.\n",
        "\n",
        "\\\n",
        "\n",
        "Veja esse exemplo:"
      ]
    },
    {
      "metadata": {
        "id": "cZosf8EGWUrF",
        "colab_type": "code",
        "colab": {}
      },
      "cell_type": "code",
      "source": [
        "d = {\n",
        "\t-5 : 10.5,\n",
        "\t64.5 : \"meu peso\",\n",
        "\n",
        "\t\"lista\" : [1 , 2 , 3],\n",
        "\n",
        "\t\"dicionario\" : {\n",
        "\t\t10 : \"dez\",\n",
        "\t}\n",
        "}\n",
        "\n",
        "print(\"Dados:\")\n",
        "print(d[-5])\n",
        "print(d[64.5])\n",
        "print(d[\"lista\"])\n",
        "print(d[\"dicionario\"])\n",
        "print(d[\"dicionario\"][10])\n",
        "\n",
        "print(\"\\nTipos:\")\n",
        "print(type(d[-5]))\n",
        "print(type(d[64.5]))\n",
        "print(type(d[\"lista\"]))\n",
        "print(type(d[\"dicionario\"]))\n",
        "print(type(d[\"dicionario\"][10]))"
      ],
      "execution_count": 0,
      "outputs": []
    },
    {
      "metadata": {
        "id": "aktkq6KYW0Ue",
        "colab_type": "text"
      },
      "cell_type": "markdown",
      "source": [
        "A chave \"Dicionário\" possui um dicionário, veja outro exemplo desse empacotamento:"
      ]
    },
    {
      "metadata": {
        "id": "XvbzSH4YXMDo",
        "colab_type": "code",
        "colab": {}
      },
      "cell_type": "code",
      "source": [
        "tabelaPeriodica = {\n",
        "\n",
        "\t\"Cl\" : {\n",
        "\t\t\"Massa\" : 22.990,\n",
        "\t\t\"Número atômico\" : 11,\n",
        "\t\t\"Nome\" : \"Sódio\"\n",
        "\t},\n",
        "\n",
        "\t\"Na\" : [\"Cloro\" , 35.453 , 17]\n",
        "}"
      ],
      "execution_count": 0,
      "outputs": []
    },
    {
      "metadata": {
        "id": "JF-AZ9Z_ZdOU",
        "colab_type": "text"
      },
      "cell_type": "markdown",
      "source": [
        "O dicionário chamado tabelaPeriodica possui duas chaves:\n",
        "\"Cl\" e \"Na\"\n",
        "\n",
        "\"Cl\" é um dicionário que possui 3 chaves\n",
        "\n",
        "\"Na\" é uma lista com 3 elementos\n",
        "\n",
        "Veja como é feito o acesso em vários níveis dentro de um dicionário:"
      ]
    },
    {
      "metadata": {
        "id": "Cu54c5X6ac30",
        "colab_type": "code",
        "colab": {}
      },
      "cell_type": "code",
      "source": [
        "print(tabelaPeriodica[\"Cl\"][\"Nome\"])\n",
        "print(\"Massa:\" , tabelaPeriodica[\"Cl\"][\"Massa\"])\n",
        "print(\"Número atômico:\" , tabelaPeriodica[\"Cl\"][\"Número atômico\"])\n",
        "\n",
        "print() # Pula uma linha\n",
        "\n",
        "print(tabelaPeriodica[\"Na\"][0])\n",
        "print(\"Massa:\" , tabelaPeriodica[\"Na\"][1])\n",
        "print(\"Número atômico:\" , tabelaPeriodica[\"Na\"][2])"
      ],
      "execution_count": 0,
      "outputs": []
    },
    {
      "metadata": {
        "id": "6u91ly7PbWT-",
        "colab_type": "text"
      },
      "cell_type": "markdown",
      "source": [
        "Acessamos o elemento do elemento, ou seja\n",
        "\n",
        "dict[x][y]\n",
        "\n",
        "Poderia ser dict[x][y][z][...]..."
      ]
    },
    {
      "metadata": {
        "id": "WXQfvsLjogYr",
        "colab_type": "text"
      },
      "cell_type": "markdown",
      "source": [
        "### Exercício 2"
      ]
    },
    {
      "metadata": {
        "id": "bRCe_AUYomC8",
        "colab_type": "text"
      },
      "cell_type": "markdown",
      "source": [
        "#### Parte única\n",
        "\n",
        "Crie um dicionário qualquer, adicione uma entrada nele, onde o valor dessa entrada seja outro dicionário, então adicione uma entrada no dicionário interno e imprima na tela seu valor designado."
      ]
    },
    {
      "metadata": {
        "id": "sx-zPBy9pG5c",
        "colab_type": "code",
        "colab": {}
      },
      "cell_type": "code",
      "source": [
        "\n",
        "\n"
      ],
      "execution_count": 0,
      "outputs": []
    },
    {
      "metadata": {
        "id": "gjvbtwpZjOu8",
        "colab_type": "text"
      },
      "cell_type": "markdown",
      "source": [
        "---\n",
        "\n",
        "Todas as vezes que mostramos o tipo dos dicionários vimos o seguinte:\n",
        "\n",
        "`<class 'dict'>`\n",
        "\n",
        "A classe dict, vamos utilizar a classe diretamente agora para criar um dicionário\n"
      ]
    },
    {
      "metadata": {
        "id": "pTJe8N2ojmjD",
        "colab_type": "code",
        "colab": {}
      },
      "cell_type": "code",
      "source": [
        "dicionario = dict()\n",
        "print(dicionario)\n",
        "print(type(dicionario))"
      ],
      "execution_count": 0,
      "outputs": []
    },
    {
      "metadata": {
        "id": "L1fN3AuMkBBd",
        "colab_type": "text"
      },
      "cell_type": "markdown",
      "source": [
        "A classe também pode receber argumentos para já criar um dicionário preenchido.\n",
        "\n",
        "Para isso vamos ter que passar uma lista/tupla na criação do dicionário, cada elemento dessa lista/tupla conter uma dupla: a chave e o valor.\n",
        "\n",
        "Ou seja, cada elemento da lista/tupla é uma entrada no dicionário, e cada entrada no dicionário, como já vimos, é sempre formada por dois dados.\n",
        "\n",
        "Na prática:"
      ]
    },
    {
      "metadata": {
        "id": "33FMhoY1k391",
        "colab_type": "code",
        "colab": {}
      },
      "cell_type": "code",
      "source": [
        "dicionario = dict([ (1,\"um\") , (2,\"dois\") ])\n",
        "print(dicionario)"
      ],
      "execution_count": 0,
      "outputs": []
    },
    {
      "metadata": {
        "id": "2QwZsz5clHdG",
        "colab_type": "text"
      },
      "cell_type": "markdown",
      "source": [
        "Veja, para a criação da classe dict passamos uma lista [ ], e dentro dessa lista passamos dois elementos, duas tuplas com duplas de dados.\n",
        "\n",
        "Esse exemplo pode ser reescrito de diversas formas diferentes:"
      ]
    },
    {
      "metadata": {
        "id": "IfIQ_ce0lagB",
        "colab_type": "code",
        "colab": {}
      },
      "cell_type": "code",
      "source": [
        "dicionario = dict(( (1,\"um\") , (2,\"dois\") )) ; print(dicionario)\n",
        "dicionario = dict(( (1,\"um\") , [2,\"dois\"] )) ; print(dicionario)\n",
        "dicionario = dict(( [1,\"um\"] , [2,\"dois\"] )) ; print(dicionario)\n",
        "dicionario = dict([ [1,\"um\"] , [2,\"dois\"] ]) ; print(dicionario)\n",
        "dicionario = dict([ (1,\"um\") , [2,\"dois\"] ]) ; print(dicionario)\n",
        "dicionario = dict([ (1,\"um\") , (2,\"dois\") ]) ; print(dicionario)"
      ],
      "execution_count": 0,
      "outputs": []
    },
    {
      "metadata": {
        "id": "7UxqLUEumhxI",
        "colab_type": "text"
      },
      "cell_type": "markdown",
      "source": [
        "O parenteses de argumento do dicionário é sempre necessário, os outros tipos somente precisam ser iteráveis (até strings de dois chars são uma entrada válida)"
      ]
    },
    {
      "metadata": {
        "id": "UWiZIdGSLPms",
        "colab_type": "text"
      },
      "cell_type": "markdown",
      "source": [
        "### Exercício 3"
      ]
    },
    {
      "metadata": {
        "id": "HSkankBhiWEY",
        "colab_type": "text"
      },
      "cell_type": "markdown",
      "source": [
        "#### Parte 1\n",
        "\n",
        "Crie um dicionário diretamente atribuindo a classe dict() para que ele seja igual ao dicionario d abaixo"
      ]
    },
    {
      "metadata": {
        "id": "8ptQ54nKnisz",
        "colab_type": "code",
        "colab": {}
      },
      "cell_type": "code",
      "source": [
        "d = {\n",
        "\t1 : 2,\n",
        "\t2 : 4\n",
        "}\n",
        "\n",
        "\n",
        "dicionario = # codigo aqui\n",
        "\n",
        "if d == dicionario:\n",
        "    print(\"Tudo certo!\")"
      ],
      "execution_count": 0,
      "outputs": []
    },
    {
      "metadata": {
        "id": "7Ar9Fs6PnB9t",
        "colab_type": "text"
      },
      "cell_type": "markdown",
      "source": [
        "#### Parte 2\n",
        "\n",
        "Repita a parte 1, mas agora troque as tuplas por listas e vice-versa\n",
        "\n",
        "Ou seja, troque os parenteses pelos cochetes, e os cochetes pelos parenteses (exceto os parenteses de argumento do dict, o mais externo, esse é obrigatório)"
      ]
    },
    {
      "metadata": {
        "id": "3zrQbjeGnmt0",
        "colab_type": "code",
        "colab": {}
      },
      "cell_type": "code",
      "source": [
        "dicionario = #codigo aqui\n",
        "print(dicionario)"
      ],
      "execution_count": 0,
      "outputs": []
    },
    {
      "metadata": {
        "id": "z-lHBTWXpdso",
        "colab_type": "text"
      },
      "cell_type": "markdown",
      "source": [
        "# Métodos\n",
        "\n",
        "Vamos aprender alguns métodos para facilitar o uso dos dicionários."
      ]
    },
    {
      "metadata": {
        "id": "UAJx2JSizLZD",
        "colab_type": "text"
      },
      "cell_type": "markdown",
      "source": [
        "## Função dir\n",
        "\n",
        "Antes de começar com os métodos, lembre da função dir!\n",
        "\n",
        "Quando for usar os métodos de um dicionário, lista, conjunto ou qualquer outro tipo de dado abstrato, use a função dir para relembrar todos os métodos!\n",
        "\n",
        "(os métodos mais importantes são os que não possuem a estrutura `__nome__`, veja os que estão no final, que são mais interessantes)"
      ]
    },
    {
      "metadata": {
        "id": "yLk5dN7Rz2al",
        "colab_type": "code",
        "colab": {}
      },
      "cell_type": "code",
      "source": [
        "exemplo = {}\n",
        "print(dir(exemplo))\n",
        "\n",
        "# Python sabe que 'exemplo' é um dicionário, então vai nos mostrar todos os métodos do dicionário exemplo\n",
        "\n",
        "# Essa dica também vale para outros tipos de dados, e bibliotecas!!!\n",
        "# import math\n",
        "# print(dir(math))\n",
        "# lista = []\n",
        "# print(dir(lista))"
      ],
      "execution_count": 0,
      "outputs": []
    },
    {
      "metadata": {
        "id": "v6c1YOlO0Z8w",
        "colab_type": "text"
      },
      "cell_type": "markdown",
      "source": [
        "No final do dir vemos:\n",
        "`'clear', 'copy', 'fromkeys', 'get', 'items', 'keys', 'pop', 'popitem', 'setdefault', 'update', 'values'`\n",
        "\n",
        "Vamos agora falar sobre todos esses métodos."
      ]
    },
    {
      "metadata": {
        "id": "_eQ_QnYfBrP1",
        "colab_type": "text"
      },
      "cell_type": "markdown",
      "source": [
        "## Clear\n",
        "\n",
        "O método clear vai nos servir para remover todas as entradas de um dicionário."
      ]
    },
    {
      "metadata": {
        "id": "-DQoE0k-ByLA",
        "colab_type": "code",
        "colab": {}
      },
      "cell_type": "code",
      "source": [
        "dicionario = {\n",
        "\t\"Maçã\":\"1\",\n",
        "\t\"Banana\":\"2\",\n",
        "\t\"Uva\":\"3\"\n",
        "}\n",
        "\n",
        "dicionario.clear()\n",
        "print(dicionario)"
      ],
      "execution_count": 0,
      "outputs": []
    },
    {
      "metadata": {
        "id": "xhDkveA2B7Io",
        "colab_type": "text"
      },
      "cell_type": "markdown",
      "source": [
        "## Copy\n",
        "\n",
        "O método copy vai nos retornar um outro dicionário, que contém o mesmo conteúdo. Veja um exemplo em que é usado apenas atribuição, sem o uso do método proposto.\n"
      ]
    },
    {
      "metadata": {
        "id": "n5HtKB39B96C",
        "colab_type": "code",
        "colab": {}
      },
      "cell_type": "code",
      "source": [
        "dicionario = {\"Maçã\":\"1\", \"Banana\":\"2\", \"Uva\":\"3\"}\n",
        "dicionariocopia = dicionario\n",
        "dicionario.clear()\n",
        "print(dicionariocopia)"
      ],
      "execution_count": 0,
      "outputs": []
    },
    {
      "metadata": {
        "id": "F6eGDHeJCBdF",
        "colab_type": "text"
      },
      "cell_type": "markdown",
      "source": [
        "Note que mesmo atribuindo o dicionário ao dicionario cópia, não conseguimos copiar o conteúdo do dicionário somente com a atribuição.\n",
        "\n",
        "Numa eventual alteração eu perderia alguns dados, pois o python somente copia o ponteiro. Para copiar devidamente usamos o método copy.\n"
      ]
    },
    {
      "metadata": {
        "id": "Hn8qYEPZCK5E",
        "colab_type": "code",
        "colab": {}
      },
      "cell_type": "code",
      "source": [
        "dicionario = {\"Maçã\":\"1\", \"Banana\":\"2\", \"Uva\":\"3\"}\n",
        "dicionariocopia = dicionario.copy()\n",
        "dicionario.clear()\n",
        "print(dicionariocopia)"
      ],
      "execution_count": 0,
      "outputs": []
    },
    {
      "metadata": {
        "id": "Qfl8X88-CLi9",
        "colab_type": "text"
      },
      "cell_type": "markdown",
      "source": [
        "### Exercício 4\n",
        "\n",
        "- Dado o dicionário abaixo, atribua as informações à um dicionário reserva de cópia chamado dicionario_reserva.\n",
        "\n",
        "- Remova todo o conteúdo do dicionário principal usando o método clean, então veja como ficou a saída do dicionário reserva. \n"
      ]
    },
    {
      "metadata": {
        "id": "uk-XdfsSCPbn",
        "colab_type": "code",
        "colab": {}
      },
      "cell_type": "code",
      "source": [
        "dicionario = {\"EDB\":\"15\", \"LP1\":\"25\", \"FMC2\":\"41\", \"ITP\":\"78\"}"
      ],
      "execution_count": 0,
      "outputs": []
    },
    {
      "metadata": {
        "id": "dVtFVI8CCQ6Y",
        "colab_type": "text"
      },
      "cell_type": "markdown",
      "source": [
        "## Fromkeys\n",
        "\n",
        "O método fromkeys vai nos servir para retornar um novo dicionário com a sequência dos argumentos fornecida como as chaves do dicionário. \n",
        "\n",
        "Ele tem dois parámetros:\n",
        "\n",
        "1.   Sequence: sequência de chaves.\n",
        "\n",
        "2.   Value (opcional): valor definido todos os elementos do dicionário.\n",
        "\n",
        "Obs: Caso o valor não seja especificado (segundo parâmetro), é usado ***None*** por padrão.\n",
        "\n",
        "Neste primeiro exemplo, o ***dicionario*** está recebendo um novo dicionário, onde a sequência dos elementos são dados pela lista ***chaves***"
      ]
    },
    {
      "metadata": {
        "id": "QU87nRbrCT8S",
        "colab_type": "code",
        "colab": {}
      },
      "cell_type": "code",
      "source": [
        "chaves = {\"João\", \"Pedro\", \"Maria\", \"Lucas\",\"Ana\"}\n",
        "dicionario = dict.fromkeys(chaves)\n",
        "print(dicionario)"
      ],
      "execution_count": 0,
      "outputs": []
    },
    {
      "metadata": {
        "id": "BMTKcA5RCXOS",
        "colab_type": "text"
      },
      "cell_type": "markdown",
      "source": [
        "No segundo exemplo, usamos o segundo parâmetro do método ***fromkeys***. "
      ]
    },
    {
      "metadata": {
        "id": "JUmBhzRPCja2",
        "colab_type": "code",
        "colab": {}
      },
      "cell_type": "code",
      "source": [
        "chaves = {\"João\", \"Pedro\", \"Maria\"}\n",
        "valores = \"Estudante\"\n",
        "dicionario = dict.fromkeys(chaves, valores)\n",
        "print(dicionario)"
      ],
      "execution_count": 0,
      "outputs": []
    },
    {
      "metadata": {
        "id": "r8GfdHN8Cpi0",
        "colab_type": "text"
      },
      "cell_type": "markdown",
      "source": [
        "### Exercício 5\n",
        "\n",
        "Crie um novo dicionário a partir da lista dada, em seguida atribua o valor \"profissões\" e mostre na tela a saída."
      ]
    },
    {
      "metadata": {
        "id": "T2DCU7UGCqcD",
        "colab_type": "code",
        "colab": {}
      },
      "cell_type": "code",
      "source": [
        "trabalho = {\"professor\", \"arquiteto\", \"engenheiro\", \"motorista\"}\n"
      ],
      "execution_count": 0,
      "outputs": []
    },
    {
      "metadata": {
        "id": "oaOOvMfuCuBB",
        "colab_type": "text"
      },
      "cell_type": "markdown",
      "source": [
        "## Get\n",
        "\n",
        "*.get(chave, valorPadrao)*\n",
        "\n",
        "Esse método tem a função de acessar um valor de uma chave do dicionário. Semelhante ao acesso padrão, porém o *get* aceita um valor padrão no segundo argumento caso a chave não seja encontrada.\n",
        "\n",
        "O segundo argumento é opcional, caso não seja dado segundo argumento, o valor padrão é \"None\".\n"
      ]
    },
    {
      "metadata": {
        "id": "szfU2N17C2FO",
        "colab_type": "code",
        "colab": {}
      },
      "cell_type": "code",
      "source": [
        "got = {\"daenerys\":\"Dracarys!\", \"john\":\"The winter is coming\"} \n",
        "\n",
        "print(got.get(\"daenerys\")) \n",
        "\n",
        "print(got.get(\"john\")) \n",
        "\n",
        "print(got.get(\"pickle_rick\",\"Ops!\")) "
      ],
      "execution_count": 0,
      "outputs": []
    },
    {
      "metadata": {
        "id": "lM2CwH6AC5Hk",
        "colab_type": "text"
      },
      "cell_type": "markdown",
      "source": [
        "## Keys\n",
        "\n",
        "*.keys()*\n",
        "\n",
        "Esse método tem a função de retornar uma lista contendo todas as *chaves* de um dicionário."
      ]
    },
    {
      "metadata": {
        "id": "HSF3UlhFC7p5",
        "colab_type": "code",
        "colab": {}
      },
      "cell_type": "code",
      "source": [
        "tbbt = { \"sheldon\": \"bazingaaa!\", \"penny\": \"shut up!\", \"leonard\": \"what's going on?\", \"howard\": \"there we go again...\"  }\n",
        "\n",
        "chaves = tbbt.keys();\n",
        "\n",
        "print(chaves);"
      ],
      "execution_count": 0,
      "outputs": []
    },
    {
      "metadata": {
        "id": "iYiPooi9u_oH",
        "colab_type": "text"
      },
      "cell_type": "markdown",
      "source": [
        "Esse método é muito importante pois permite a iteração das chaves do dicionário:"
      ]
    },
    {
      "metadata": {
        "id": "2QwSVbXrvHxA",
        "colab_type": "code",
        "colab": {}
      },
      "cell_type": "code",
      "source": [
        "print(\"As chaves são:\")\n",
        "for i in tbbt.keys():\n",
        "    print(i)"
      ],
      "execution_count": 0,
      "outputs": []
    },
    {
      "metadata": {
        "id": "tTTfCFeVDCPD",
        "colab_type": "text"
      },
      "cell_type": "markdown",
      "source": [
        "## Values\n",
        "\n",
        "*.values()*\n",
        "\n",
        "Esse método retorna uma lista contendo todos os *valores* de um dicionário."
      ]
    },
    {
      "metadata": {
        "id": "ByYsM3-RDILq",
        "colab_type": "code",
        "colab": {}
      },
      "cell_type": "code",
      "source": [
        "tbbt = { \"sheldon\": \"bazingaaa!\", \"penny\": \"shut up!\", \"leonard\": \"what's going on?\", \"howard\": \"there we go again...\"  }\n",
        "\n",
        "valores = tbbt.values();\n",
        "\n",
        "print(valores);"
      ],
      "execution_count": 0,
      "outputs": []
    },
    {
      "metadata": {
        "id": "3GpdvvpjvlnU",
        "colab_type": "text"
      },
      "cell_type": "markdown",
      "source": [
        "Esse método é muito importante pois permite a iteração dos valores de um dicionário:"
      ]
    },
    {
      "metadata": {
        "id": "UrZ28KZ3vvGC",
        "colab_type": "code",
        "colab": {}
      },
      "cell_type": "code",
      "source": [
        "print(\"Os valores são:\")\n",
        "for i in tbbt.values():\n",
        "    print(i)"
      ],
      "execution_count": 0,
      "outputs": []
    },
    {
      "metadata": {
        "id": "e95m2U9fDNFs",
        "colab_type": "text"
      },
      "cell_type": "markdown",
      "source": [
        "## Items\n",
        "\n",
        "*.items()*\n",
        "\n",
        "Esse método tem a função de retornar uma lista contendo todos os pares de *chave* e *valor* do dicionário.\n",
        "\n"
      ]
    },
    {
      "metadata": {
        "id": "V8LmSCfnDTj9",
        "colab_type": "code",
        "colab": {}
      },
      "cell_type": "code",
      "source": [
        "twd = { \"rick\": 47, \"carl\": 19, \"daryl\": 50, \"zombie\": 32}\n",
        "\n",
        "items = twd.items()\n",
        "\n",
        "print(items)"
      ],
      "execution_count": 0,
      "outputs": []
    },
    {
      "metadata": {
        "id": "af7dvTGPuGFZ",
        "colab_type": "text"
      },
      "cell_type": "markdown",
      "source": [
        "Esse método é a junção de *.chaves()* com *.values()*, e retorna as duplas."
      ]
    },
    {
      "metadata": {
        "id": "WO3H0y1LwKbh",
        "colab_type": "code",
        "colab": {}
      },
      "cell_type": "code",
      "source": [
        "for i in twd.items():\n",
        "    print(i)"
      ],
      "execution_count": 0,
      "outputs": []
    },
    {
      "metadata": {
        "id": "9VYYrHHewQ0O",
        "colab_type": "text"
      },
      "cell_type": "markdown",
      "source": [
        "Vamos usar mais uma variável para melhorar"
      ]
    },
    {
      "metadata": {
        "id": "5VWuLZxBwVQd",
        "colab_type": "code",
        "colab": {}
      },
      "cell_type": "code",
      "source": [
        "for personagem , idade in twd.items():\n",
        "    print(personagem , \"tem\" , idade , \"Anos\")"
      ],
      "execution_count": 0,
      "outputs": []
    },
    {
      "metadata": {
        "id": "DBpPzkJXwiUW",
        "colab_type": "text"
      },
      "cell_type": "markdown",
      "source": [
        "Extra: esse comportamento de junção pode ser simulado em diversos casos utilizando a função zip."
      ]
    },
    {
      "metadata": {
        "id": "7c3jSTfOwqzU",
        "colab_type": "code",
        "colab": {}
      },
      "cell_type": "code",
      "source": [
        "for personagem, idade in zip(twd.keys(), twd.values()):\n",
        "    print(personagem , \"tem\" , idade , \"Anos\")"
      ],
      "execution_count": 0,
      "outputs": []
    },
    {
      "metadata": {
        "id": "I56BBggFDUm7",
        "colab_type": "text"
      },
      "cell_type": "markdown",
      "source": [
        "### Exercício 6\n",
        "\n",
        "Abaixo temos *nomes*, um dicionário com um nome para cada letra do alfabeto"
      ]
    },
    {
      "metadata": {
        "id": "xPfmU4icDrFa",
        "colab_type": "code",
        "colab": {}
      },
      "cell_type": "code",
      "source": [
        "nomes = { \"Adeline\": 1, \"Brielle\": 2, \"Crystal\": 3, \"Delilah\": 4, \"Emma\": 5, \"Fiona\": 6, \"Georgia\":7 , \"Hendrix\": 8, \"Isabella\": 9, \"Juliana\": 10, \"Kimber\": 11, \"Lily\": 12, \"Merida\": 13, \"Nora\": 14, \"Orion\": 15, \"Phoenix\": 16, \"Quinn\": 17, \"Randalynn\": 18, \"Staci\": 19, \"Tianna\": 20, \"Ursula\": 21, \"Vivi\": 22, \"Winona\": 23, \"Xenia\": 24, \"Yoli\": 25, \"Zora \": 26 }"
      ],
      "execution_count": 0,
      "outputs": []
    },
    {
      "metadata": {
        "id": "KA2zMyiMz2uU",
        "colab_type": "text"
      },
      "cell_type": "markdown",
      "source": [
        "#### Parte 1\n",
        "\n",
        "Utilizando len, mostre o tamanho de nomes"
      ]
    },
    {
      "metadata": {
        "id": "hK0Mp9aB0I_B",
        "colab_type": "code",
        "colab": {}
      },
      "cell_type": "code",
      "source": [
        ""
      ],
      "execution_count": 0,
      "outputs": []
    },
    {
      "metadata": {
        "id": "98oxL0Hr0LxS",
        "colab_type": "text"
      },
      "cell_type": "markdown",
      "source": [
        "#### Parte 2\n",
        "\n",
        "Itere sobre o dicionário e imprima somente os nomes que possuam a letra \"Y\"\n",
        "\n",
        "Obs: não esqueça que Y pode ser minúsculo ou maiúsculo."
      ]
    },
    {
      "metadata": {
        "id": "D1JBNUKC08D6",
        "colab_type": "code",
        "colab": {}
      },
      "cell_type": "code",
      "source": [
        "for :\n",
        "    if () or () :"
      ],
      "execution_count": 0,
      "outputs": []
    },
    {
      "metadata": {
        "id": "AAqg749Z1AZk",
        "colab_type": "text"
      },
      "cell_type": "markdown",
      "source": [
        "#### Parte 3\n",
        "\n",
        "Itere sobre o dicionário e imprima somente os nomes que possuem números múltiplos de 5"
      ]
    },
    {
      "metadata": {
        "id": "4rRPMcPd1KVX",
        "colab_type": "code",
        "colab": {}
      },
      "cell_type": "code",
      "source": [
        "for :"
      ],
      "execution_count": 0,
      "outputs": []
    },
    {
      "metadata": {
        "id": "Kp4ThUaREoFR",
        "colab_type": "text"
      },
      "cell_type": "markdown",
      "source": [
        "## Popitem\n",
        "O método `popitem()` retorna e remove a chave e o valor do último item adicionado no dicionário.\n"
      ]
    },
    {
      "metadata": {
        "id": "8wo9O7VJEr5_",
        "colab_type": "code",
        "colab": {}
      },
      "cell_type": "code",
      "source": [
        "pessoa = {\n",
        "    'nome':'João',\n",
        "    'Cidade':'Natal',\n",
        "    'idade':20 \n",
        "}\n",
        "\n",
        "pessoa['Bairro'] = 'Lagoa Nova'\n",
        "print(\"Antes do popitem: \", pessoa)\n",
        "resultado = pessoa.popitem()\n",
        "print(\"Depois do popitem: \", pessoa)\n",
        "print(\"Item removido:\", resultado)"
      ],
      "execution_count": 0,
      "outputs": []
    },
    {
      "metadata": {
        "id": "LRa8cI0bEvL3",
        "colab_type": "text"
      },
      "cell_type": "markdown",
      "source": [
        "## Update\n",
        "O método `.update()` atualiza e insere itens no dicionário. O item especificado por paramêtro pode ser um dicionário ou objetivo iterável. "
      ]
    },
    {
      "metadata": {
        "id": "EthmNMe8E0AL",
        "colab_type": "code",
        "colab": {}
      },
      "cell_type": "code",
      "source": [
        "disciplina = {\n",
        "    'nome':'EDB1',\n",
        "    'horario':'35M34',\n",
        "    'professor':'Leo'\n",
        "}\n",
        "print(\"Os dados inicais da disciplina:\", disciplina)\n",
        "disciplina.update(nome='ESTRUTURA DE DADOS BÁSICAS I')\n",
        "print(\"Após atualizar o nome:\", disciplina)\n",
        "disciplina.update(local='A307')\n",
        "print(\"Após inserir o local:\", disciplina)\n",
        "dadosAdicionais = {\n",
        "    'assunto1':'Introdução a python',\n",
        "    'assunto2':'Tipos abstratos de dados'\n",
        "}\n",
        "disciplina.update(dadosAdicionais)\n",
        "print(disciplina)\n"
      ],
      "execution_count": 0,
      "outputs": []
    },
    {
      "metadata": {
        "id": "GpCyOt003Ke7",
        "colab_type": "text"
      },
      "cell_type": "markdown",
      "source": [
        "## Questões Extra"
      ]
    },
    {
      "metadata": {
        "id": "a_w5dsV9E40h",
        "colab_type": "text"
      },
      "cell_type": "markdown",
      "source": [
        "### Extra 1\n",
        "Crie dois dicionários, adicione o segundo no primeiro dicionário, altere algum item e imrpima na tela qual foi o último item adicionado no primeiro dicionário. Por fim, imprima ambos os dicionários. "
      ]
    },
    {
      "metadata": {
        "id": "8DXJBIxFE69H",
        "colab_type": "code",
        "colab": {}
      },
      "cell_type": "code",
      "source": [
        ""
      ],
      "execution_count": 0,
      "outputs": []
    },
    {
      "metadata": {
        "id": "IjVojH7jM2bS",
        "colab_type": "text"
      },
      "cell_type": "markdown",
      "source": [
        "### Extra 2\n",
        "\n",
        "Crie um programa que compare dois dicionários e verifique se suas chaves possuem o mesmo valor, e crie dois dicionários novos, um com os valores iguais e outro dicionário os com valores diferentes.\n",
        "\n",
        "**Ex:**\n",
        "dic1 = { \"key1\": 50, \"key2\": 100, \"key3\": 35, \"key4\": 15}\n",
        "dic2 = { \"key1\": 100, \"key2\": 15, \"key3\":25 , \"key4\": 32}\n",
        "\n",
        "Resultado:\n",
        "\n",
        "dicIguais = { \"key1\": 100, \"key2\":15 }\n",
        "dicDiferentes = { \"key1\": 50, \"key2\":25, \"key3\":15, \"key4\":35, \"key5\": \"32\" }"
      ]
    },
    {
      "metadata": {
        "id": "GYQpgVsuM312",
        "colab_type": "code",
        "colab": {}
      },
      "cell_type": "code",
      "source": [
        ""
      ],
      "execution_count": 0,
      "outputs": []
    },
    {
      "metadata": {
        "id": "wsZnfxuS3D1x",
        "colab_type": "text"
      },
      "cell_type": "markdown",
      "source": [
        "### Extra 3\n",
        "\n",
        "O professor Leonardo está elaborando uma prova, e marcando a quantidade de vezes que cada alternativa apareceu nas questões como certa, ele precisa contabilizar.\n",
        "\n",
        "Ele usou input() para entrada, então é uma string com várias letras de *a* até *e*\n",
        "\n",
        "Faça um programa que use um dicionário para guardar o número de ocorrências de cada letra na variável *texto*, então itere no dicionário para imprimir a quantidade de cada letra, imprima no seguinte formato:\n",
        "\n",
        "\"`A alternativa x apareceu n vezes`\"\n",
        "\n",
        "Dica: use *in* para verificar se a chave está no dicionário"
      ]
    },
    {
      "metadata": {
        "id": "y4ViXOsr3WFz",
        "colab_type": "code",
        "colab": {}
      },
      "cell_type": "code",
      "source": [
        "texto = \"abcdeabcdebedcdeceebedcedbecdbecdbebebecdeeeedebedbbde\"\n",
        "\n",
        "\n"
      ],
      "execution_count": 0,
      "outputs": []
    },
    {
      "metadata": {
        "id": "mmcOcn3w6r2J",
        "colab_type": "text"
      },
      "cell_type": "markdown",
      "source": [
        "### Extra 4"
      ]
    },
    {
      "metadata": {
        "id": "jnabax-86K5o",
        "colab_type": "text"
      },
      "cell_type": "markdown",
      "source": [
        "#### Parte 1\n",
        "\n",
        "O professor Leonardo aplicou a prova da Olimíada Brasileira de Informática, e colocou as notas de cada aluno um dicionário, agora Leonardo quer organizar outro dicionário para ter uma melhor noção dos resultados.\n",
        "\n",
        "Crie o \"`novoDicionario`\", ele terá 5 chaves:\n",
        "\n",
        "- 10:\n",
        "- 9:\n",
        "- 8:\n",
        "- 7:\n",
        "- \"menor que 7\": \n",
        "\n",
        "Para cada chave, o valor será uma lista, onde o primeiro elemento é o número de alunos com a nota (da chave), e os demais argumentos são os nomes dos alunos, começando do índice 1.\n",
        "\n",
        "Exemplo: Digamos que somente dois alunos, Leonardo e Isaac, tiraram 10, então espera-se que exista a entrada:\n",
        "\n",
        "`10: [2 , \"Leonardo\" , \"Isaac\"]`\n",
        "\n",
        "\n",
        "Também digamos que nenhum aluno teve nota 7, então espera-se a entrada:\n",
        "\n",
        "`7: [0]`"
      ]
    },
    {
      "metadata": {
        "id": "gLH9ka3s7vcJ",
        "colab_type": "code",
        "colab": {}
      },
      "cell_type": "code",
      "source": [
        "nomes = { \"Adeline\": 10, \"Emma\": 1, \"Zora \": 10, \"Lily\": 10, \"Yoli\": 10, \"Brielle\": 10, \"Fiona\": 2, \"Ursula\": 3, \"Randalynn\": 4, \"Quinn\": 6, \"Juliana\": 7, \"Vivi\": 7, \"Nora\": 7, \"Kimber\": 7, \"Xenia\": 7, \"Winona\": 7, \"Crystal\": 8, \"Tianna\": 8, \"Merida\": 8, \"Delilah\": 8, \"Hendrix\": 8, \"Staci\": 8, \"Isabella\": 9, \"Phoenix\": 9, \"Georgia\":9, \"Orion\": 9}\n"
      ],
      "execution_count": 0,
      "outputs": []
    },
    {
      "metadata": {
        "id": "v7eprfNV6v8u",
        "colab_type": "text"
      },
      "cell_type": "markdown",
      "source": [
        "#### Parte 2\n",
        "\n",
        "Repita a parte 1, as chaves serão as mesmas, mas vamos mudar os valores, ao invés de listas vamos usar outros dicionários.\n",
        "\n",
        "Para cada chave, 10, 9, 8, 7 e \"menor que 7\", teremos outro dicionário, com as chaves \"quantidade\" e \"nomes\"\n",
        "\n",
        "Quantidade será o valor inteiro, e nomes será uma lista novamente.\n",
        "\n",
        "Exemplo:\n",
        "\n",
        "Exemplo: Digamos que somente dois alunos, Leonardo e Isaac, tiraram 10, então espera-se que exista a entrada:\n",
        "\n",
        "\\\n",
        "\n",
        "```10: { \\\n",
        "\"quantidade\": 2, \\\n",
        "\"nomes\": [\"Leonardo\" , \"Isaac\"] \\\n",
        "}```\n",
        "\n",
        "\\\n",
        "\n",
        "Também digamos que nenhum aluno teve nota 7, então espera-se a entrada:\n",
        "\n",
        "\n",
        "```10: { \\\n",
        "\"quantidade\": 0, \\\n",
        "\"nomes\": [] \\\n",
        "}```\n"
      ]
    },
    {
      "metadata": {
        "id": "99cHBUGb7wYj",
        "colab_type": "code",
        "colab": {}
      },
      "cell_type": "code",
      "source": [
        "nomes = { \"Adeline\": 10, \"Emma\": 1, \"Zora \": 10, \"Lily\": 10, \"Yoli\": 10, \"Brielle\": 10, \"Fiona\": 2, \"Ursula\": 3, \"Randalynn\": 4, \"Quinn\": 6, \"Juliana\": 7, \"Vivi\": 7, \"Nora\": 7, \"Kimber\": 7, \"Xenia\": 7, \"Winona\": 7, \"Crystal\": 8, \"Tianna\": 8, \"Merida\": 8, \"Delilah\": 8, \"Hendrix\": 8, \"Staci\": 8, \"Isabella\": 9, \"Phoenix\": 9, \"Georgia\":9, \"Orion\": 9}\n"
      ],
      "execution_count": 0,
      "outputs": []
    }
  ]
}
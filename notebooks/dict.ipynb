{
  "nbformat": 4,
  "nbformat_minor": 0,
  "metadata": {
    "colab": {
      "name": "Notebook Dicionarios.ipynb",
      "version": "0.3.2",
      "provenance": [],
      "collapsed_sections": [],
      "toc_visible": true
    },
    "kernelspec": {
      "name": "python3",
      "display_name": "Python 3"
    }
  },
  "cells": [
    {
      "metadata": {
        "id": "IucX_uN0BNAa",
        "colab_type": "text"
      },
      "cell_type": "markdown",
      "source": [
        "# Dicionários\n",
        "## Atividade de Estrutura de Dados Básicos, IMD\n",
        "## Professor: Leonardo Bezerra\n",
        "\n",
        "\\\n",
        "\n",
        "---\n",
        "\n",
        "\\\n",
        "\n",
        "Participantes (link do github):\n",
        "\n",
        "* [João Marcos](https://github.com/marcospb19) \n",
        "\n",
        "* [Marlon Secundo](https://github.com/marlonsecundo) \n",
        "\n",
        "* [João Vítor Fonseca](https://github.com/vitor177) \n",
        "\n",
        "* [Marcelo Moura](https://github.com/marcelomoura1511)"
      ]
    },
    {
      "metadata": {
        "id": "6UDLvcpmF7sA",
        "colab_type": "text"
      },
      "cell_type": "markdown",
      "source": [
        "# Introdução"
      ]
    },
    {
      "metadata": {
        "id": "r20Np1WI4CUM",
        "colab_type": "text"
      },
      "cell_type": "markdown",
      "source": [
        "## O que é um dicionário?"
      ]
    },
    {
      "metadata": {
        "id": "5ZMP7iEyKCT1",
        "colab_type": "text"
      },
      "cell_type": "markdown",
      "source": [
        "\n",
        "Dicionário é uma estrutura de dados abstrata que pode guardar informações, essas informações precisam ser acessadas através de chaves únicas. \\\n",
        "Dicionários são variáveis no python, podem ser deletadas, atribuídas, enfim... \\\n",
        "Diferentemente de listas e tuplas, dicionários não usam o conceito de continuidade (0, 1, 2...)."
      ]
    },
    {
      "metadata": {
        "id": "11LuljRbRrun",
        "colab_type": "code",
        "outputId": "00416fa3-80cf-4de2-fbbb-aec2b045fbd4",
        "colab": {
          "base_uri": "https://localhost:8080/",
          "height": 35
        }
      },
      "cell_type": "code",
      "source": [
        "import sys\n",
        "print(sys.version[:5])"
      ],
      "execution_count": 0,
      "outputs": [
        {
          "output_type": "stream",
          "text": [
            "3.6.7\n"
          ],
          "name": "stdout"
        }
      ]
    },
    {
      "metadata": {
        "id": "J9xUFZPISPgj",
        "colab_type": "text"
      },
      "cell_type": "markdown",
      "source": [
        "Estamos usando a versão 3.6, alguns métodos de dicionários mudam de nome ou comportamento entre diferentes versões (lembre-se disso quando for usar em outras versões).\n",
        "\n",
        "\n",
        "Antes de começar: algumas partes do código precisam da anterior, então tente reproduzir linearmente.\n"
      ]
    },
    {
      "metadata": {
        "id": "3d6L9R4CN-d2",
        "colab_type": "text"
      },
      "cell_type": "markdown",
      "source": [
        "## Básico"
      ]
    },
    {
      "metadata": {
        "id": "4qVEzt55paKY",
        "colab_type": "text"
      },
      "cell_type": "markdown",
      "source": [
        "Vamos começar inicializando dois dicionários vazios, então vamos imprimir ambos e verificar o seus tipos:"
      ]
    },
    {
      "metadata": {
        "id": "SCpOnbbKRg5E",
        "colab_type": "code",
        "outputId": "d3e8c25f-9292-4112-cc0b-b4146ece7d02",
        "colab": {
          "base_uri": "https://localhost:8080/",
          "height": 85
        }
      },
      "cell_type": "code",
      "source": [
        "var1       = {}\n",
        "dicionario = {}\n",
        "\n",
        "print(var1)\n",
        "print(dicionario)\n",
        "\n",
        "print(\"A variável \\'var1\\'       é do tipo: \" , type(var1))\n",
        "print(\"A variável \\'dicionario\\' é do tipo: \" , type(dicionario))"
      ],
      "execution_count": 0,
      "outputs": [
        {
          "output_type": "stream",
          "text": [
            "{}\n",
            "{}\n",
            "A variável 'var1'       é do tipo:  <class 'dict'>\n",
            "A variável 'dicionario' é do tipo:  <class 'dict'>\n"
          ],
          "name": "stdout"
        }
      ]
    },
    {
      "metadata": {
        "id": "JmBtV91MTB1q",
        "colab_type": "text"
      },
      "cell_type": "markdown",
      "source": [
        "Vamos apagar (assim como qualquer variável) os dicionários 'var1' e 'dicionario', e criar 'd'"
      ]
    },
    {
      "metadata": {
        "id": "Tm53WH6suour",
        "colab_type": "code",
        "outputId": "9ed4f917-a5b6-4076-a21c-22438c434a1a",
        "colab": {
          "base_uri": "https://localhost:8080/",
          "height": 34
        }
      },
      "cell_type": "code",
      "source": [
        "del var1\n",
        "del dicionario\n",
        "\n",
        "d = {}\n",
        "print(d , type(d))"
      ],
      "execution_count": 0,
      "outputs": [
        {
          "output_type": "stream",
          "text": [
            "{} <class 'dict'>\n"
          ],
          "name": "stdout"
        }
      ]
    },
    {
      "metadata": {
        "id": "erxNWRnnu8DG",
        "colab_type": "text"
      },
      "cell_type": "markdown",
      "source": [
        "Agora vamos adicionar duas entradas à 'd'"
      ]
    },
    {
      "metadata": {
        "id": "E1B8ZkVDTXkx",
        "colab_type": "code",
        "outputId": "ffb52efd-1390-452f-abf5-f8465885b4c2",
        "colab": {
          "base_uri": "https://localhost:8080/",
          "height": 68
        }
      },
      "cell_type": "code",
      "source": [
        "d[3] = 100\n",
        "d[1] = 10\n",
        "d[10] = 0\n",
        "\n",
        "print(d[3])\n",
        "print(d[1])\n",
        "print(d[10])"
      ],
      "execution_count": 0,
      "outputs": [
        {
          "output_type": "stream",
          "text": [
            "100\n",
            "10\n",
            "0\n"
          ],
          "name": "stdout"
        }
      ]
    },
    {
      "metadata": {
        "id": "AANBeHPhv9yU",
        "colab_type": "text"
      },
      "cell_type": "markdown",
      "source": [
        "Adicionamos 3 chaves, 3, 1 e 10. Perceba que não há sequência ou relação entre os números\n",
        "\n",
        "\n",
        "Ao escrever: \\\n",
        "`d[3] = 100` , \\\n",
        "estamos dizendo que a chave **3** possui valor **100** \\\n",
        "\n",
        "Chaves são únicas e simplesmente apontam para seu conteúdo, sem mistério.\n",
        "\n",
        "Vamos imprimir 'd':"
      ]
    },
    {
      "metadata": {
        "id": "Wlk1wx6xw8rj",
        "colab_type": "code",
        "outputId": "2cd9b4b5-ccf6-4360-890b-09ad35690a8b",
        "colab": {
          "base_uri": "https://localhost:8080/",
          "height": 34
        }
      },
      "cell_type": "code",
      "source": [
        "print(\"d =\" , d)"
      ],
      "execution_count": 0,
      "outputs": [
        {
          "output_type": "stream",
          "text": [
            "d = {3: 100, 1: 10, 10: 0}\n"
          ],
          "name": "stdout"
        }
      ]
    },
    {
      "metadata": {
        "id": "JdORNEPaxCe8",
        "colab_type": "text"
      },
      "cell_type": "markdown",
      "source": [
        "Vou separar em linhas para que possamos entender melhor:\n",
        "\n",
        "\\\n",
        "\n",
        "`d = { ` \n",
        "> ` 3: 100, \\\n",
        "1: 10, \\\n",
        "10: 0`\n",
        "\n",
        "}\n",
        "\n",
        "\\\n",
        "\n",
        "Podemos ver claramente, cada chave na esquerda com seu valor correspondente na direita, e cada entrada separada por vírgula."
      ]
    },
    {
      "metadata": {
        "id": "bzUAUrqsyA5w",
        "colab_type": "text"
      },
      "cell_type": "markdown",
      "source": [
        "Ao invés de criarmos um dicionário vazio e ir adicionando valores individualmente, podemos criar um dicionário com todos esses valores.\n",
        "\n",
        "Só vamos precisar mudar um pouco o texto escrito (vejam os comentários abaixo)."
      ]
    },
    {
      "metadata": {
        "id": "QpRiqqjx1WI1",
        "colab_type": "code",
        "outputId": "6cc954c5-73d1-4e03-83d3-93f1f5ffba11",
        "colab": {
          "base_uri": "https://localhost:8080/",
          "height": 51
        }
      },
      "cell_type": "code",
      "source": [
        "# Criando um dicionário vazio e adicionando os valores/chaves\n",
        "d = {}\n",
        "d[3] = 100\n",
        "d[1] = 10\n",
        "d[10] = 0\n",
        "\n",
        "# Mostrando os valores\n",
        "print(d[3] , d[1] , d[10])\n",
        "\n",
        "\n",
        "# Criando um dicionário com valores/chaves\n",
        "d = {\n",
        "\t3: 100,\n",
        "\t1: 10,\n",
        "\t10: 0\n",
        "}\n",
        "\n",
        "# Mostrando novamente os valores\n",
        "print(d[3] , d[1] , d[10])"
      ],
      "execution_count": 0,
      "outputs": [
        {
          "output_type": "stream",
          "text": [
            "100 10 0\n",
            "100 10 0\n"
          ],
          "name": "stdout"
        }
      ]
    },
    {
      "metadata": {
        "id": "sPlM5IexOL7o",
        "colab_type": "text"
      },
      "cell_type": "markdown",
      "source": [
        "O operador `del` também é utilizado para remover entradas"
      ]
    },
    {
      "metadata": {
        "id": "H-tYULf9Oa6q",
        "colab_type": "code",
        "outputId": "5441af76-47bf-4ea1-e521-36e470223a0a",
        "colab": {
          "base_uri": "https://localhost:8080/",
          "height": 34
        }
      },
      "cell_type": "code",
      "source": [
        "del d[3]\n",
        "del d[1]\n",
        "print(d)"
      ],
      "execution_count": 0,
      "outputs": [
        {
          "output_type": "stream",
          "text": [
            "{10: 0}\n"
          ],
          "name": "stdout"
        }
      ]
    },
    {
      "metadata": {
        "id": "iSZ6Lcxk5o3C",
        "colab_type": "text"
      },
      "cell_type": "markdown",
      "source": [
        "### Exercício 1 "
      ]
    },
    {
      "metadata": {
        "id": "zBnDZOenQFMM",
        "colab_type": "text"
      },
      "cell_type": "markdown",
      "source": [
        "\n",
        "#### Parte 1\n",
        "\n",
        "(Modifique a declaração do dicionario fazendo as correções solicitadas)\n",
        "\n",
        "- remova a chave 2019\n",
        "\n",
        "- Mude o valor da chave version para \"3.6.7\"\n",
        "\n",
        "- Adicione a chave \"language\" com o valor \"python\""
      ]
    },
    {
      "metadata": {
        "id": "xUVwyq3IPSGL",
        "colab_type": "code",
        "colab": {}
      },
      "cell_type": "code",
      "source": [
        "dicionario = {\n",
        "\t\"version\": \"3.6.2\",\n",
        "\t2019: 0\n",
        "}"
      ],
      "execution_count": 0,
      "outputs": []
    },
    {
      "metadata": {
        "id": "TMHgGMCa4sKk",
        "colab_type": "text"
      },
      "cell_type": "markdown",
      "source": [
        "#### Parte 2\n",
        "\n",
        "Refaça as mudanças da parte 1, porém dessa vez você não poderá mudar a declaração\n",
        "\n",
        "\n"
      ]
    },
    {
      "metadata": {
        "id": "URV-o1k0N5Yl",
        "colab_type": "text"
      },
      "cell_type": "markdown",
      "source": [
        "## Avançado"
      ]
    },
    {
      "metadata": {
        "id": "5V1rxbTr0hwt",
        "colab_type": "text"
      },
      "cell_type": "markdown",
      "source": [
        "Nos 3 exemplos que vimos, tanto chaves quanto valores eram inteiros, porém também podemos usar outros tipos:\n",
        "\n",
        "podemos usar int, float, e strings para chaves\n",
        "e para valores podemos usar quase qualquer coisa.\n",
        "\n",
        "\\\n",
        "\n",
        "Veja esse exemplo maluco:"
      ]
    },
    {
      "metadata": {
        "id": "cZosf8EGWUrF",
        "colab_type": "code",
        "outputId": "d3cdd40f-b575-41cd-97d9-a8a8841e9959",
        "colab": {
          "base_uri": "https://localhost:8080/",
          "height": 238
        }
      },
      "cell_type": "code",
      "source": [
        "d = {\n",
        "\t-5 : 10.5,\n",
        "\t64.5 : \"meu peso\",\n",
        "\n",
        "\t\"lista\" : [1 , 2 , 3],\n",
        "\n",
        "\t\"dicionario\" : {\n",
        "\t\t10 : \"dez\",\n",
        "\t}\n",
        "}\n",
        "\n",
        "print(\"Dados:\")\n",
        "print(d[-5])\n",
        "print(d[64.5])\n",
        "print(d[\"lista\"])\n",
        "print(d[\"dicionario\"])\n",
        "print(d[\"dicionario\"][10])\n",
        "\n",
        "print(\"\\nTipos:\")\n",
        "print(type(d[-5]))\n",
        "print(type(d[64.5]))\n",
        "print(type(d[\"lista\"]))\n",
        "print(type(d[\"dicionario\"]))\n",
        "print(type(d[\"dicionario\"][10]))"
      ],
      "execution_count": 0,
      "outputs": [
        {
          "output_type": "stream",
          "text": [
            "Tipos:\n",
            "<class 'float'>\n",
            "<class 'str'>\n",
            "<class 'list'>\n",
            "<class 'dict'>\n",
            "<class 'str'>\n",
            "\n",
            "Dados:\n",
            "10.5\n",
            "meu peso\n",
            "[1, 2, 3]\n",
            "{10: 'dez'}\n",
            "dez\n"
          ],
          "name": "stdout"
        }
      ]
    },
    {
      "metadata": {
        "id": "aktkq6KYW0Ue",
        "colab_type": "text"
      },
      "cell_type": "markdown",
      "source": [
        "A chave \"Dicionário\" possui um dicionário, veja outro exemplo desse empacotamento:"
      ]
    },
    {
      "metadata": {
        "id": "XvbzSH4YXMDo",
        "colab_type": "code",
        "colab": {}
      },
      "cell_type": "code",
      "source": [
        "tabelaPeriodica = {\n",
        "\n",
        "\t\"Cl\" : {\n",
        "\t\t\"Massa\" : 22.990,\n",
        "\t\t\"Número atômico\" : 11,\n",
        "\t\t\"Nome\" : \"Sódio\"\n",
        "\t},\n",
        "\n",
        "\t\"Na\" : [\"Cloro\" , 35.453 , 17]\n",
        "}"
      ],
      "execution_count": 0,
      "outputs": []
    },
    {
      "metadata": {
        "id": "JF-AZ9Z_ZdOU",
        "colab_type": "text"
      },
      "cell_type": "markdown",
      "source": [
        "O dicionário chamado tabelaPeriodica possui duas chaves:\n",
        "\"Cl\" e \"Na\"\n",
        "\n",
        "\"Cl\" é um dicionário que possui 3 chaves\n",
        "\n",
        "\"Na\" é uma lista com 3 elementos\n",
        "\n",
        "Veja como é feito o acesso em vários níveis dentro de um dicionário:"
      ]
    },
    {
      "metadata": {
        "id": "Cu54c5X6ac30",
        "colab_type": "code",
        "outputId": "65284e41-2e02-4d2e-9a12-b0a68fcd98f2",
        "colab": {
          "base_uri": "https://localhost:8080/",
          "height": 136
        }
      },
      "cell_type": "code",
      "source": [
        "print(tabelaPeriodica[\"Cl\"][\"Nome\"])\n",
        "print(\"Massa:\" , tabelaPeriodica[\"Cl\"][\"Massa\"])\n",
        "print(\"Número atômico:\" , tabelaPeriodica[\"Cl\"][\"Número atômico\"])\n",
        "\n",
        "print() # Pula uma linha\n",
        "\n",
        "print(tabelaPeriodica[\"Na\"][0])\n",
        "print(\"Massa:\" , tabelaPeriodica[\"Na\"][1])\n",
        "print(\"Número atômico:\" , tabelaPeriodica[\"Na\"][2])"
      ],
      "execution_count": 0,
      "outputs": [
        {
          "output_type": "stream",
          "text": [
            "Sódio\n",
            "Massa: 22.99\n",
            "Número atômico: 11\n",
            "\n",
            "Cloro\n",
            "Massa: 35.453\n",
            "Número atômico: 17\n"
          ],
          "name": "stdout"
        }
      ]
    },
    {
      "metadata": {
        "id": "6u91ly7PbWT-",
        "colab_type": "text"
      },
      "cell_type": "markdown",
      "source": [
        "Acessamos o elemento do elemento, ou seja\n",
        "\n",
        "dict[x][y]\n",
        "\n",
        "Poderia ser dict[x][y][z][...]..."
      ]
    },
    {
      "metadata": {
        "id": "UWiZIdGSLPms",
        "colab_type": "text"
      },
      "cell_type": "markdown",
      "source": [
        ""
      ]
    },
    {
      "metadata": {
        "id": "UAJx2JSizLZD",
        "colab_type": "text"
      },
      "cell_type": "markdown",
      "source": [
        "# Métodos\n",
        "\n",
        "Vamos aprender alguns métodos para facilitar o uso dos dicionários.\n",
        "\n",
        "DICA IMPORTANTÍSSIMA:\n",
        "\n",
        "Quando for usar os métodos de um dicionário, lista, conjunto ou qualquer outro tipo de dado abstrato, use a função dir para relembrar todos os métodos!\n",
        "\n",
        "(os métodos mais importantes são os que não possuem a estrutura `__nome__`, veja os que estão no final, que são mais interessantes)"
      ]
    },
    {
      "metadata": {
        "id": "yLk5dN7Rz2al",
        "colab_type": "code",
        "outputId": "f400ae8e-3952-4a71-b2a1-064f6f0b142e",
        "colab": {
          "base_uri": "https://localhost:8080/",
          "height": 54
        }
      },
      "cell_type": "code",
      "source": [
        "exemplo = {}\n",
        "print(dir(exemplo))\n",
        "\n",
        "# Python sabe que 'exemplo' é um dicionário, então vai nos mostrar todos os métodos do dicionário exemplo\n",
        "\n",
        "# Essa dica também vale para outros tipos de dados, e bibliotecas!!!\n",
        "# import math\n",
        "# print(dir(math))\n",
        "# lista = []\n",
        "# print(dir(lista))"
      ],
      "execution_count": 0,
      "outputs": [
        {
          "output_type": "stream",
          "text": [
            "['__class__', '__contains__', '__delattr__', '__delitem__', '__dir__', '__doc__', '__eq__', '__format__', '__ge__', '__getattribute__', '__getitem__', '__gt__', '__hash__', '__init__', '__init_subclass__', '__iter__', '__le__', '__len__', '__lt__', '__ne__', '__new__', '__reduce__', '__reduce_ex__', '__repr__', '__setattr__', '__setitem__', '__sizeof__', '__str__', '__subclasshook__', 'clear', 'copy', 'fromkeys', 'get', 'items', 'keys', 'pop', 'popitem', 'setdefault', 'update', 'values']\n"
          ],
          "name": "stdout"
        }
      ]
    },
    {
      "metadata": {
        "id": "v6c1YOlO0Z8w",
        "colab_type": "text"
      },
      "cell_type": "markdown",
      "source": [
        "No final do dir vemos:\n",
        "`'clear', 'copy', 'fromkeys', 'get', 'items', 'keys', 'pop', 'popitem', 'setdefault', 'update', 'values'`\n",
        "\n",
        "Vamos falar sobre eles!"
      ]
    },
    {
      "metadata": {
        "id": "_eQ_QnYfBrP1",
        "colab_type": "text"
      },
      "cell_type": "markdown",
      "source": [
        "## Clear\n",
        "\n",
        "O método clear vai nos servir para remover todos os elementos do dicionário."
      ]
    },
    {
      "metadata": {
        "id": "-DQoE0k-ByLA",
        "colab_type": "code",
        "outputId": "72c983d7-9324-490d-9f38-7fad2216f631",
        "colab": {
          "base_uri": "https://localhost:8080/",
          "height": 35
        }
      },
      "cell_type": "code",
      "source": [
        "tabelaPeriodica.clear()\n",
        "# Ufa, limpamos aquela bagunça\n",
        "print(tabelaPeriodica)"
      ],
      "execution_count": 0,
      "outputs": [
        {
          "output_type": "stream",
          "text": [
            "{}\n"
          ],
          "name": "stdout"
        }
      ]
    },
    {
      "metadata": {
        "id": "1gbUUCTrBzpB",
        "colab_type": "text"
      },
      "cell_type": "markdown",
      "source": [
        "**Exercício**\n",
        "Dado o dicionário abaixo, remova a chave \"Amarelo\" com o método dado, e em seguida mostre na tela como ficou o resultado. Por último, remova todo o conteúdo e imprima na tela."
      ]
    },
    {
      "metadata": {
        "id": "_l_UX1yOB3-b",
        "colab_type": "code",
        "colab": {}
      },
      "cell_type": "code",
      "source": [
        ""
      ],
      "execution_count": 0,
      "outputs": []
    },
    {
      "metadata": {
        "id": "xhDkveA2B7Io",
        "colab_type": "text"
      },
      "cell_type": "markdown",
      "source": [
        "## Copy\n",
        "\n",
        "O método copy vai nos retornar um outro dicionário, que contém o mesmo conteúdo. Veja um exemplo em que é usado apenas atribuição, sem o uso do método proposto.\n"
      ]
    },
    {
      "metadata": {
        "id": "n5HtKB39B96C",
        "colab_type": "code",
        "outputId": "49bb9c83-7915-4bf9-f817-e6771b99a38f",
        "colab": {
          "base_uri": "https://localhost:8080/",
          "height": 35
        }
      },
      "cell_type": "code",
      "source": [
        "dicionario = {\"Maçã\":\"1\", \"Banana\":\"2\", \"Uva\":\"3\"}\n",
        "dicionariocopia = dicionario\n",
        "dicionario.clear()\n",
        "print(dicionariocopia)"
      ],
      "execution_count": 0,
      "outputs": [
        {
          "output_type": "stream",
          "text": [
            "{}\n"
          ],
          "name": "stdout"
        }
      ]
    },
    {
      "metadata": {
        "id": "F6eGDHeJCBdF",
        "colab_type": "text"
      },
      "cell_type": "markdown",
      "source": [
        "Note que mesmo atribuindo o dicionário ao dicionario cópia, eu não consigo copiar o conteúdo do dicionário no momento que eu quero. Numa eventual alteração eu perderia alguns dados, por exemplo neste último caso. Para isso, usamos o método copy.\n"
      ]
    },
    {
      "metadata": {
        "id": "Hn8qYEPZCK5E",
        "colab_type": "code",
        "outputId": "8c55b60a-a766-4a66-fb2c-e0e4073757e9",
        "colab": {
          "base_uri": "https://localhost:8080/",
          "height": 35
        }
      },
      "cell_type": "code",
      "source": [
        "dicionario = {\"Maçã\":\"1\", \"Banana\":\"2\", \"Uva\":\"3\"}\n",
        "dicionariocopia = dicionario.copy()\n",
        "dicionario.clear()\n",
        "print(dicionariocopia)"
      ],
      "execution_count": 0,
      "outputs": [
        {
          "output_type": "stream",
          "text": [
            "{'Maçã': '1', 'Banana': '2', 'Uva': '3'} {}\n"
          ],
          "name": "stdout"
        }
      ]
    },
    {
      "metadata": {
        "id": "Qfl8X88-CLi9",
        "colab_type": "text"
      },
      "cell_type": "markdown",
      "source": [
        "**Exercício** Dado o dicionário abaixo, atribua as informações à um dicionário reserva de cópia chamado dicionario_materias. Remova todo o conteúdo do dicionário principal e veja como ficou a saída do dicionário reserva. \n",
        "\n",
        "Agora é com você!"
      ]
    },
    {
      "metadata": {
        "id": "uk-XdfsSCPbn",
        "colab_type": "code",
        "colab": {}
      },
      "cell_type": "code",
      "source": [
        "dicionario = {\"EDB\":\"15\", \"LP1\":\"25\", \"FMC2\":\"41\", \"ITP\":\"78\"}"
      ],
      "execution_count": 0,
      "outputs": []
    },
    {
      "metadata": {
        "id": "dVtFVI8CCQ6Y",
        "colab_type": "text"
      },
      "cell_type": "markdown",
      "source": [
        "## Fromkeys\n",
        "\n",
        "O método fromkeys vai nos servir para retornar um novo dicionário com a sequência dos elementos fornecida como as chaves do dicionário. \n",
        "Ele tem dois parámetros:\n",
        "1.   Sequence: sequência dos elementos que serão usados usados como chave para o dicionário.\n",
        "2.   Value (opcional) : valor definido para cada elemento do dicionário.\n",
        "\n",
        "Obs: Caso o valor não seja especificado, é usado ***None*** por padrão.\n",
        "\n",
        "Neste primeiro exemplo, o ***dicionario*** está recebendo um novo dicionário, onde a sequência dos elementos são dados pela lista ***chaves***"
      ]
    },
    {
      "metadata": {
        "id": "QU87nRbrCT8S",
        "colab_type": "code",
        "outputId": "dbecdd73-f269-4403-bbeb-c7dc2b6df44f",
        "colab": {
          "base_uri": "https://localhost:8080/",
          "height": 34
        }
      },
      "cell_type": "code",
      "source": [
        "chaves = {\"João\", \"Pedro\", \"Maria\", \"Lucas\",\"Ana\"}\n",
        "dicionario = dict.fromkeys(chaves)\n",
        "print(dicionario)"
      ],
      "execution_count": 0,
      "outputs": [
        {
          "output_type": "stream",
          "text": [
            "{'João': None, 'Ana': None, 'Maria': None, 'Pedro': None, 'Lucas': None}\n"
          ],
          "name": "stdout"
        }
      ]
    },
    {
      "metadata": {
        "id": "BMTKcA5RCXOS",
        "colab_type": "text"
      },
      "cell_type": "markdown",
      "source": [
        "No segundo exemplo, usamos o segundo parâmetro do método ***fromkeys***. "
      ]
    },
    {
      "metadata": {
        "id": "JUmBhzRPCja2",
        "colab_type": "code",
        "colab": {}
      },
      "cell_type": "code",
      "source": [
        "chaves = {\"João\", \"Pedro\", \"Maria\"}\n",
        "valores = \"Estudante\"\n",
        "dicionario = dict.fromkeys(chaves, valores)\n",
        "print(dicionario)"
      ],
      "execution_count": 0,
      "outputs": []
    },
    {
      "metadata": {
        "id": "r8GfdHN8Cpi0",
        "colab_type": "text"
      },
      "cell_type": "markdown",
      "source": [
        "**Exercício** Crie um novo dicionário a partir da lista dada, em seguida atribua o valor \"profissões\" e mostre na tela a saída."
      ]
    },
    {
      "metadata": {
        "id": "T2DCU7UGCqcD",
        "colab_type": "code",
        "colab": {}
      },
      "cell_type": "code",
      "source": [
        "trabalho = {\"professor\", \"arquiteto\", \"engenheiro\", \"motorista\"}\n"
      ],
      "execution_count": 0,
      "outputs": []
    },
    {
      "metadata": {
        "id": "oaOOvMfuCuBB",
        "colab_type": "text"
      },
      "cell_type": "markdown",
      "source": [
        "## Get\n",
        "\n",
        "*.get(chave, valorPadrao)*\n",
        "\n",
        "Esse método tem a função de acessar um valor de uma chave do dicionário. Além disso o *get* fornece um valor padrão caso a chave não seja encontrada.\n"
      ]
    },
    {
      "metadata": {
        "id": "szfU2N17C2FO",
        "colab_type": "code",
        "colab": {}
      },
      "cell_type": "code",
      "source": [
        "got = {\"daenerys\":\"Dracarys!\", \"john\":\"The winter is coming\"} \n",
        "\n",
        "print(got.get(\"daenerys\")) \n",
        "\n",
        "print(got.get(\"john\")) \n",
        "\n",
        "print(got.get(\"pickle_rick\",\"Ops!\")) "
      ],
      "execution_count": 0,
      "outputs": []
    },
    {
      "metadata": {
        "id": "lM2CwH6AC5Hk",
        "colab_type": "text"
      },
      "cell_type": "markdown",
      "source": [
        "## Items\n",
        "\n",
        "*.items()*\n",
        "\n",
        "Esse método tem a função de retornar uma lista contendo todos os pares de *chave* e *valor* do dicionário.\n",
        "\n"
      ]
    },
    {
      "metadata": {
        "id": "HSF3UlhFC7p5",
        "colab_type": "code",
        "colab": {}
      },
      "cell_type": "code",
      "source": [
        "twd = { \"rick\": 47, \"carl\": 19, \"daryl\": 50, \"zombie\": 32}\n",
        "\n",
        "items = twd.items()\n",
        "\n",
        "print(items)"
      ],
      "execution_count": 0,
      "outputs": []
    },
    {
      "metadata": {
        "id": "tTTfCFeVDCPD",
        "colab_type": "text"
      },
      "cell_type": "markdown",
      "source": [
        "## Keys\n",
        "\n",
        "*.keys()*\n",
        "\n",
        "Esse método tem a função de retornar uma lista contendo todas as *chaves* de um dicionário."
      ]
    },
    {
      "metadata": {
        "id": "ByYsM3-RDILq",
        "colab_type": "code",
        "colab": {}
      },
      "cell_type": "code",
      "source": [
        "tbbt = { \"sheldon\": \"bazingaaa!\", \"penny\": \"shut up!\", \"leonard\": \"what's going on?\", \"howard\": \"there we go again...\"  }\n",
        "\n",
        "chaves = tbbt.keys();\n",
        "\n",
        "print(chaves);"
      ],
      "execution_count": 0,
      "outputs": []
    },
    {
      "metadata": {
        "id": "e95m2U9fDNFs",
        "colab_type": "text"
      },
      "cell_type": "markdown",
      "source": [
        "## Values\n",
        "\n",
        "*.values()*\n",
        "\n",
        "Esse método possui a função de retornar uma lista contendo todos os *valores* de um dicionário."
      ]
    },
    {
      "metadata": {
        "id": "V8LmSCfnDTj9",
        "colab_type": "code",
        "colab": {}
      },
      "cell_type": "code",
      "source": [
        "tbbt = { \"sheldon\": \"bazingaaa!\", \"penny\": \"shut up!\", \"leonard\": \"what's going on?\", \"howard\": \"there we go again...\"  }\n",
        "\n",
        "valores = tbbt.values();\n",
        "\n",
        "print(valores);"
      ],
      "execution_count": 0,
      "outputs": []
    },
    {
      "metadata": {
        "id": "I56BBggFDUm7",
        "colab_type": "text"
      },
      "cell_type": "markdown",
      "source": [
        "## Exercício\n",
        "\n",
        "\n",
        "Crie um dicionario com personagens de GOT e suas falas, e forneça um menu para que o usuario escolha as seguintes opções:\n",
        "\n",
        "1 - Mostrar o dicionario completo\n",
        "\n",
        "2 - Mostrar as chaves do dicionario\n",
        "\n",
        "3 - Mostrar os valores do dicionario\n",
        "\n",
        "4 - Mostrar uma chave e valor individual\n",
        "\n",
        "5 - Terminar execução\n",
        "\n",
        "OBS: Na opção 4 caso o usuario digite uma chave que não exista, forneça um valor padrão como resposta."
      ]
    },
    {
      "metadata": {
        "id": "xPfmU4icDrFa",
        "colab_type": "code",
        "colab": {}
      },
      "cell_type": "code",
      "source": [
        ""
      ],
      "execution_count": 0,
      "outputs": []
    },
    {
      "metadata": {
        "id": "Kp4ThUaREoFR",
        "colab_type": "text"
      },
      "cell_type": "markdown",
      "source": [
        "## POPITEM\n",
        "O método `popitem()` retorna e remove a chave e o valor do último item adicionado no dicionário. Nas versões anteriores a 3.7, o método remove o item aleatoriamente. \n"
      ]
    },
    {
      "metadata": {
        "id": "8wo9O7VJEr5_",
        "colab_type": "code",
        "colab": {}
      },
      "cell_type": "code",
      "source": [
        "pessoa = {\n",
        "    'nome':'João',\n",
        "    'Cidade':'Natal',\n",
        "    'idade':20 \n",
        "}\n",
        "pessoa['Bairro']='Lagoa Nova'\n",
        "print(\"Antes do popitem: \", pessoa)\n",
        "resultado=pessoa.popitem()\n",
        "print(\"Depois do popitem: \", pessoa)\n",
        "print(\"Item removido:\", resultado)"
      ],
      "execution_count": 0,
      "outputs": []
    },
    {
      "metadata": {
        "id": "LRa8cI0bEvL3",
        "colab_type": "text"
      },
      "cell_type": "markdown",
      "source": [
        "## UPDATE\n",
        "O método `update()` atualiza e insere itens no dicionário. O item especificado por paramêtro pode ser um dicionário ou objetivo iterável. "
      ]
    },
    {
      "metadata": {
        "id": "EthmNMe8E0AL",
        "colab_type": "code",
        "colab": {}
      },
      "cell_type": "code",
      "source": [
        "disciplina = {\n",
        "    'nome':'EDB1',\n",
        "    'horario':'35M34',\n",
        "    'professor':'Leo'\n",
        "}\n",
        "print(\"Os dados inicais da disciplina:\", disciplina)\n",
        "disciplina.update(nome='ESTRUTURA DE DADOS BÁSICAS I')\n",
        "print(\"Após atualizar o nome:\", disciplina)\n",
        "disciplina.update(local='A307')\n",
        "print(\"Após inserir o local:\", disciplina)\n",
        "dadosAdicionais = {\n",
        "    'assunto1':'Introdução a python',\n",
        "    'assunto2':'Tipos abstratos de dados'\n",
        "}\n",
        "disciplina.update(dadosAdicionais)\n",
        "print(disciplina)\n"
      ],
      "execution_count": 0,
      "outputs": []
    },
    {
      "metadata": {
        "id": "a_w5dsV9E40h",
        "colab_type": "text"
      },
      "cell_type": "markdown",
      "source": [
        "## Exercício de fixação\n",
        "Criei dois dicionários, adicione o segundo no primeiro dicionário, altere algum item e imrpima na tela qual foi o último item adicionado no primeiro dicionário. Por fim, imprima ambos os dicionários. "
      ]
    },
    {
      "metadata": {
        "id": "8DXJBIxFE69H",
        "colab_type": "code",
        "colab": {}
      },
      "cell_type": "code",
      "source": [
        ""
      ],
      "execution_count": 0,
      "outputs": []
    },
    {
      "metadata": {
        "id": "IjVojH7jM2bS",
        "colab_type": "text"
      },
      "cell_type": "markdown",
      "source": [
        "## Questão Extra\n",
        "Crie um programa que compare dois dicionários e verifique se suas chaves possuem o mesmo valor, e crie dois dicionários novos, um com os valores iguais e outro dicionário os com valores diferentes.\n",
        "\n",
        "**Ex:**\n",
        "dic1 = { \"key1\": 50, \"key2\": 100, \"key3\": 35, \"key4\": 15}\n",
        "dic2 = { \"key1\": 100, \"key2\": 15, \"key3\":25 , \"key4\": 32}\n",
        "\n",
        "Resultado:\n",
        "\n",
        "dicIguais = { \"key1\": 100, \"key2\":15 }\n",
        "dicDiferentes = { \"key1\": 50, \"key2\":25, \"key3\":15, \"key4\":35, \"key5\": \"32\" }"
      ]
    },
    {
      "metadata": {
        "id": "GYQpgVsuM312",
        "colab_type": "code",
        "colab": {}
      },
      "cell_type": "code",
      "source": [
        ""
      ],
      "execution_count": 0,
      "outputs": []
    }
  ]
}
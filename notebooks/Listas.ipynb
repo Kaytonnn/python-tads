{
  "nbformat": 4,
  "nbformat_minor": 0,
  "metadata": {
    "colab": {
      "name": "Listas.ipynb",
      "version": "0.3.2",
      "provenance": [],
      "collapsed_sections": [],
      "toc_visible": true
    },
    "kernelspec": {
      "name": "python3",
      "display_name": "Python 3"
    }
  },
  "cells": [
    {
      "metadata": {
        "id": "Qf-GuuinMxNd",
        "colab_type": "text"
      },
      "cell_type": "markdown",
      "source": [
        "## O que são listas ordenadas manualmente?"
      ]
    },
    {
      "metadata": {
        "id": "YdsouzS_o3Vw",
        "colab_type": "text"
      },
      "cell_type": "markdown",
      "source": [
        "Uma lista em python é um conjunto de elementos em ordem representado pela expressão *list()*, no qual seu conteúdo é apresentado entre colchetes [ ] e, dentro deles, separado por vírgulas (para criar uma lista vazia, basta apenas representar os colchetes sem nenhum elemento dentro deles).\n",
        "\n",
        ">\n",
        "\n",
        "\n",
        "Listas podem ser de vários tipos como números inteiros, reais, strings, entre outros. É possível até, fazer lista de listas."
      ]
    },
    {
      "metadata": {
        "id": "B1W6xB-6rm_y",
        "colab_type": "code",
        "outputId": "c9f742c4-d186-425e-cf5c-5f368b77fb36",
        "colab": {
          "base_uri": "https://localhost:8080/",
          "height": 102
        }
      },
      "cell_type": "code",
      "source": [
        "lista = []\n",
        "print(lista)\n",
        "\n",
        "sapatos = [36, 37, 38, 39, 40, 41, 42]\n",
        "print(sapatos)\n",
        "\n",
        "peso = [86.4, 53.4, 57.5, 89.5, 71.1]\n",
        "print(peso)\n",
        "\n",
        "nomes = [\"acsa\", \"anna\", \"dani\", \"gabs\", \"malu\", \"martins\"]\n",
        "print(nomes)\n",
        "\n",
        "listas = [sapatos, peso, nomes]\n",
        "print(listas)"
      ],
      "execution_count": 0,
      "outputs": [
        {
          "output_type": "stream",
          "text": [
            "[]\n",
            "[36, 37, 38, 39, 40, 41, 42]\n",
            "[86.4, 53.4, 57.5, 89.5, 71.1]\n",
            "['acsa', 'anna', 'dani', 'gabs', 'malu', 'martins']\n",
            "[[36, 37, 38, 39, 40, 41, 42], [86.4, 53.4, 57.5, 89.5, 71.1], ['acsa', 'anna', 'dani', 'gabs', 'malu', 'martins']]\n"
          ],
          "name": "stdout"
        }
      ]
    },
    {
      "metadata": {
        "id": "zPCsWHawvGPs",
        "colab_type": "text"
      },
      "cell_type": "markdown",
      "source": [
        "Também podemos colocar strings e números em uma mesma lista!"
      ]
    },
    {
      "metadata": {
        "id": "xSAIz-JvwC_O",
        "colab_type": "code",
        "outputId": "99af97e3-6c3a-44e3-f411-2aed1778d99a",
        "colab": {
          "base_uri": "https://localhost:8080/",
          "height": 34
        }
      },
      "cell_type": "code",
      "source": [
        "pessoa = [1.67, 58, \"estuda no IMD\"]\n",
        "print(pessoa)"
      ],
      "execution_count": 0,
      "outputs": [
        {
          "output_type": "stream",
          "text": [
            "[1.67, 58, 'estuda no IMD']\n"
          ],
          "name": "stdout"
        }
      ]
    },
    {
      "metadata": {
        "id": "57wDcvNPucQa",
        "colab_type": "text"
      },
      "cell_type": "markdown",
      "source": [
        "Cada item da lista tem a ele um índice associado, começando por 0 e terminando no número total de elementos da lista subtraído de 1. Então se existir uma lista com 5 elementos, por exemplo, os índices de seus elementos vão ser de 0 a 4."
      ]
    },
    {
      "metadata": {
        "id": "1Z1_-e9n353X",
        "colab_type": "code",
        "outputId": "ac1ae919-724d-4581-a222-eeee2f578447",
        "colab": {
          "base_uri": "https://localhost:8080/",
          "height": 102
        }
      },
      "cell_type": "code",
      "source": [
        "comidas = [\"pizza\", \"chocolate\", \"coxinha\", \"pastel de frango\", \"hambúrguer\"]\n",
        "print(comidas[0])\n",
        "print(comidas[1])\n",
        "print(comidas[2])\n",
        "print(comidas[3])\n",
        "print(comidas[4])"
      ],
      "execution_count": 0,
      "outputs": [
        {
          "output_type": "stream",
          "text": [
            "pizza\n",
            "chocolate\n",
            "coxinha\n",
            "pastel de frango\n",
            "hambúrguer\n"
          ],
          "name": "stdout"
        }
      ]
    },
    {
      "metadata": {
        "id": "uXS2_l8CviGn",
        "colab_type": "text"
      },
      "cell_type": "markdown",
      "source": [
        "Em Python é possível acessar os elementos da lista por um index negativo, também. Sendo -1 o último elemento da lista, -2 o penúltimo e assim por diante."
      ]
    },
    {
      "metadata": {
        "id": "qFZXuHMZwGGv",
        "colab_type": "code",
        "outputId": "3dfb33a7-0cec-4499-98cd-6298cc3209a7",
        "colab": {
          "base_uri": "https://localhost:8080/",
          "height": 51
        }
      },
      "cell_type": "code",
      "source": [
        "print(comidas[-1])\n",
        "print(comidas[-2])"
      ],
      "execution_count": 0,
      "outputs": [
        {
          "output_type": "stream",
          "text": [
            "hambúrguer\n",
            "pastel de frango\n"
          ],
          "name": "stdout"
        }
      ]
    },
    {
      "metadata": {
        "id": "x3VkIjK9wXAn",
        "colab_type": "text"
      },
      "cell_type": "markdown",
      "source": [
        "Quando tentamos acessar um index fora da lista, ocorrerá a exceção IndexError."
      ]
    },
    {
      "metadata": {
        "id": "wETyjuynxF5q",
        "colab_type": "code",
        "outputId": "1fa2b28b-5a29-4645-f552-9b8e4e7e2740",
        "colab": {
          "base_uri": "https://localhost:8080/",
          "height": 163
        }
      },
      "cell_type": "code",
      "source": [
        "print(comidas[6])"
      ],
      "execution_count": 0,
      "outputs": [
        {
          "output_type": "error",
          "ename": "IndexError",
          "evalue": "ignored",
          "traceback": [
            "\u001b[0;31m---------------------------------------------------------------------------\u001b[0m",
            "\u001b[0;31mIndexError\u001b[0m                                Traceback (most recent call last)",
            "\u001b[0;32m<ipython-input-6-674ae637e858>\u001b[0m in \u001b[0;36m<module>\u001b[0;34m()\u001b[0m\n\u001b[0;32m----> 1\u001b[0;31m \u001b[0mprint\u001b[0m\u001b[0;34m(\u001b[0m\u001b[0mcomidas\u001b[0m\u001b[0;34m[\u001b[0m\u001b[0;36m6\u001b[0m\u001b[0;34m]\u001b[0m\u001b[0;34m)\u001b[0m\u001b[0;34m\u001b[0m\u001b[0;34m\u001b[0m\u001b[0m\n\u001b[0m",
            "\u001b[0;31mIndexError\u001b[0m: list index out of range"
          ]
        }
      ]
    },
    {
      "metadata": {
        "id": "Um6edxYJx0BF",
        "colab_type": "text"
      },
      "cell_type": "markdown",
      "source": [
        "É possível parcionar as listas usando o operador : (dois pontos).\n",
        ">\n",
        "**Observação:** Quando utilizamos o operador \":\" o segundo index não será incluso. Ou seja em print(comidas[2:4]) os elementos que serão printados são os que estão nas posições 2 e 3, apenas."
      ]
    },
    {
      "metadata": {
        "id": "XXegW0sYyQWV",
        "colab_type": "code",
        "outputId": "b15c2095-71f2-494b-dae4-fb8fd151f7a1",
        "colab": {
          "base_uri": "https://localhost:8080/",
          "height": 68
        }
      },
      "cell_type": "code",
      "source": [
        "print(comidas[1:3])\n",
        "\n",
        "print(comidas[:3])\n",
        "\n",
        "print(comidas[2:])"
      ],
      "execution_count": 0,
      "outputs": [
        {
          "output_type": "stream",
          "text": [
            "['chocolate', 'coxinha']\n",
            "['pizza', 'chocolate', 'coxinha']\n",
            "['coxinha', 'pastel de frango', 'hambúrguer']\n"
          ],
          "name": "stdout"
        }
      ]
    },
    {
      "metadata": {
        "id": "2bLm7VRx0Lk_",
        "colab_type": "text"
      },
      "cell_type": "markdown",
      "source": [
        "Para concatenarmos duas listas utilizamos o operador \"+\"."
      ]
    },
    {
      "metadata": {
        "id": "70wYmmxi0JyQ",
        "colab_type": "code",
        "outputId": "64e50104-9f85-44c9-b2e6-55b97c8c9751",
        "colab": {
          "base_uri": "https://localhost:8080/",
          "height": 34
        }
      },
      "cell_type": "code",
      "source": [
        "lista_1 = [1, 2, 3]\n",
        "lista_2 = [4, 5, 6]\n",
        "\n",
        "print(lista_1 + lista_2)"
      ],
      "execution_count": 0,
      "outputs": [
        {
          "output_type": "stream",
          "text": [
            "[1, 2, 3, 4, 5, 6]\n"
          ],
          "name": "stdout"
        }
      ]
    },
    {
      "metadata": {
        "id": "0CYlCfozMoHN",
        "colab_type": "text"
      },
      "cell_type": "markdown",
      "source": [
        "## Para que servem essas listas?"
      ]
    },
    {
      "metadata": {
        "id": "EnjoEjrvHTlH",
        "colab_type": "text"
      },
      "cell_type": "markdown",
      "source": [
        "As listas foram criadas para nos ajudar quando necesitamos da disposição organizada e ordenada dos elementos, seguindo uma categoria ou lugar que lhes convém. Elas servem para quando nós precisarmos acessar um lugar específico da lista que já sabiamos o que tinha anteriormente, por meio dos índices, ou numa situação em que a sequência dos valores está atrelada a outros dados e precisamos exatamente dessa sequência, ou simplesmente para não perdemos a ordem da coleção dos objetos.\n"
      ]
    },
    {
      "metadata": {
        "id": "_8jpofAqM4x2",
        "colab_type": "text"
      },
      "cell_type": "markdown",
      "source": [
        "## Alguns métodos e funções importantes:"
      ]
    },
    {
      "metadata": {
        "id": "cuBBN8csHf09",
        "colab_type": "text"
      },
      "cell_type": "markdown",
      "source": [
        "As listas ordenadas manualmente possuem alguns métodos e funções para facilitar a sua manipulação."
      ]
    },
    {
      "metadata": {
        "id": "dqudRZHb3KIK",
        "colab_type": "text"
      },
      "cell_type": "markdown",
      "source": [
        "###criar uma lista de valores númericos sequencias:"
      ]
    },
    {
      "metadata": {
        "id": "qw291ZIA3NOf",
        "colab_type": "code",
        "outputId": "a86d3450-0444-4c38-8745-de96225e23dd",
        "colab": {
          "base_uri": "https://localhost:8080/",
          "height": 34
        }
      },
      "cell_type": "code",
      "source": [
        "valores = list(range(4,11))\n",
        "print(valores)"
      ],
      "execution_count": 0,
      "outputs": [
        {
          "output_type": "stream",
          "text": [
            "[4, 5, 6, 7, 8, 9, 10]\n"
          ],
          "name": "stdout"
        }
      ]
    },
    {
      "metadata": {
        "id": "430tSgB6OB8T",
        "colab_type": "text"
      },
      "cell_type": "markdown",
      "source": [
        "###sort(): \n",
        "Esse método serve para ordenar uma lista em ordem crescente ou alfabética. Entretanto, ele não pode organizar entre listas mistas (numéricos e strings)."
      ]
    },
    {
      "metadata": {
        "id": "rR8DawWjOYPv",
        "colab_type": "code",
        "outputId": "e3c60760-9141-447a-9be3-040d2bbeba88",
        "colab": {
          "base_uri": "https://localhost:8080/",
          "height": 34
        }
      },
      "cell_type": "code",
      "source": [
        "compras = [\"óleo\", \"sal\", \"água\", \"cenoura\", \"papel\", \"algodão\"]\n",
        "compras.sort()\n",
        "print(compras)"
      ],
      "execution_count": 0,
      "outputs": [
        {
          "output_type": "stream",
          "text": [
            "['algodão', 'cenoura', 'papel', 'sal', 'água', 'óleo']\n"
          ],
          "name": "stdout"
        }
      ]
    },
    {
      "metadata": {
        "id": "u0_kE1XyO3qh",
        "colab_type": "code",
        "outputId": "4f9f0634-c33f-45ab-d137-9b76fbcce8c9",
        "colab": {
          "base_uri": "https://localhost:8080/",
          "height": 34
        }
      },
      "cell_type": "code",
      "source": [
        "notas = [5.6, 10.0, 5.7, 7, 10.0, 10.0, 7.5, 8, 8.4, 2.4, 9.8, 2.1, 2, 5, 6]\n",
        "notas.sort()\n",
        "print(notas)"
      ],
      "execution_count": 0,
      "outputs": [
        {
          "output_type": "stream",
          "text": [
            "[2, 2.1, 2.4, 5, 5.6, 5.7, 6, 7, 7.5, 8, 8.4, 9.8, 10.0, 10.0, 10.0]\n"
          ],
          "name": "stdout"
        }
      ]
    },
    {
      "metadata": {
        "id": "Uh6nFh9FlFR5",
        "colab_type": "code",
        "outputId": "f5960646-c036-4db5-fdff-d91ade27b8a1",
        "colab": {
          "base_uri": "https://localhost:8080/",
          "height": 197
        }
      },
      "cell_type": "code",
      "source": [
        "mistureba = [\"juremilda\", 99.9, \"godofredo\", 101, 3]\n",
        "mistureba.sort()\n",
        "print(mistureba)"
      ],
      "execution_count": 0,
      "outputs": [
        {
          "output_type": "error",
          "ename": "TypeError",
          "evalue": "ignored",
          "traceback": [
            "\u001b[0;31m---------------------------------------------------------------------------\u001b[0m",
            "\u001b[0;31mTypeError\u001b[0m                                 Traceback (most recent call last)",
            "\u001b[0;32m<ipython-input-15-0b645e677f71>\u001b[0m in \u001b[0;36m<module>\u001b[0;34m()\u001b[0m\n\u001b[1;32m      1\u001b[0m \u001b[0mmistureba\u001b[0m \u001b[0;34m=\u001b[0m \u001b[0;34m[\u001b[0m\u001b[0;34m\"juremilda\"\u001b[0m\u001b[0;34m,\u001b[0m \u001b[0;36m99.9\u001b[0m\u001b[0;34m,\u001b[0m \u001b[0;34m\"godofredo\"\u001b[0m\u001b[0;34m,\u001b[0m \u001b[0;36m101\u001b[0m\u001b[0;34m,\u001b[0m \u001b[0;36m3\u001b[0m\u001b[0;34m]\u001b[0m\u001b[0;34m\u001b[0m\u001b[0;34m\u001b[0m\u001b[0m\n\u001b[0;32m----> 2\u001b[0;31m \u001b[0mmistureba\u001b[0m\u001b[0;34m.\u001b[0m\u001b[0msort\u001b[0m\u001b[0;34m(\u001b[0m\u001b[0;34m)\u001b[0m\u001b[0;34m\u001b[0m\u001b[0;34m\u001b[0m\u001b[0m\n\u001b[0m\u001b[1;32m      3\u001b[0m \u001b[0mprint\u001b[0m\u001b[0;34m(\u001b[0m\u001b[0mmistureba\u001b[0m\u001b[0;34m)\u001b[0m\u001b[0;34m\u001b[0m\u001b[0;34m\u001b[0m\u001b[0m\n",
            "\u001b[0;31mTypeError\u001b[0m: '<' not supported between instances of 'float' and 'str'"
          ]
        }
      ]
    },
    {
      "metadata": {
        "id": "rTIHFN3EQJCS",
        "colab_type": "text"
      },
      "cell_type": "markdown",
      "source": [
        "###count(): \n",
        "o método conta a quantidade de vezes que um dado elemento aparece e a retorna."
      ]
    },
    {
      "metadata": {
        "id": "WntidtczQSfz",
        "colab_type": "code",
        "outputId": "0b599f51-3312-47f8-ed07-dd49d2383681",
        "colab": {
          "base_uri": "https://localhost:8080/",
          "height": 34
        }
      },
      "cell_type": "code",
      "source": [
        "n = notas.count(10.0)\n",
        "print(n, \"alunos tiram nota 10.0 na prova\")"
      ],
      "execution_count": 0,
      "outputs": [
        {
          "output_type": "stream",
          "text": [
            "3 alunos tiram nota 10.0 na prova\n"
          ],
          "name": "stdout"
        }
      ]
    },
    {
      "metadata": {
        "id": "a1Y5Bdjsmnuk",
        "colab_type": "text"
      },
      "cell_type": "markdown",
      "source": [
        "###reverse(): \n",
        "Esse método reverte todos os valores da lista, onde o elemento do índice 0 será trocado com o elemento n, o 1 com o elemento n-1, e assim por diante."
      ]
    },
    {
      "metadata": {
        "id": "xeHPEPWJm3Qd",
        "colab_type": "code",
        "outputId": "7c57d0d5-989e-43a3-fa9c-e93fd40e15b8",
        "colab": {
          "base_uri": "https://localhost:8080/",
          "height": 34
        }
      },
      "cell_type": "code",
      "source": [
        "alunos = [\"Acsa\", \"Anna\", \"Dani\", \"Malu\", \"Gabs\", \"Martins\"]\n",
        "alunos.reverse()\n",
        "print (alunos)"
      ],
      "execution_count": 0,
      "outputs": [
        {
          "output_type": "stream",
          "text": [
            "['Martins', 'Gabs', 'Malu', 'Dani', 'Anna', 'Acsa']\n"
          ],
          "name": "stdout"
        }
      ]
    },
    {
      "metadata": {
        "id": "P5UCP4R6107r",
        "colab_type": "text"
      },
      "cell_type": "markdown",
      "source": [
        "### clear():\n",
        ">\n",
        "Utilizando o método clear limpamos determinada lista."
      ]
    },
    {
      "metadata": {
        "id": "g8lofrEt2BSn",
        "colab_type": "code",
        "outputId": "b1575fcb-a541-4527-d50c-e02a8abfe656",
        "colab": {
          "base_uri": "https://localhost:8080/",
          "height": 51
        }
      },
      "cell_type": "code",
      "source": [
        "numeros = [10, 20, 30, 40]\n",
        "print(numeros)\n",
        "\n",
        "numeros.clear()\n",
        "print(numeros)"
      ],
      "execution_count": 0,
      "outputs": [
        {
          "output_type": "stream",
          "text": [
            "[10, 20, 30, 40]\n",
            "[]\n"
          ],
          "name": "stdout"
        }
      ]
    },
    {
      "metadata": {
        "id": "IpSkutE6rdTg",
        "colab_type": "text"
      },
      "cell_type": "markdown",
      "source": [
        "###max(): \n",
        "Essa função retorna o valor máximo da lista (esse comando não funciona quando a lista tem elementos de tipos diferentes, exemplo: int com string),\n",
        "para o caso em que a lista é de strings, ele retorna o elemento que possui a primeira letra \"maior\" de A a Z(sendo A a menor e Z a maior). No caso em que a primeira\n",
        "letra é igual ele compara a segunda e assim sucessivamente."
      ]
    },
    {
      "metadata": {
        "id": "npnMMpk9rvti",
        "colab_type": "code",
        "outputId": "a244c42c-5728-417b-8b53-d27495eb78a0",
        "colab": {
          "base_uri": "https://localhost:8080/",
          "height": 54
        }
      },
      "cell_type": "code",
      "source": [
        "sapatos = [36, 37, 38, 39, 40, 41, 42]\n",
        "m = max(sapatos)\n",
        "print (\"valor máximo: \", m)\n",
        "\n",
        "alunos = [\"Acsa\", \"Dani\", \"Malu\", \"Gabs\", \"Martins\"]\n",
        "m = max(alunos)\n",
        "print(\"maior nome: \", m)"
      ],
      "execution_count": 0,
      "outputs": [
        {
          "output_type": "stream",
          "text": [
            "valor máximo:  42\n",
            "maior nome:  Martins\n"
          ],
          "name": "stdout"
        }
      ]
    },
    {
      "metadata": {
        "id": "mg6FSsa_sCih",
        "colab_type": "text"
      },
      "cell_type": "markdown",
      "source": [
        "###min(): \n",
        "Essa função retorna o valor mínimo da lista. as observações apresentadas no item anterior tambem se aplicam a esse método sendo que ele retornará o nome que começar pela menor letra."
      ]
    },
    {
      "metadata": {
        "id": "ZIe_BA1wsl_Q",
        "colab_type": "code",
        "outputId": "76434042-ddc6-409f-f269-0fcd1e5c2f22",
        "colab": {
          "base_uri": "https://localhost:8080/",
          "height": 53
        }
      },
      "cell_type": "code",
      "source": [
        "sapatos = [36, 37, 38, 39, 40, 41, 42]\n",
        "m = min(sapatos)\n",
        "print (\"valor mínimo: \", m)\n",
        "\n",
        "alunos = [\"Acsa\", \"Dani\", \"Malu\", \"Gabs\", \"Martins\"]\n",
        "m = min(alunos)\n",
        "print(\"menor nome: \", m)"
      ],
      "execution_count": 0,
      "outputs": [
        {
          "output_type": "stream",
          "text": [
            "valor mínimo:  36\n",
            "menor nome:  Acsa\n"
          ],
          "name": "stdout"
        }
      ]
    },
    {
      "metadata": {
        "id": "LzYnXSXwtppW",
        "colab_type": "text"
      },
      "cell_type": "markdown",
      "source": [
        "###sum(): \n",
        "Essa função retorna a soma dos valores da lista. porém temos duas formas de escreve-lo: 1° sem parametros , 2° com um valor inicial para ser somado.\n",
        "Esse método não funciona com elementos do tipo string.\n"
      ]
    },
    {
      "metadata": {
        "id": "0aLzGuBGtwUO",
        "colab_type": "code",
        "outputId": "17f10ca1-1996-4284-deb8-d722ffece882",
        "colab": {
          "base_uri": "https://localhost:8080/",
          "height": 51
        }
      },
      "cell_type": "code",
      "source": [
        "lista= [1, 2, 3, 4, 5]\n",
        "m = sum(lista)\n",
        "print (\"Soma: \", m)\n",
        "\n",
        "m = sum(lista, 10)\n",
        "print (\"Soma começando com o valor 10: \", m)"
      ],
      "execution_count": 0,
      "outputs": [
        {
          "output_type": "stream",
          "text": [
            "Soma:  15\n",
            "Soma começando com o valor 10:  25\n"
          ],
          "name": "stdout"
        }
      ]
    },
    {
      "metadata": {
        "id": "a1-MtnqpHxVQ",
        "colab_type": "text"
      },
      "cell_type": "markdown",
      "source": [
        "###Adicionar um valor em determinada posição - insert():\n",
        "Usamos o método list.insert(índice, valor), o qual toma dois argumentos: o primeiro é o índice da lista onde será inserido o valor e o segundo equivale ao valor que será adicionado. Caso já exista um valor naquela posição, a função move todos os outros valores para uma posição posterior à que ele ocupava antes."
      ]
    },
    {
      "metadata": {
        "id": "w6Hlt-Y1JpH7",
        "colab_type": "code",
        "outputId": "14ad3b1b-5938-4a25-c82e-bdff62cd3507",
        "colab": {
          "base_uri": "https://localhost:8080/",
          "height": 34
        }
      },
      "cell_type": "code",
      "source": [
        "lista = [10, 20, 30, 40, 50, 60]\n",
        "print(\"lista original:\", lista)\n"
      ],
      "execution_count": 0,
      "outputs": [
        {
          "output_type": "stream",
          "text": [
            "lista original: [10, 20, 30, 40, 50, 60]\n"
          ],
          "name": "stdout"
        }
      ]
    },
    {
      "metadata": {
        "id": "QYt_NbgcInQ5",
        "colab_type": "code",
        "outputId": "c229f1ff-0022-4807-f24c-70e1423731fd",
        "colab": {
          "base_uri": "https://localhost:8080/",
          "height": 68
        }
      },
      "cell_type": "code",
      "source": [
        "lista.insert(0, 0)\n",
        "print(\"primeira lista:\", lista)\n",
        "lista.insert(0, -10)\n",
        "print(\"nova lista:\", lista)\n",
        "lista.insert(8, 70)\n",
        "print(\"mais uma lista:\", lista)"
      ],
      "execution_count": 0,
      "outputs": [
        {
          "output_type": "stream",
          "text": [
            "primeira lista: [0, 10, 20, 30, 40, 50, 60]\n",
            "nova lista: [-10, 0, 10, 20, 30, 40, 50, 60]\n",
            "mais uma lista: [-10, 0, 10, 20, 30, 40, 50, 60, 70]\n"
          ],
          "name": "stdout"
        }
      ]
    },
    {
      "metadata": {
        "id": "3XAazxT34Z9m",
        "colab_type": "text"
      },
      "cell_type": "markdown",
      "source": [
        "###Adicionando um ou mais valores ao final da lista - append() e extend()\n",
        "> \n",
        "Para adicionarmos um elemento ao final da lista utilizamos o método append(). Caso queira ser feita a adição de mais de um elemento utilizamos o método extend()."
      ]
    },
    {
      "metadata": {
        "id": "njjrjNk75HgM",
        "colab_type": "code",
        "outputId": "0f5b263c-3abe-43fd-dc5d-737cbb75cd62",
        "colab": {
          "base_uri": "https://localhost:8080/",
          "height": 68
        }
      },
      "cell_type": "code",
      "source": [
        "numeros = [1, 2, 3]\n",
        "print(numeros)\n",
        "\n",
        "numeros.append(4)\n",
        "print(numeros)\n",
        "\n",
        "numeros.extend([5,6,7])\n",
        "print(numeros)"
      ],
      "execution_count": 0,
      "outputs": [
        {
          "output_type": "stream",
          "text": [
            "[1, 2, 3]\n",
            "[1, 2, 3, 4]\n",
            "[1, 2, 3, 4, 5, 6, 7]\n"
          ],
          "name": "stdout"
        }
      ]
    },
    {
      "metadata": {
        "id": "er3f-4a5KnIQ",
        "colab_type": "text"
      },
      "cell_type": "markdown",
      "source": [
        "###Remover elementos da lista - pop(), remove() e del \n",
        "\n",
        "**-pop():**\n",
        "usamos o método lista.pop(índice), o índice será passado como argumento e aquele elemento que lá estava localizado será removido e retornado pelo método.\n",
        "\n",
        "**#ATENÇÃO:** Caso o **pop()** não receba argumentos, ele removerá o último ítem da lista e o retornará.\n",
        "\n",
        "**-remove():**\n",
        "No entanto, caso seja necessário remover um elemento de índice desconhecido, utiliza-se o método lista.remove(elemento). Se o valor removido não existir naquela lista, o programa retornará um erro.\n",
        "\n",
        "**-del:**\n",
        "Pode ser utilizado para deletar um elemento, uma sequencia de elementos, ou a própria lista."
      ]
    },
    {
      "metadata": {
        "id": "uV9aavrmMqLo",
        "colab_type": "code",
        "outputId": "9efae1ee-4847-4aa1-a59f-f563fdc58636",
        "colab": {
          "base_uri": "https://localhost:8080/",
          "height": 34
        }
      },
      "cell_type": "code",
      "source": [
        "a = lista.pop()\n",
        "print(\"a lista agora é\", lista, \"e o ítem removido foi:\", a)\n"
      ],
      "execution_count": 0,
      "outputs": [
        {
          "output_type": "stream",
          "text": [
            "a lista agora é [-10, 0, 10, 20, 30, 40, 50, 60] e o ítem removido foi: 70\n"
          ],
          "name": "stdout"
        }
      ]
    },
    {
      "metadata": {
        "id": "5bgO4MXaNBLR",
        "colab_type": "code",
        "outputId": "6fbad8a3-71fd-4eda-a67f-026964fbafed",
        "colab": {
          "base_uri": "https://localhost:8080/",
          "height": 34
        }
      },
      "cell_type": "code",
      "source": [
        "b = lista.pop(0)\n",
        "print(\"a lista agora é\", lista, \"e o ítem removido foi:\", b)"
      ],
      "execution_count": 0,
      "outputs": [
        {
          "output_type": "stream",
          "text": [
            "a lista agora é [0, 10, 20, 30, 40, 50, 60] e o ítem removido foi: -10\n"
          ],
          "name": "stdout"
        }
      ]
    },
    {
      "metadata": {
        "id": "wupRiSfzNPFV",
        "colab_type": "code",
        "outputId": "ef8b4ec8-506e-47c9-deaa-f86cb0bdea9a",
        "colab": {
          "base_uri": "https://localhost:8080/",
          "height": 34
        }
      },
      "cell_type": "code",
      "source": [
        "lista.remove(20)\n",
        "print(\"a lista agora é\", lista)"
      ],
      "execution_count": 0,
      "outputs": [
        {
          "output_type": "stream",
          "text": [
            "a lista agora é [0, 10, 30, 40, 50, 60]\n"
          ],
          "name": "stdout"
        }
      ]
    },
    {
      "metadata": {
        "id": "j8-GGp7N6bJF",
        "colab_type": "code",
        "outputId": "07e53c12-fbfc-4eb1-f8a9-ec534c46af80",
        "colab": {
          "base_uri": "https://localhost:8080/",
          "height": 34
        }
      },
      "cell_type": "code",
      "source": [
        "del lista[0]  \n",
        "print(\"a lista agora é\", lista)"
      ],
      "execution_count": 0,
      "outputs": [
        {
          "output_type": "stream",
          "text": [
            "a lista agora é [10, 30, 40, 50, 60]\n"
          ],
          "name": "stdout"
        }
      ]
    },
    {
      "metadata": {
        "id": "71rkiya27fTU",
        "colab_type": "code",
        "outputId": "dc3b30d4-0b8b-42f4-aee4-e7c003f59dc0",
        "colab": {
          "base_uri": "https://localhost:8080/",
          "height": 34
        }
      },
      "cell_type": "code",
      "source": [
        "del lista[2:4]\n",
        "print(\"a lista agora é\", lista)"
      ],
      "execution_count": 0,
      "outputs": [
        {
          "output_type": "stream",
          "text": [
            "a lista agora é [10, 30, 60]\n"
          ],
          "name": "stdout"
        }
      ]
    },
    {
      "metadata": {
        "id": "sMDl9Z1D793D",
        "colab_type": "code",
        "outputId": "c23245a6-4fff-4599-eef0-209f63985742",
        "colab": {
          "base_uri": "https://localhost:8080/",
          "height": 180
        }
      },
      "cell_type": "code",
      "source": [
        "del lista #irá deletar a lista por completo\n",
        "print(lista) #como a lista foi deletada, ela não estará mais definida. Ocasionando o erro: 'lista' is not defined"
      ],
      "execution_count": 0,
      "outputs": [
        {
          "output_type": "error",
          "ename": "NameError",
          "evalue": "ignored",
          "traceback": [
            "\u001b[0;31m---------------------------------------------------------------------------\u001b[0m",
            "\u001b[0;31mNameError\u001b[0m                                 Traceback (most recent call last)",
            "\u001b[0;32m<ipython-input-57-c0260017ddcd>\u001b[0m in \u001b[0;36m<module>\u001b[0;34m()\u001b[0m\n\u001b[0;32m----> 1\u001b[0;31m \u001b[0;32mdel\u001b[0m \u001b[0mlista\u001b[0m \u001b[0;31m#irá deletar a lista por completo\u001b[0m\u001b[0;34m\u001b[0m\u001b[0;34m\u001b[0m\u001b[0m\n\u001b[0m\u001b[1;32m      2\u001b[0m \u001b[0mprint\u001b[0m\u001b[0;34m(\u001b[0m\u001b[0mlista\u001b[0m\u001b[0;34m)\u001b[0m \u001b[0;31m#como a lista foi deletada, ela não estará mais definida. Ocasionando o erro: 'lista' is not defined\u001b[0m\u001b[0;34m\u001b[0m\u001b[0;34m\u001b[0m\u001b[0m\n",
            "\u001b[0;31mNameError\u001b[0m: name 'lista' is not defined"
          ]
        }
      ]
    },
    {
      "metadata": {
        "id": "D0yM5bbJ1BEm",
        "colab_type": "text"
      },
      "cell_type": "markdown",
      "source": [
        "###Copiando dos conjuntos:\n",
        "\n",
        "Listas também apresentam alguns usos de conjuntos, tais como:\n",
        "\n",
        "- poder verificar se um elemento está na lista\n",
        "- saber o comprimento da lista (quantos elementos tem)"
      ]
    },
    {
      "metadata": {
        "id": "PpOoybH9Zy8A",
        "colab_type": "code",
        "outputId": "0808fd93-6b6c-47d7-86d4-4fd4d2abae2f",
        "colab": {
          "base_uri": "https://localhost:8080/",
          "height": 34
        }
      },
      "cell_type": "code",
      "source": [
        "lista = [10,20,30,40]\n",
        "10 in lista"
      ],
      "execution_count": 0,
      "outputs": [
        {
          "output_type": "execute_result",
          "data": {
            "text/plain": [
              "True"
            ]
          },
          "metadata": {
            "tags": []
          },
          "execution_count": 4
        }
      ]
    },
    {
      "metadata": {
        "id": "3BeWC_z03-vh",
        "colab_type": "code",
        "outputId": "e2af68ba-6bad-40e2-ad37-69f0e9a434ce",
        "colab": {
          "base_uri": "https://localhost:8080/",
          "height": 34
        }
      },
      "cell_type": "code",
      "source": [
        "print(len(lista))"
      ],
      "execution_count": 0,
      "outputs": [
        {
          "output_type": "stream",
          "text": [
            "4\n"
          ],
          "name": "stdout"
        }
      ]
    },
    {
      "metadata": {
        "id": "gU5Y_V_1M_Lh",
        "colab_type": "text"
      },
      "cell_type": "markdown",
      "source": [
        "## Exercícios: "
      ]
    },
    {
      "metadata": {
        "id": "ISWeiKnUYzTU",
        "colab_type": "text"
      },
      "cell_type": "markdown",
      "source": [
        "1 - Faça um programa que solicite ao usuário números e os armazene em uma lista de 5 posições. Crie uma função que recebe a lista preenchida e substitua todas as ocorrência de valores positivos por 1 e todos os valores negativos por 0. ##(Dani)\n",
        "\n",
        "Exemplo:\n",
        "\n",
        "Entrada: [5, -3, 4, -1, -5]\n",
        "\n",
        "Saída: [1, 0, 1, 0, 0]\n"
      ]
    },
    {
      "metadata": {
        "id": "EILnjMpDY_gD",
        "colab_type": "code",
        "colab": {}
      },
      "cell_type": "code",
      "source": [
        ""
      ],
      "execution_count": 0,
      "outputs": []
    },
    {
      "metadata": {
        "id": "RTjem6X449Wa",
        "colab_type": "text"
      },
      "cell_type": "markdown",
      "source": [
        "(PUC-RIO) 2 - Crie uma função que recebe uma lista de números e :\n",
        "\n",
        "\n",
        "*  retorne o maior elemento\n",
        "*  retorne a soma dos elementos\n",
        "*  retorne o número de ocorrências do primeiro elemento da lista\n",
        "*  retorne a média dos elementos\n",
        "*  retorne o valor mais próximo da média dos elementos\n",
        "*  retorne a soma dos elementos com valor negativo\n",
        "*  retorne a quantidade de vizinhos iguais"
      ]
    },
    {
      "metadata": {
        "id": "TsX4Cvt-Gd7e",
        "colab_type": "code",
        "colab": {}
      },
      "cell_type": "code",
      "source": [
        ""
      ],
      "execution_count": 0,
      "outputs": []
    },
    {
      "metadata": {
        "id": "4HaUvn0uft9i",
        "colab_type": "text"
      },
      "cell_type": "markdown",
      "source": [
        "3 - Faça um Programa que leia duas listas com 10 elementos cada. Gere uma terceira listas de 20 elementos, cujos valores deverão ser compostos pelos elementos intercalados das duas outras listas. ##(Acsa)\n",
        "\n",
        "Exemplo:\n",
        "\n",
        "primeira lista = [1,3,5,7,9]\n",
        "\n",
        "segunda lista = [2,4,6,8]\n",
        "\n",
        "resultado esperado = [1,2,3,4,5,6,7,8,9]\n",
        "\n",
        "\n"
      ]
    },
    {
      "metadata": {
        "id": "MGO8zb0MQS6Y",
        "colab_type": "code",
        "colab": {}
      },
      "cell_type": "code",
      "source": [
        ""
      ],
      "execution_count": 0,
      "outputs": []
    },
    {
      "metadata": {
        "id": "MimB-dKce0yi",
        "colab_type": "text"
      },
      "cell_type": "markdown",
      "source": [
        "4 - Faça um Programa que peça a idade e a altura de 5 pessoas, armazene cada informação na sua respectiva lista. Imprima a idade e a altura na ordem inversa a ordem lida. ##(Malu)\n",
        "\n",
        "Exemplo:\n",
        "\n",
        "idades = [20, 15, 53, 18, 32]\n",
        "\n",
        "alturas = [1.80, 1.51, 1.68, 1.65, 1.77]\n",
        "\n",
        "exibição das listas na ordem inversa:\n",
        "\n",
        "idades = [32, 18, 53, 15, 20]\n",
        "\n",
        "alturas = [1.77, 1.65, 1.68, 1.51, 1.80]\n"
      ]
    },
    {
      "metadata": {
        "id": "IjCXrr2rgo_T",
        "colab_type": "code",
        "colab": {}
      },
      "cell_type": "code",
      "source": [
        ""
      ],
      "execution_count": 0,
      "outputs": []
    },
    {
      "metadata": {
        "id": "l7FTlyfVZw00",
        "colab_type": "text"
      },
      "cell_type": "markdown",
      "source": [
        "(PUC-RIO) 5 - Faça um programa que percorre uma lista e exiba na tela o valor mais próximo da média dos valores\n",
        "da lista.\n",
        "\n",
        "Exemplo:\n",
        "\n",
        "lista = [2.5, 7.5, 10.0, 4.0] (média = 6.0)\n",
        "\n",
        "Valor mais próximo da média = 7.5 ##(Dani)"
      ]
    },
    {
      "metadata": {
        "id": "7qpIy346Z22e",
        "colab_type": "code",
        "colab": {}
      },
      "cell_type": "code",
      "source": [
        ""
      ],
      "execution_count": 0,
      "outputs": []
    },
    {
      "metadata": {
        "id": "1HXJ1tTmdTp9",
        "colab_type": "text"
      },
      "cell_type": "markdown",
      "source": [
        "(PUC - editada) 6 - Crie uma função que recebe uma lista de strings e:\n",
        "1.   retorne o elemento com mais caracteres;\n",
        "2.   retorne o elemento com menos caracteres;\n",
        "3.   retorne o número de ocorrências do primeiro elemento da lista; ##(Malu)\n",
        "\n",
        "Exemplo:\n",
        "\n",
        "lista = [arlindo, jurema, josefina, josicleydson, bob, arlindo]\n",
        "\n",
        "elemento com mais carateres: \"josicleydson\"\n",
        "\n",
        "elemento com menos caracteres: \"bob\"\n",
        "\n",
        "número de ocorrências do primeiro elemento da lista: 2\n"
      ]
    },
    {
      "metadata": {
        "id": "e_NSvUaad0F2",
        "colab_type": "code",
        "colab": {}
      },
      "cell_type": "code",
      "source": [
        ""
      ],
      "execution_count": 0,
      "outputs": []
    },
    {
      "metadata": {
        "id": "QtDY3SOQQtLX",
        "colab_type": "text"
      },
      "cell_type": "markdown",
      "source": [
        "(PUC-RIO) 7 - Duas amigas estabeleceram o código abaixo para que suas mensagens não fossem lidas pelas\n",
        "demais pessoas.\n",
        "\n",
        "* 0 1 2 3 4 5 6 7 8 9 10 11 12 13 14 15 16 17 18 19 20 21 22 23 24 25 26\n",
        "\n",
        "* ' ' a b c d e f  g  h  i   j    k   l    m  n    o p q r s t u v w x y z\n",
        "\n",
        "Observe que cada letra equivale a um número entre 1 e 26 e o espaço ao 0.\n",
        "\n",
        "Faça a função \"traduzir\", que recebe uma lista com uma mensagem (lSecreta) e \"traduz\" a sequência\n",
        "armazenada em lSecreta de acordo com o código das amigas. \n",
        "\n",
        "Teste para lSecreta = [2,15,13,0,4,9,1];"
      ]
    },
    {
      "metadata": {
        "id": "F-6RZfqIQuQK",
        "colab_type": "code",
        "colab": {}
      },
      "cell_type": "code",
      "source": [
        ""
      ],
      "execution_count": 0,
      "outputs": []
    },
    {
      "metadata": {
        "id": "5P_-GT5pSJGc",
        "colab_type": "text"
      },
      "cell_type": "markdown",
      "source": [
        "8 - Construa um lançador de dados em que o usuário possa escolher a quantidade de faces e a quantidade de dados lançados. Armazene todos os resultados em uma lista na qual o índice corresponde a face do dado, e mostre o resultado de cada lançameto e a soma das faces. ##(Gabi)"
      ]
    },
    {
      "metadata": {
        "id": "VbjyAojZQTpy",
        "colab_type": "code",
        "colab": {}
      },
      "cell_type": "code",
      "source": [
        ""
      ],
      "execution_count": 0,
      "outputs": []
    },
    {
      "metadata": {
        "id": "qyJl-gYu47b-",
        "colab_type": "text"
      },
      "cell_type": "markdown",
      "source": [
        "9 - Faça uma função que receba uma lista de números armazenados de forma \n",
        "crescente, e dois \n",
        "valores ( limite inferior e limite superior), e \n",
        "exiba\n",
        "a sublista cujos elementos são maiores ou iguais  ao  \n",
        "limite inferior e menores ou iguais ao limite superior\n",
        "\n",
        "Exemplo: \n",
        "\n",
        "lista inicial=[12,14,15,16,18,20,24,26,28,32,34,38] \n",
        "\n",
        "limite inferior=13\n",
        "\n",
        "limite superior = 26\n",
        "\n",
        "lista \n",
        "exibida: \n",
        "[14,15,16,18,20,24,26] ##Martins"
      ]
    },
    {
      "metadata": {
        "id": "yRhOZC6U8qh2",
        "colab_type": "code",
        "colab": {}
      },
      "cell_type": "code",
      "source": [
        ""
      ],
      "execution_count": 0,
      "outputs": []
    },
    {
      "metadata": {
        "id": "BTiGWFr08xVv",
        "colab_type": "text"
      },
      "cell_type": "markdown",
      "source": [
        "10 - Agora com a lista anterior faça a soma dos elementos, começando com o valor 100, logo após calcule a média da lista e multiplique pela soma que você realizou, após isso, subtraia o menor valor da lista,  divida pelo maior valor e imprima ##Martins"
      ]
    },
    {
      "metadata": {
        "id": "oSn6KUtf9fdN",
        "colab_type": "code",
        "colab": {}
      },
      "cell_type": "code",
      "source": [
        ""
      ],
      "execution_count": 0,
      "outputs": []
    },
    {
      "metadata": {
        "id": "lUycSudNQLwL",
        "colab_type": "text"
      },
      "cell_type": "markdown",
      "source": [
        "11 - Uma empresa de pesquisas precisa tabular os resultados da seguinte enquete feita a um grande quantidade de organizações:\n",
        "\"Qual o melhor Sistema Operacional para uso em servidores?\"\n",
        "\n",
        "As possíveis respostas são:\n",
        "\n",
        "1. Windows Server\n",
        "2. Unix\n",
        "3. Linux\n",
        "4. Netware\n",
        "5. Mac OS\n",
        "6. Outro\n",
        "\n",
        "Você foi contratado para desenvolver um programa que leia o resultado da enquete e informe ao final o resultado da mesma. O programa deverá ler os valores até ser informado o valor 0, que encerra a entrada dos dados. Não deverão ser aceitos valores além dos válidos para o programa (0 a 6). Após os dados terem sido completamente informados, o programa deverá calcular a percentual de cada um dos concorrentes e informar o vencedor da enquete. O formato da saída foi dado pela empresa, e é o seguinte:\n",
        "\n",
        "\n",
        "Sistema Operacional /  Votos / %\n",
        "\n",
        "* Windows Server / 1500 / 17%\n",
        "* Unix / 3500 / 40%\n",
        "* Linux / 3000 / 34%\n",
        "* Netware / 500 / 5%\n",
        "* Mac OS / 150 / 2%\n",
        "* Outro / 150 / 2%\n",
        "\n",
        "Total = 8800\n",
        "\n",
        "O Sistema Operacional mais votado foi o Unix, com 3500 votos, correspondendo a 40% dos votos."
      ]
    },
    {
      "metadata": {
        "id": "cRBgBk3oQUNW",
        "colab_type": "code",
        "colab": {}
      },
      "cell_type": "code",
      "source": [
        ""
      ],
      "execution_count": 0,
      "outputs": []
    }
  ]
}
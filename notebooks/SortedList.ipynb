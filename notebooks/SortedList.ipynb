{
  "nbformat": 4,
  "nbformat_minor": 0,
  "metadata": {
    "colab": {
      "name": "SortedList.ipynb",
      "version": "0.3.2",
      "provenance": [],
      "collapsed_sections": [],
      "toc_visible": true
    },
    "kernelspec": {
      "display_name": "Python 3",
      "language": "python",
      "name": "python3"
    }
  },
  "cells": [
    {
      "metadata": {
        "colab_type": "text",
        "id": "teNuTfzY4fvh"
      },
      "cell_type": "markdown",
      "source": [
        "# Listas ordenadas automaticamente\n",
        "\n",
        "## Entendendo o que é\n",
        "A lista ordenada automaticamente é extremamente útil quando queremos resolver problemas onde a ordem dos nossos elementos da lista importa. Ela nos garante que os elementos estarão ordenados, mesmo após feitas quaisquer operações em nossa lista. \n",
        "\n",
        "A resolução de problemas que envolvem esse tipo de questão, se torna mais eficiente quando utilizamos listas ordenadas, diminuindo o tempo de implementação do código e facilitando a leitura do mesmo. Afinal, você já deve ter tido a experiência de ordenar uma lista de forma manual; quantos loops e condicionais foram criados não é mesmo? **Em suma, quando sua lista precisar de uma ordenação, use uma lista ordenada automaticamente, pois a ordem dos elementos nunca será alterada!!**\n",
        "\n",
        "Para utilizar listas ordenadas em Python, incluimos uma biblioteca chamada \"sortedcontainers\". Ela nos fornecerá a classe `SortedList`, que criará nossas listas ordenadas. Em Python, a lista ordenada também mantém os dados em ordem crescente como padrão. Além disso, ela aceita elementos duplicados e fornece fácil acesso e indexação dos mesmos.\n"
      ]
    },
    {
      "metadata": {
        "colab_type": "text",
        "id": "ghJ3uYx35Odp"
      },
      "cell_type": "markdown",
      "source": [
        "## Primeiros passos\n"
      ]
    },
    {
      "metadata": {
        "colab_type": "text",
        "id": "56gw2f7tB9n8"
      },
      "cell_type": "markdown",
      "source": [
        "O primeiro passo é instalar a biblioteca que contém a classe `SortedList`:\n",
        "\n",
        "> O símbolo de exclamação no começo de uma célula de código diz para o Jupyter executar o código no terminal 👍🏻"
      ]
    },
    {
      "metadata": {
        "colab_type": "code",
        "id": "PRObXPzbAFXm",
        "outputId": "94039de2-2aff-4f1a-d256-226c29cff27f",
        "colab": {
          "base_uri": "https://localhost:8080/",
          "height": 35
        }
      },
      "cell_type": "code",
      "source": [
        "!python3 -m pip install sortedcontainers"
      ],
      "execution_count": 1,
      "outputs": [
        {
          "output_type": "stream",
          "text": [
            "Requirement already satisfied: sortedcontainers in /usr/local/lib/python3.6/dist-packages (2.1.0)\n"
          ],
          "name": "stdout"
        }
      ]
    },
    {
      "metadata": {
        "colab_type": "text",
        "id": "dLBtvey1RCxu"
      },
      "cell_type": "markdown",
      "source": [
        "Ótimo! Agora já podemos criar nossa Lista Ordenada:\n"
      ]
    },
    {
      "metadata": {
        "colab_type": "code",
        "id": "BK8BAh0nRVs0",
        "outputId": "e61f7f51-70b3-433e-c18a-51dda8e24e35",
        "colab": {
          "base_uri": "https://localhost:8080/",
          "height": 35
        }
      },
      "cell_type": "code",
      "source": [
        "from sortedcontainers import SortedList\n",
        "sl = SortedList()\n",
        "\n",
        "print(sl)"
      ],
      "execution_count": 2,
      "outputs": [
        {
          "output_type": "stream",
          "text": [
            "SortedList([])\n"
          ],
          "name": "stdout"
        }
      ]
    },
    {
      "metadata": {
        "colab_type": "text",
        "id": "sESsFtumU4oy"
      },
      "cell_type": "markdown",
      "source": [
        "Parabéns, você acabou de criar sua primeira lista! \n",
        "\n",
        "Mas caso você queira iniciar a SortedList já com valores, também é possivel: "
      ]
    },
    {
      "metadata": {
        "colab_type": "code",
        "id": "Z7ElHbg8AIIk",
        "outputId": "f826ae57-7eca-48c6-defc-e659fa6a8925",
        "colab": {
          "base_uri": "https://localhost:8080/",
          "height": 35
        }
      },
      "cell_type": "code",
      "source": [
        "sl_1 = SortedList([3, 1, 1, 1, 2, 2, 5, 4])\n",
        "print(sl_1)"
      ],
      "execution_count": 3,
      "outputs": [
        {
          "output_type": "stream",
          "text": [
            "SortedList([1, 1, 1, 2, 2, 3, 4, 5])\n"
          ],
          "name": "stdout"
        }
      ]
    },
    {
      "metadata": {
        "colab_type": "text",
        "id": "Pk2EybaIyolN"
      },
      "cell_type": "markdown",
      "source": [
        "Perceba que uma está vazia e outra preenchida , no próximo tópico iremos aprender como manipular nossa lista."
      ]
    },
    {
      "metadata": {
        "id": "4OhiFRxi-Xmf",
        "colab_type": "text"
      },
      "cell_type": "markdown",
      "source": [
        "No momento de criar uma lista ordenada, podemos colocar criterios de ordenação na nossa lista:"
      ]
    },
    {
      "metadata": {
        "id": "Hk7YkXFI_edY",
        "colab_type": "code",
        "colab": {
          "base_uri": "https://localhost:8080/",
          "height": 35
        },
        "outputId": "04cb8beb-3ad3-4984-eedd-4b65f2a7892e"
      },
      "cell_type": "code",
      "source": [
        "palavras = SortedList([\"carro\",\"moto\",\"bicicleta\",\"navio\"],key=len)\n",
        "\n",
        "print(palavras)\n"
      ],
      "execution_count": 4,
      "outputs": [
        {
          "output_type": "stream",
          "text": [
            "SortedKeyList(['moto', 'carro', 'navio', 'bicicleta'], key=<built-in function len>)\n"
          ],
          "name": "stdout"
        }
      ]
    },
    {
      "metadata": {
        "id": "M-6TTQIhAaW0",
        "colab_type": "text"
      },
      "cell_type": "markdown",
      "source": [
        "Nessa função colocamos um critério para ordenar a lista de acordo com o tamanho das strings."
      ]
    },
    {
      "metadata": {
        "colab_type": "text",
        "id": "ixIQOx0R6BKr"
      },
      "cell_type": "markdown",
      "source": [
        "# Manipulando uma lista ordenada automaticamente"
      ]
    },
    {
      "metadata": {
        "colab_type": "text",
        "id": "PGyWkY2Yszh2"
      },
      "cell_type": "markdown",
      "source": [
        "### Pertinência"
      ]
    },
    {
      "metadata": {
        "colab_type": "text",
        "id": "VL86IDzJtG4m"
      },
      "cell_type": "markdown",
      "source": [
        "De forma semelhante ao `set`, na `SortedList` também podemos ver se um elemento pertence a ela: "
      ]
    },
    {
      "metadata": {
        "colab_type": "code",
        "id": "SWt2uQaKs_D3",
        "outputId": "0579355c-86aa-4242-b14c-b22f7a85fb01",
        "colab": {
          "base_uri": "https://localhost:8080/",
          "height": 35
        }
      },
      "cell_type": "code",
      "source": [
        "3 in sl_1 "
      ],
      "execution_count": 5,
      "outputs": [
        {
          "output_type": "execute_result",
          "data": {
            "text/plain": [
              "True"
            ]
          },
          "metadata": {
            "tags": []
          },
          "execution_count": 5
        }
      ]
    },
    {
      "metadata": {
        "colab_type": "code",
        "id": "FZEB7T4iubJi",
        "outputId": "986b6562-c130-45c3-8df0-91feb424e955",
        "colab": {
          "base_uri": "https://localhost:8080/",
          "height": 35
        }
      },
      "cell_type": "code",
      "source": [
        "10 in sl_1"
      ],
      "execution_count": 6,
      "outputs": [
        {
          "output_type": "execute_result",
          "data": {
            "text/plain": [
              "False"
            ]
          },
          "metadata": {
            "tags": []
          },
          "execution_count": 6
        }
      ]
    },
    {
      "metadata": {
        "id": "EBBi7hX2-Gns",
        "colab_type": "text"
      },
      "cell_type": "markdown",
      "source": [
        "> Buscar em uma lista ordenada automaticamente é mais eficiente que buscar em uma lista ordenada manualmente, mas ainda é menos eficiente que buscar em um conjunto 👍🏻"
      ]
    },
    {
      "metadata": {
        "colab_type": "text",
        "id": "ItjXcr07_K4N"
      },
      "cell_type": "markdown",
      "source": [
        "## Adicionando elementos"
      ]
    },
    {
      "metadata": {
        "colab_type": "text",
        "id": "zbWDv2_BdGvs"
      },
      "cell_type": "markdown",
      "source": [
        "Podemos adicionar elementos de duas maneiras.\n",
        "\n",
        "#### `add()`\n",
        "\n",
        "A primeira é o método `add()`, que recebe como parâmetro somente um argumento.\n",
        "\n",
        "Ou seja, você somente pode colocar um valor para ser adicionado a lista ordenada:"
      ]
    },
    {
      "metadata": {
        "colab_type": "code",
        "id": "s2jX_HVX_NjX",
        "outputId": "d0b4bc09-f964-4291-bc31-4b199ee0f41c",
        "colab": {
          "base_uri": "https://localhost:8080/",
          "height": 35
        }
      },
      "cell_type": "code",
      "source": [
        "sl.add(1)\n",
        "print(sl)"
      ],
      "execution_count": 7,
      "outputs": [
        {
          "output_type": "stream",
          "text": [
            "SortedList([1])\n"
          ],
          "name": "stdout"
        }
      ]
    },
    {
      "metadata": {
        "colab_type": "text",
        "id": "ekcsYf8fekTO"
      },
      "cell_type": "markdown",
      "source": [
        "#### `update()`\n",
        "\n",
        "Também podemos adicionar com o método `update()`, com a qual que podemos colocar varios valores:"
      ]
    },
    {
      "metadata": {
        "colab_type": "code",
        "id": "2FO9yDCYeiD7",
        "outputId": "acdb28e9-a51e-4e9b-c5f0-082798b37a76",
        "colab": {
          "base_uri": "https://localhost:8080/",
          "height": 35
        }
      },
      "cell_type": "code",
      "source": [
        "sl.update([2,3,4,5,6])\n",
        "print(sl)"
      ],
      "execution_count": 8,
      "outputs": [
        {
          "output_type": "stream",
          "text": [
            "SortedList([1, 2, 3, 4, 5, 6])\n"
          ],
          "name": "stdout"
        }
      ]
    },
    {
      "metadata": {
        "colab_type": "text",
        "id": "vmO2RXNrP2vx"
      },
      "cell_type": "markdown",
      "source": [
        "E se adicionarmos um elemento já existente na lista, o que acontece?"
      ]
    },
    {
      "metadata": {
        "colab_type": "code",
        "id": "sqcd-7R4PmkH",
        "outputId": "b8701b14-b699-452c-d8a3-706270b21534",
        "colab": {
          "base_uri": "https://localhost:8080/",
          "height": 35
        }
      },
      "cell_type": "code",
      "source": [
        "sl.add(2)\n",
        "print(sl)"
      ],
      "execution_count": 9,
      "outputs": [
        {
          "output_type": "stream",
          "text": [
            "SortedList([1, 2, 2, 3, 4, 5, 6])\n"
          ],
          "name": "stdout"
        }
      ]
    },
    {
      "metadata": {
        "colab_type": "text",
        "id": "iggh71GNQCKw"
      },
      "cell_type": "markdown",
      "source": [
        "Note que agora temos dois '2'. Diferente do `set()`, a `SortedList` permite a repetição de elementos."
      ]
    },
    {
      "metadata": {
        "colab_type": "text",
        "id": "7ZhkxMoD_Qqs"
      },
      "cell_type": "markdown",
      "source": [
        "## Removendo elementos"
      ]
    },
    {
      "metadata": {
        "colab_type": "text",
        "id": "R9mZN5zTY5t8"
      },
      "cell_type": "markdown",
      "source": [
        "Existem várias maneiras de remover elementos:\n",
        "\n",
        "#### `discard()` \n",
        "\n",
        "Passamos apenas um parâmetro. Se não existir esse valor que você tentou apagar, ele não reporta nada."
      ]
    },
    {
      "metadata": {
        "colab_type": "code",
        "id": "QQoqTa8m_UzG",
        "outputId": "db85a774-a8be-475f-b291-0dd2c78e9544",
        "colab": {
          "base_uri": "https://localhost:8080/",
          "height": 35
        }
      },
      "cell_type": "code",
      "source": [
        "sl.discard(2)\n",
        "print(sl)"
      ],
      "execution_count": 10,
      "outputs": [
        {
          "output_type": "stream",
          "text": [
            "SortedList([1, 2, 3, 4, 5, 6])\n"
          ],
          "name": "stdout"
        }
      ]
    },
    {
      "metadata": {
        "colab_type": "text",
        "id": "XnoKXfeqnMEp"
      },
      "cell_type": "markdown",
      "source": [
        "#### `remove()` \n",
        "\n",
        "Passamos apenas um parâmetro. Se não existir esse valor que você tentou apagar, ele reporta um `ValueError`."
      ]
    },
    {
      "metadata": {
        "colab_type": "code",
        "id": "oHwpHGmrnLw6",
        "outputId": "a86455e6-61b8-4306-8d7d-808b8b515dfb",
        "colab": {
          "base_uri": "https://localhost:8080/",
          "height": 316
        }
      },
      "cell_type": "code",
      "source": [
        "sl.remove(256)\n",
        "print(sl)"
      ],
      "execution_count": 11,
      "outputs": [
        {
          "output_type": "error",
          "ename": "ValueError",
          "evalue": "ignored",
          "traceback": [
            "\u001b[0;31m---------------------------------------------------------------------------\u001b[0m",
            "\u001b[0;31mValueError\u001b[0m                                Traceback (most recent call last)",
            "\u001b[0;32m<ipython-input-11-645765e8faea>\u001b[0m in \u001b[0;36m<module>\u001b[0;34m()\u001b[0m\n\u001b[0;32m----> 1\u001b[0;31m \u001b[0msl\u001b[0m\u001b[0;34m.\u001b[0m\u001b[0mremove\u001b[0m\u001b[0;34m(\u001b[0m\u001b[0;36m256\u001b[0m\u001b[0;34m)\u001b[0m\u001b[0;34m\u001b[0m\u001b[0;34m\u001b[0m\u001b[0m\n\u001b[0m\u001b[1;32m      2\u001b[0m \u001b[0mprint\u001b[0m\u001b[0;34m(\u001b[0m\u001b[0msl\u001b[0m\u001b[0;34m)\u001b[0m\u001b[0;34m\u001b[0m\u001b[0;34m\u001b[0m\u001b[0m\n",
            "\u001b[0;32m/usr/local/lib/python3.6/dist-packages/sortedcontainers/sortedlist.py\u001b[0m in \u001b[0;36mremove\u001b[0;34m(self, value)\u001b[0m\n\u001b[1;32m    448\u001b[0m \u001b[0;34m\u001b[0m\u001b[0m\n\u001b[1;32m    449\u001b[0m         \u001b[0;32mif\u001b[0m \u001b[0mpos\u001b[0m \u001b[0;34m==\u001b[0m \u001b[0mlen\u001b[0m\u001b[0;34m(\u001b[0m\u001b[0m_maxes\u001b[0m\u001b[0;34m)\u001b[0m\u001b[0;34m:\u001b[0m\u001b[0;34m\u001b[0m\u001b[0;34m\u001b[0m\u001b[0m\n\u001b[0;32m--> 450\u001b[0;31m             \u001b[0;32mraise\u001b[0m \u001b[0mValueError\u001b[0m\u001b[0;34m(\u001b[0m\u001b[0;34m'{0!r} not in list'\u001b[0m\u001b[0;34m.\u001b[0m\u001b[0mformat\u001b[0m\u001b[0;34m(\u001b[0m\u001b[0mvalue\u001b[0m\u001b[0;34m)\u001b[0m\u001b[0;34m)\u001b[0m\u001b[0;34m\u001b[0m\u001b[0;34m\u001b[0m\u001b[0m\n\u001b[0m\u001b[1;32m    451\u001b[0m \u001b[0;34m\u001b[0m\u001b[0m\n\u001b[1;32m    452\u001b[0m         \u001b[0m_lists\u001b[0m \u001b[0;34m=\u001b[0m \u001b[0mself\u001b[0m\u001b[0;34m.\u001b[0m\u001b[0m_lists\u001b[0m\u001b[0;34m\u001b[0m\u001b[0;34m\u001b[0m\u001b[0m\n",
            "\u001b[0;31mValueError\u001b[0m: 256 not in list"
          ]
        }
      ]
    },
    {
      "metadata": {
        "colab_type": "text",
        "id": "hurEGMIyCYn6"
      },
      "cell_type": "markdown",
      "source": [
        "#### pop() \n",
        "\n",
        "É possivel remover elementos de acordo com o seu índice, mas a maneira de utilizar cada uma essas funções é um pouco diferente."
      ]
    },
    {
      "metadata": {
        "colab_type": "code",
        "id": "5QrNUni3DLPJ",
        "colab": {}
      },
      "cell_type": "code",
      "source": [
        "sl.update([1,2,3,4,5])\n",
        "print(\"Lista antes de remover o primeiro indice: {}\".format(sl))\n",
        "sl.pop(0)\n",
        "print(\"Lista depois de remover o primeiro indice: {}\".format(sl))"
      ],
      "execution_count": 0,
      "outputs": []
    },
    {
      "metadata": {
        "colab_type": "text",
        "id": "mqRieOir8xR-"
      },
      "cell_type": "markdown",
      "source": [
        "#### `clear()` \n",
        "\n",
        "Remove todos os valores da lista ordenada."
      ]
    },
    {
      "metadata": {
        "colab_type": "code",
        "id": "6g28iaDM8w8V",
        "colab": {}
      },
      "cell_type": "code",
      "source": [
        "sl.clear()\n",
        "print(sl)"
      ],
      "execution_count": 0,
      "outputs": []
    },
    {
      "metadata": {
        "id": "SYy61GSW-4nA",
        "colab_type": "text"
      },
      "cell_type": "markdown",
      "source": [
        "Como vamos usar a variável sl posteriormente, vamos declarar novamente depois do clear: "
      ]
    },
    {
      "metadata": {
        "id": "zd_ZCcqV-pVj",
        "colab_type": "code",
        "colab": {}
      },
      "cell_type": "code",
      "source": [
        "sl = SortedList([1,2,3,4,5])"
      ],
      "execution_count": 0,
      "outputs": []
    },
    {
      "metadata": {
        "colab_type": "text",
        "id": "LSPHl9Cw_Yg0"
      },
      "cell_type": "markdown",
      "source": [
        "## Estudando os elementos"
      ]
    },
    {
      "metadata": {
        "colab_type": "text",
        "id": "2LdHf5C6Ogpp"
      },
      "cell_type": "markdown",
      "source": [
        "Agora que aprendemos a primeira parte da manipulação de uma `SortedList`, vamos dar continuidade ao aprendizado com algumas funções extremamente úteis.\n",
        "\n",
        "Suponha que ao fazer seus devidos `add`'s e `remove`'s, você queira ver quantas vezes tal elemento apareceu. Imagine fazendo isso com vários \"for\" e variáveis/vetores, uma confusão não é? Mas com o método `count()`,  é muito fácil!"
      ]
    },
    {
      "metadata": {
        "colab_type": "code",
        "id": "MAMkfi_w_cjd",
        "colab": {}
      },
      "cell_type": "code",
      "source": [
        "print(sl_1)\n",
        "print(sl_1.count(1))\n",
        "print(sl_1.count(2))"
      ],
      "execution_count": 0,
      "outputs": []
    },
    {
      "metadata": {
        "colab_type": "text",
        "id": "rzATwhiTXk9R"
      },
      "cell_type": "markdown",
      "source": [
        "Beleza, nós já sabemos contar os elementos repetidos. Mas e se precisarmos saber onde o elemento está, ou melhor, seu índice? Em Python, esse problema pode ser resolvido  com o método `index()`. \n",
        "\n",
        "Essa função ainda pode receber os parâmetros para procurar do índice N ao índice M (por padrão o N é o começo da lista, e o M o final). A assinatura do método `index` é `index(valor, índice_início, índice_fim)`. \n",
        "\n",
        "Curiosidade, se o valor não está na lista é relatado uma mensagem de erro, e a função retorna o primeiro índice da ocorrência."
      ]
    },
    {
      "metadata": {
        "colab_type": "code",
        "id": "f-Zj2yR_ZO74",
        "colab": {}
      },
      "cell_type": "code",
      "source": [
        "print(sl_1.index(2))"
      ],
      "execution_count": 0,
      "outputs": []
    },
    {
      "metadata": {
        "colab_type": "code",
        "id": "z_zJ0H5rbVfz",
        "colab": {}
      },
      "cell_type": "code",
      "source": [
        "print(sl_1.index(2, 5))"
      ],
      "execution_count": 0,
      "outputs": []
    },
    {
      "metadata": {
        "colab_type": "text",
        "id": "_L5uZSeKc5Tp"
      },
      "cell_type": "markdown",
      "source": [
        "Podemos também \"pegar\" o conteúdo da `SortedList` pelo índice, parecido como usamos em vetores:"
      ]
    },
    {
      "metadata": {
        "colab_type": "code",
        "id": "P4eJ7mkedJim",
        "colab": {}
      },
      "cell_type": "code",
      "source": [
        "print(sl_1[3])"
      ],
      "execution_count": 0,
      "outputs": []
    },
    {
      "metadata": {
        "colab_type": "text",
        "id": "ImnSTJlmGvrm"
      },
      "cell_type": "markdown",
      "source": [
        "#### Exercício de fixação"
      ]
    },
    {
      "metadata": {
        "colab_type": "text",
        "id": "oqJKjx91G9LH"
      },
      "cell_type": "markdown",
      "source": [
        "Exercícios desse topico\n"
      ]
    },
    {
      "metadata": {
        "colab_type": "text",
        "id": "VLnCEYrTzjuK"
      },
      "cell_type": "markdown",
      "source": [
        "## Iterando a `SortedList`"
      ]
    },
    {
      "metadata": {
        "colab_type": "text",
        "id": "khEVSX10ES6j"
      },
      "cell_type": "markdown",
      "source": [
        "Você pode iterar a `SortedList` com um `for`: "
      ]
    },
    {
      "metadata": {
        "colab_type": "code",
        "id": "ftrEfclVzztW",
        "colab": {}
      },
      "cell_type": "code",
      "source": [
        "for j in sl:\n",
        "  print(j)\n",
        "print(sl)"
      ],
      "execution_count": 0,
      "outputs": []
    },
    {
      "metadata": {
        "colab_type": "text",
        "id": "QJXMVdj8Jamn"
      },
      "cell_type": "markdown",
      "source": [
        "Podemos também iterar somente por um intervalo:"
      ]
    },
    {
      "metadata": {
        "colab_type": "code",
        "id": "AFjCLYaIJgqQ",
        "colab": {}
      },
      "cell_type": "code",
      "source": [
        "for j in sl.irange(3,5):\n",
        "  print(j)"
      ],
      "execution_count": 0,
      "outputs": []
    },
    {
      "metadata": {
        "colab_type": "text",
        "id": "IUe1t7WoKGuz"
      },
      "cell_type": "markdown",
      "source": [
        "Ou usando o `islice()`, que ao invés de iterar pelo intervalo dos dados, como o `irange()`, utiliza o intervalo dos índices passados como parâmetro: "
      ]
    },
    {
      "metadata": {
        "colab_type": "code",
        "id": "mH0LaJJ1L2nv",
        "colab": {}
      },
      "cell_type": "code",
      "source": [
        "a = SortedList(['b', '3', 't', 'r', 'd'])\n",
        "for k in a.islice(2,4):\n",
        "  print(k)"
      ],
      "execution_count": 0,
      "outputs": []
    },
    {
      "metadata": {
        "colab_type": "text",
        "id": "x5p48B80NdIM"
      },
      "cell_type": "markdown",
      "source": [
        "Ou"
      ]
    },
    {
      "metadata": {
        "colab_type": "code",
        "id": "ieXi9IidNfzL",
        "colab": {}
      },
      "cell_type": "code",
      "source": [
        "print(a[2:4])"
      ],
      "execution_count": 0,
      "outputs": []
    },
    {
      "metadata": {
        "colab_type": "text",
        "id": "5NeT_WPw_dm1"
      },
      "cell_type": "markdown",
      "source": [
        "## Pesquisa binária"
      ]
    },
    {
      "metadata": {
        "colab_type": "text",
        "id": "2C4wUuaHQFSo"
      },
      "cell_type": "markdown",
      "source": [
        "Agora, depois de estudarmos itens básicos, vamos introduzir um conceito que casa perfeitamente com a função da `SortedList`. Pesquisa ou busca binária é um algoritmo de busca em vetores que realiza sucessivas divisões do espaço de busca comparando o elemento buscado (chave) com o elemento no meio do vetor. Para utilizarmos essa técnica, é necessário que o vetor esteja ordenada. Nada melhor que a `SortedList` para isso! \n",
        "\n",
        "Para os curiosos e entusiastas, a busca binária funciona da seguinte maneira: se o elemento do meio do vetor for a chave, a busca termina com sucesso. Caso contrário, se o elemento do meio for menor que o elemento buscado, então a busca continua na metade posterior do vetor. E finalmente, se o elemento do meio for maior do que a chave, a busca continua na metade anterior do vetor.\n",
        "\n",
        "A complexidade desse algoritmo é da ordem de log2 (n) é o tamanho do vetor de busca. Apresenta-se mais eficiente que a Busca linear cuja ordem é O(n)."
      ]
    },
    {
      "metadata": {
        "colab_type": "text",
        "id": "dI_R_5jCYFVk"
      },
      "cell_type": "markdown",
      "source": [
        "### Desafio"
      ]
    },
    {
      "metadata": {
        "colab_type": "text",
        "id": "0WKhejnMYNOF"
      },
      "cell_type": "markdown",
      "source": [
        "Para aqueles que se interessaram, propomos um desafio para vocês!\n",
        "Desenvolva uma função em python que faça uma busca binária em uma `SortedList` e que diga a posição em que um elemento `N` está na `SortedList`. Para isso, aplique os conceitos que vimos.\n",
        " \n",
        " \n",
        "Regras:\n",
        "\n",
        "*   O vetor deve ter 100 elementos gerados por uma função aleatória podendo assumir valores de 0 a 1000\n",
        "*   Não utilizar (obviamente) a busca linear\n",
        "*   A função deve informar caso o número informado não esteja na lista\n",
        "\n",
        "\n"
      ]
    },
    {
      "metadata": {
        "colab_type": "code",
        "id": "MrcP86zm_hv-",
        "colab": {}
      },
      "cell_type": "code",
      "source": [
        ""
      ],
      "execution_count": 0,
      "outputs": []
    },
    {
      "metadata": {
        "colab_type": "text",
        "id": "hENZ66Ooa1T7"
      },
      "cell_type": "markdown",
      "source": [
        "Você pode testar se realmente a busca binária é eficiente. Rode a função acima com o utilitário \"time\" no terminal do linux ou  %time aqui no colab, depois, faça um algoritmo de busca em e compare o runtime de cada um!\n",
        "\n",
        "> Indented block\n",
        "\n",
        "\n",
        "Caso queiram conhecer mais sobre o assunto, acessem https://pt.khanacademy.org/computing/computer-science/algorithms/binary-search/a/binary-search\n"
      ]
    },
    {
      "metadata": {
        "colab_type": "text",
        "id": "ZHc0KKDo_l6w"
      },
      "cell_type": "markdown",
      "source": [
        "## Operações com Listas Ordenadas"
      ]
    },
    {
      "metadata": {
        "colab_type": "text",
        "id": "VMQgB2vscPRu"
      },
      "cell_type": "markdown",
      "source": [
        "Também é possivel fazer operações com a SortedList:\n",
        "\n",
        "  _add_() -> operação de soma\n"
      ]
    },
    {
      "metadata": {
        "colab_type": "code",
        "id": "2ysdO0Br_p1n",
        "colab": {}
      },
      "cell_type": "code",
      "source": [
        "sl.clear()\n",
        "\n",
        "sl = SortedList([1,2,3,4])\n",
        "sl2 = SortedList([5,6,7,8,9])\n",
        "\n",
        "print(\"lista1 -> {}\".format(sl))\n",
        "print(\"lista2 -> {}\".format(sl2))\n",
        "\n",
        "print(\"Soma das duas listas -> {}\".format(sl + sl2))"
      ],
      "execution_count": 0,
      "outputs": []
    },
    {
      "metadata": {
        "colab_type": "text",
        "id": "gfCPVGcUe8Ns"
      },
      "cell_type": "markdown",
      "source": [
        " _mult_() -> operação de multiplicação\n",
        " \n",
        " Obs.: recebe como parâmetro somente valor do tipo int"
      ]
    },
    {
      "metadata": {
        "colab_type": "code",
        "id": "Gh9DoGUue7TE",
        "colab": {}
      },
      "cell_type": "code",
      "source": [
        "print(\"lista antes da multiplicação -> {}\".format(sl))\n",
        "mult = sl * 3\n",
        "print(\"lista depois da multiplicação -> {}\".format(mult))"
      ],
      "execution_count": 0,
      "outputs": []
    },
    {
      "metadata": {
        "colab_type": "code",
        "id": "gHUfE9Nb_uNn",
        "colab": {}
      },
      "cell_type": "code",
      "source": [
        ""
      ],
      "execution_count": 0,
      "outputs": []
    },
    {
      "metadata": {
        "colab_type": "text",
        "id": "aZ2D9apN_sm9"
      },
      "cell_type": "markdown",
      "source": [
        "# Exercícios\n",
        "\n",
        "Agora que você já está craque em listas ordenadas, chegou a hora de práticar!"
      ]
    },
    {
      "metadata": {
        "colab_type": "text",
        "id": "12cvqUtBAh4X"
      },
      "cell_type": "markdown",
      "source": [
        "\n",
        "1 - Crie um programa que faça uma lista de números e retorne a lista e o maior valor da mesma\n",
        "\n",
        "Exemplo:\n",
        "Entrada:([1,2,5,23,6,3,6,87])\n",
        "Saída: 87"
      ]
    },
    {
      "metadata": {
        "colab_type": "code",
        "id": "12VS_otgAkCF",
        "colab": {}
      },
      "cell_type": "code",
      "source": [
        ""
      ],
      "execution_count": 0,
      "outputs": []
    },
    {
      "metadata": {
        "colab_type": "text",
        "id": "Mr02hxxgyJnQ"
      },
      "cell_type": "markdown",
      "source": [
        " 2 - Crie uma função que recebe duas strings do usuário e que diga se são anagramas ou não. Utilize SortedList() para tal. Pense um pouquinho e verás que é extremamente trivial!\n",
        "\n",
        "Ex:\n",
        "\t\n",
        "    Entrada - \"roma\", \"amor\"\n",
        "\t\n",
        "    Saída - \"São Anagramas\"\n",
        "\n",
        "\tEntrada - \"topa\", \"pato\"\n",
        "\tSaída - \"São Anagramas\"\n",
        "\n",
        "\tEntrada - \"sol\", \"lua\"\n",
        "\tSaída - \"Não São Anagramas\""
      ]
    },
    {
      "metadata": {
        "colab_type": "code",
        "id": "HFJWmkV7yV3B",
        "colab": {}
      },
      "cell_type": "code",
      "source": [
        ""
      ],
      "execution_count": 0,
      "outputs": []
    },
    {
      "metadata": {
        "colab_type": "text",
        "id": "LLLXcHPOMGQ-"
      },
      "cell_type": "markdown",
      "source": [
        "3 - Dado a lista ordenada [5, 3, 7, 9, 17, 13, 15, 11, 19], faça um programa que peça ao usuário para digitar um valor que deve ser a soma entre 2 valores dessa lista (dois valores diferentes). O programa deve percorrer os valores da lista e caso exista a soma, o mesmo deve exibir a soma, caso não exista deve informar que não existe soma entre os valores da lista igual ao valor informado.\n",
        "Ex: \t\n",
        "\tEntrada 30\n",
        "\tSaída 11 + 19 = 30\n",
        "\n",
        "\tEntrada 20\n",
        "\tSaída 9 + 11 = 20\n",
        "\n",
        "\tEntrada -1\n",
        "\tSaída \"Não existe soma entre os valores da lista que seja igual a -1\"\n",
        "\n",
        "\tEntrada 40\n",
        "\tSaída \"Não existe soma entre os valores da lista que seja igual a 40\""
      ]
    },
    {
      "metadata": {
        "colab_type": "code",
        "id": "LuEfwVQjNnBI",
        "colab": {}
      },
      "cell_type": "code",
      "source": [
        ""
      ],
      "execution_count": 0,
      "outputs": []
    }
  ]
}
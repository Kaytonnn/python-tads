{
  "nbformat": 4,
  "nbformat_minor": 0,
  "metadata": {
    "colab": {
      "name": "Conjuntos.ipynb",
      "version": "0.3.2",
      "provenance": [],
      "collapsed_sections": [],
      "toc_visible": true
    },
    "kernelspec": {
      "name": "python3",
      "display_name": "Python 3"
    }
  },
  "cells": [
    {
      "metadata": {
        "id": "ilOE4mE2F1E1",
        "colab_type": "text"
      },
      "cell_type": "markdown",
      "source": [
        "# Introdução"
      ]
    },
    {
      "metadata": {
        "id": "xLuXhXixIRB7",
        "colab_type": "text"
      },
      "cell_type": "markdown",
      "source": [
        "Uma pesquisa foi realizada com os alunos da turma de EDB I, perguntando, dentre inglês, espanhol, francês e alemão, quais idiomas falavam. Com os resultados coletados, deseja-se saber quantos alunos falam somente um idioma. Nessas condições, talvez fosse fácil alcançar tal objetivo. <br>\n",
        "Agora, suponha que essa mesma pesquisa fosse aplicada para todos os alunos do IMD? E de todos os campi da UFRN?<br>\n",
        "Aí que entram os conjuntos!<br>\n",
        "Os conjuntos são tipos abstratos de dados (equivalente aos conjuntos matemáticos) que manipulam coleções de elementos únicos, não ordenados e imutáveis."
      ]
    },
    {
      "metadata": {
        "id": "oaRQcnnIF_ij",
        "colab_type": "text"
      },
      "cell_type": "markdown",
      "source": [
        "# Primeiros passos"
      ]
    },
    {
      "metadata": {
        "id": "ND1SNBnpIwLt",
        "colab_type": "text"
      },
      "cell_type": "markdown",
      "source": [
        "Em python, um conjunto pode ser criado já com seus elementos declarados, dentro de chaves {} e separando-os por vírgulas, ou apenas como vazio, com a função construtora ```set()```:"
      ]
    },
    {
      "metadata": {
        "id": "oi9nn22uIzjb",
        "colab_type": "code",
        "colab": {}
      },
      "cell_type": "code",
      "source": [
        "meu_conjunto = {1, 2, 3, 4, 5}\n",
        "conjunto_vazio = set()\n",
        "\n",
        "print(meu_conjunto)\n",
        "print(conjunto_vazio)"
      ],
      "execution_count": 0,
      "outputs": []
    },
    {
      "metadata": {
        "id": "EhoNN5CHJp01",
        "colab_type": "text"
      },
      "cell_type": "markdown",
      "source": [
        "Um conjunto pode ter elementos de diferentes tipos:"
      ]
    },
    {
      "metadata": {
        "id": "9pyi5-BDJtbW",
        "colab_type": "code",
        "colab": {}
      },
      "cell_type": "code",
      "source": [
        "meu_conjunto = {1, 3.3, 'a', 'palavra'}\n",
        "print(meu_conjunto)"
      ],
      "execution_count": 0,
      "outputs": []
    },
    {
      "metadata": {
        "id": "LXrM-DDVKEhx",
        "colab_type": "text"
      },
      "cell_type": "markdown",
      "source": [
        "Além disso, um conjunto pode ser criado com a função construtora ```set()``` tendo como parâmetro um tipo iterável de dados (string, lista, dicionário, tuplas, etc...). Nesse caso, tal conjunto retorna um conjunto formado pelos elementos do seu parâmetro."
      ]
    },
    {
      "metadata": {
        "id": "kSvywhQAKQjz",
        "colab_type": "code",
        "colab": {}
      },
      "cell_type": "code",
      "source": [
        "meu_conjunto = set('Hello,world')\n",
        "print(meu_conjunto)\n",
        "for x in meu_conjunto:\n",
        " print(x)"
      ],
      "execution_count": 0,
      "outputs": []
    },
    {
      "metadata": {
        "id": "y38humahGCyX",
        "colab_type": "text"
      },
      "cell_type": "markdown",
      "source": [
        "# Funções"
      ]
    },
    {
      "metadata": {
        "id": "MPksi_HuLOKV",
        "colab_type": "text"
      },
      "cell_type": "markdown",
      "source": [
        "**Adição e remoção de elementos:** Depois de ser criado, um conjunto pode ser modificado, tendo elementos adicionados ou removidos dele.\n",
        "Para adicionar um elemento, utiliza-se ```add()``` e, múltiplos elementos, ```update()``` (confira na sessão de Extras):\n"
      ]
    },
    {
      "metadata": {
        "id": "4rRjt12NLQjF",
        "colab_type": "code",
        "colab": {}
      },
      "cell_type": "code",
      "source": [
        "meu_conjunto = {1, 2, 3}\n",
        "meu_conjunto.add(4)\n",
        "print(meu_conjunto)"
      ],
      "execution_count": 0,
      "outputs": []
    },
    {
      "metadata": {
        "id": "AEfOVzgmLel7",
        "colab_type": "text"
      },
      "cell_type": "markdown",
      "source": [
        "Já para remover, tem-se a função ```remove()```, que elimina o elemento, passado como parâmetro, do conjunto:"
      ]
    },
    {
      "metadata": {
        "id": "zuRXcU69LoLI",
        "colab_type": "code",
        "colab": {}
      },
      "cell_type": "code",
      "source": [
        "meu_conjunto = {1, 2, 3}\n",
        "meu_conjunto.remove(3)\n",
        "print(meu_conjunto) "
      ],
      "execution_count": 0,
      "outputs": []
    },
    {
      "metadata": {
        "id": "aQ69iaVnL8xR",
        "colab_type": "text"
      },
      "cell_type": "markdown",
      "source": [
        "E, se por algum motivo, o usuário tentar remover um elemento que não existe no conjunto?"
      ]
    },
    {
      "metadata": {
        "id": "PqpKn982L9nt",
        "colab_type": "code",
        "colab": {}
      },
      "cell_type": "code",
      "source": [
        "meu_conjunto = {1, 2, 3}\n",
        "meu_conjunto.remove(4)\n",
        "print(meu_conjunto) "
      ],
      "execution_count": 0,
      "outputs": []
    },
    {
      "metadata": {
        "id": "kvUgGNk2MEn5",
        "colab_type": "text"
      },
      "cell_type": "markdown",
      "source": [
        "Você recebeu o erro \"`Traceback (most recent call last)`\", justamente porque o ```remove()``` só remove elementos que fazem parte do conjunto. Para essa situação, existe a função ```discard()```, que tenta remover um elemento e, caso ele não exista, o conjunto continua o mesmo."
      ]
    },
    {
      "metadata": {
        "id": "e5zb9PrhMbIz",
        "colab_type": "code",
        "colab": {}
      },
      "cell_type": "code",
      "source": [
        "meu_conjunto = {1, 2, 3}\n",
        "meu_conjunto.discard(2)\n",
        "print(meu_conjunto) \n",
        "meu_conjunto.discard(4)\n",
        "print(meu_conjunto) "
      ],
      "execution_count": 0,
      "outputs": []
    },
    {
      "metadata": {
        "id": "YM2I76jGMmgU",
        "colab_type": "text"
      },
      "cell_type": "markdown",
      "source": [
        "Também existe a função ```clear()```, que remove todos os elementos do conjunto:"
      ]
    },
    {
      "metadata": {
        "id": "GJN1pENNMoC9",
        "colab_type": "code",
        "colab": {}
      },
      "cell_type": "code",
      "source": [
        "meu_conjunto = {1, 2, 3}\n",
        "print(meu_conjunto)\n",
        "meu_conjunto.clear()\n",
        "print(meu_conjunto) "
      ],
      "execution_count": 0,
      "outputs": []
    },
    {
      "metadata": {
        "id": "_rqm_nCuNHR7",
        "colab_type": "text"
      },
      "cell_type": "markdown",
      "source": [
        "**Cardinalidade** O número de elementos de um conjunto pode ser calculado simplesmente com a função ```len()```:"
      ]
    },
    {
      "metadata": {
        "id": "V2TxYUT-iDWa",
        "colab_type": "code",
        "colab": {}
      },
      "cell_type": "code",
      "source": [
        ""
      ],
      "execution_count": 0,
      "outputs": []
    },
    {
      "metadata": {
        "id": "dWl_Bzd6NJgW",
        "colab_type": "code",
        "colab": {}
      },
      "cell_type": "code",
      "source": [
        "meu_conjunto = {1, 2, 3}\n",
        "print (len(meu_conjunto))"
      ],
      "execution_count": 0,
      "outputs": []
    },
    {
      "metadata": {
        "id": "5r_4F-SzHlWC",
        "colab_type": "text"
      },
      "cell_type": "markdown",
      "source": [
        "**União:** Assim como na matemática a união de *sets*, concatena os elementos dos conjuntos em questão em um só. <br>\n",
        "Em python, a operação é realizada através do método ```union()``` ou do operador ```|```.\n",
        "Veja no exemplo abaixo, temos dois conjuntos distintos,  *a* e *b*.<br>\n"
      ]
    },
    {
      "metadata": {
        "id": "SGT6bQNbHudf",
        "colab_type": "code",
        "colab": {}
      },
      "cell_type": "code",
      "source": [
        "a = {1, 2, 3, 4}\n",
        "b = {3, 4, 5, 6}\n",
        "# operando com union()\n",
        "print(a.union(b))\n",
        "# operando com |\n",
        "print(a | b)"
      ],
      "execution_count": 0,
      "outputs": []
    },
    {
      "metadata": {
        "id": "tJkYrP_QISog",
        "colab_type": "text"
      },
      "cell_type": "markdown",
      "source": [
        "**Interseção**: Fazendo a interseção entre dois *sets*, *a* e *b*, obtemos o conjunto de elementos em comum entre eles.<br>\n",
        "Podemos realizar essa operação através do método ```intersection()``` ou do operador ```&```."
      ]
    },
    {
      "metadata": {
        "id": "l68oYejMIe-7",
        "colab_type": "code",
        "colab": {}
      },
      "cell_type": "code",
      "source": [
        "# operando com intersection()\n",
        "print(a.intersection(b))\n",
        "#operando com &\n",
        "print(a & b)"
      ],
      "execution_count": 0,
      "outputs": []
    },
    {
      "metadata": {
        "id": "cE5JZpt1IlJv",
        "colab_type": "text"
      },
      "cell_type": "markdown",
      "source": [
        "**Diferença**: Com a diferença entre *a* e *b*, obtemos o conjunto de elementos que pertencem à *a* e não pertencem a *b*<br>\n",
        "Realizamos a operação usando o método ```difference()``` ou o operador ```-```<br>\n",
        "Note que a - b ≠ b - a."
      ]
    },
    {
      "metadata": {
        "id": "uFDjRpwsI1E2",
        "colab_type": "code",
        "colab": {}
      },
      "cell_type": "code",
      "source": [
        "# operando com difference()\n",
        "print(a.difference(b))\n",
        "print(b.difference(a))\n",
        "# operando com -\n",
        "print(a - b)\n",
        "print(b - a)"
      ],
      "execution_count": 0,
      "outputs": []
    },
    {
      "metadata": {
        "id": "XPfzCP-xI61N",
        "colab_type": "text"
      },
      "cell_type": "markdown",
      "source": [
        "**Diferença simétrica**: Representa a união dos elementos de dois sets *a* e *b*, com exceção daqueles que pertencem à interseção dos sets<br>\n",
        "É possível realizar a operação através do método ```symmetric_difference()``` ou do operador ```^```."
      ]
    },
    {
      "metadata": {
        "id": "rVty_0EcJBug",
        "colab_type": "code",
        "colab": {}
      },
      "cell_type": "code",
      "source": [
        "# operando com symmetric_difference()\n",
        "print(a.symmetric_difference(b))\n",
        "# operando com ^\n",
        "print(a ^ b)"
      ],
      "execution_count": 0,
      "outputs": []
    },
    {
      "metadata": {
        "id": "VlxTDCtWJbyd",
        "colab_type": "text"
      },
      "cell_type": "markdown",
      "source": [
        "**Pertinência**: Utilizando os métodos ```in``` e ```not in``` podemos realizar testes que retornam resultados que se referem a um elemento em específico, ou seja, podemos verificar se um elemento está ou não em um conjunto:"
      ]
    },
    {
      "metadata": {
        "id": "s_szy9T1Jf0V",
        "colab_type": "code",
        "colab": {}
      },
      "cell_type": "code",
      "source": [
        "1 in a"
      ],
      "execution_count": 0,
      "outputs": []
    },
    {
      "metadata": {
        "id": "rVWrE64JJv8z",
        "colab_type": "code",
        "colab": {}
      },
      "cell_type": "code",
      "source": [
        "5 in a"
      ],
      "execution_count": 0,
      "outputs": []
    },
    {
      "metadata": {
        "id": "NFFeJzOnQSoj",
        "colab_type": "code",
        "colab": {}
      },
      "cell_type": "code",
      "source": [
        "8 not in a"
      ],
      "execution_count": 0,
      "outputs": []
    },
    {
      "metadata": {
        "id": "utuzvdZyKk-L",
        "colab_type": "text"
      },
      "cell_type": "markdown",
      "source": [
        "Podemos, também, verificar se um conjunto é subconjunto de outro:"
      ]
    },
    {
      "metadata": {
        "id": "C7509kyLKpn-",
        "colab_type": "code",
        "colab": {}
      },
      "cell_type": "code",
      "source": [
        "c = {1, 2}\n",
        "# operando com issubset()\n",
        "if c.issubset(a): \n",
        "  print(\"C é subconjunto de A, pois C está contido em A\")\n",
        "else:\n",
        "  print(\"C não é subconjunto de A, pois C não está contido em A\")\n",
        "\n",
        "# operando com <=\n",
        "if c <= a is False: \n",
        "  print(\"C é subconjunto de A, pois C está contido em A\")\n",
        "else:\n",
        "  print(\"C não é subconjunto de A, pois C não está contido em A\")"
      ],
      "execution_count": 0,
      "outputs": []
    },
    {
      "metadata": {
        "id": "NK1SRkIyK3sG",
        "colab_type": "text"
      },
      "cell_type": "markdown",
      "source": [
        "Ou se um conjunto é superconjunto de outro"
      ]
    },
    {
      "metadata": {
        "id": "7eaiyrLfLCsF",
        "colab_type": "code",
        "colab": {}
      },
      "cell_type": "code",
      "source": [
        "# operando com issuperset()\n",
        "if a.issuperset(c):\n",
        "  print(\"A é superconjunto de C, pois A contém C\")\n",
        "else:\n",
        "  print(\"A não é superconjunto de C, pois A não contém C\")\n",
        "  \n",
        "# operando com >=\n",
        "if a >= c is False:\n",
        "  print(\"A é superconjunto de C, pois A contém C\")\n",
        "else:\n",
        "  print(\"A não é superconjunto de C, pois A não contém C\")"
      ],
      "execution_count": 0,
      "outputs": []
    },
    {
      "metadata": {
        "id": "9QjPx2nZMOgj",
        "colab_type": "text"
      },
      "cell_type": "markdown",
      "source": [
        "E, ainda, se eles são disjuntos (interseção nula)"
      ]
    },
    {
      "metadata": {
        "id": "dcknyU00MUa2",
        "colab_type": "code",
        "colab": {}
      },
      "cell_type": "code",
      "source": [
        "if c.isdisjoint(a):\n",
        "  print(\"C e A são disjuntos, sua interseção é nula\")\n",
        "else:\n",
        "  print(\"C e A não são disjuntos, sua interseção não é nula\")\n",
        "if c.isdisjoint(b):\n",
        "  print(\"C e B são disjuntos, sua interseção é nula\")\n",
        "else:\n",
        "  print(\"C e B não são disjuntos, sua interseção não é nula\")"
      ],
      "execution_count": 0,
      "outputs": []
    },
    {
      "metadata": {
        "id": "va2_qr9VRCxm",
        "colab_type": "text"
      },
      "cell_type": "markdown",
      "source": [
        "# Exercícios"
      ]
    },
    {
      "metadata": {
        "id": "0ZrVKl2LRHPn",
        "colab_type": "text"
      },
      "cell_type": "markdown",
      "source": [
        "1 - Agora, que já temos um bom conhecimentos sobre os sets, voltemos ao exemplo da introdução. Os dados sobre conhecimento em diversos idiomas pelos estudantes da UFRN são guardados em um banco de dados. Após consulta a essa base de dados, a matrícula dos alunos foram salvas nos conjuntos relativos aos idiomas que cada um fala. Sendo assim, obteve-se o seguinte resultado:"
      ]
    },
    {
      "metadata": {
        "id": "YgOmzQPrRdHa",
        "colab_type": "code",
        "colab": {}
      },
      "cell_type": "code",
      "source": [
        "ingles = {2017992691, 2014731077, 2016127320, 2017673650, 2017675600, 2016071490, 2015763941,2018124856, 2014240183, 2015069118, 2017397627, 2018257434, 2018146279,2018336479, 2016255160, 2016191681, 2017462010, 2015267990, 2018353177,2016316106, 2017534024, 2017435227, 2018485174, 2017511916, 2018252953, 2018230360, 2015896310, 2016403233, 2018036952, 2018223748, 2017106407, 2018928865, 2015808443, 2015490023, 2014680801, 2016797947, 2017169550, 2017741705, 2016449433, 2018701674, 2018681674, 2018822119, 2015629894, 2018552429, 2014160569, 2014812342, 2015241433, 2015633224, 2015938370, 2014994808, 2018682286, 2014920254, 2017952048, 2014899143, 2018459199, 2015659561, 2018886010, 2016111302, 2018528579, 2017559038, 2018248638, 2015560871, 2014569332, 2018652276, 2016701261, 2016308042, 2016310173, 2017705448, 2014399415, 2016268450, 2017608181, 2015981561, 2014964705, 2014655030, 2017687958, 2016162852, 2017223176, 2014759427, 2017290535, 2017031946, 2017042504, 2018916372, 2017757689, 2014922487, 2016080164, 2014792539, 2016110301, 2015200433, 2015667306, 2014891106, 2014748251, 2018911399, 2015008915, 2014976823, 2018870448}\n",
        "espanhol = {2017992691, 2014731077, 2016127320, 2017673650, 2017675600, 2016071490, 2015763941, 2015365994, 2014728861, 2014152867, 2018044073, 2015856913, 2018124856, 2014240183, 2017534024, 2017435227, 2018485174, 2017511916, 2018252953, 2018230360, 2015896310, 2016403233, 2018036952, 2018223748, 2017106407, 2018928865, 2015808443, 2015490023, 2014680801, 2016797947, 2017169550, 2017741705, 2016449433, 2018701674, 2018681674, 2018822119, 2015629894, 2018552429, 2014160569, 2014812342, 2015241433, 2015633224, 2015938370, 2014994808, 2018682286, 2014920254, 2017952048, 2014899143, 2018459199, 2015659561, 2018886010, 2016111302, 2018528579, 2017559038, 2018248638, 2015560871, 2014569332, 2018652276, 2016701261, 2016308042, 2016310173, 2017705448, 2014399415, 2016268450}\n",
        "frances = {2016268450, 2017608181, 2015981561, 2014964705, 2014655030, 2017687958, 2016162852, 2017223176, 2014759427, 2017290535, 2017031946, 2017042504, 2018916372, 2017757689, 2014922487, 2016080164, 2014792539, 2016110301, 2015200433, 2015667306, 2014891106, 2014748251, 2018911399, 2015008915, 2014976823, 2018870448, 2018230360, 2015896310, 2016403233, 2018036952, 2018223748, 2017106407, 2018928865, 2015808443, 2015490023, 2014680801, 2016797947, 2017169550, 2017741705, 2016449433, 2018701674, 2018681674, 2018822119, 2015629894, 2018552429,}\n",
        "alemao = {2015763941, 2015365994, 2014728861, 2014152867, 2018044073, 2015856913, 2018124856, 2014240183, 2015069118, 2017397627, 2018257434, 2018146279,2018336479, 2016255160, 2016191681, 2017462010, 2015267990, 2018353177,2016316106, 2017534024, 2017435227, 2018485174, 2017511916, 2018252953, 2018230360, 2015896310, 2016403233, 2018036952, 2018223748, 2017106407, 2018928865, 2015808443, 2015490023, 2014680801, 2016797947, 2017169550, 2017741705, 2016449433, 2018701674, 2018681674, 2018822119, 2015629894, 2018552429, 2014160569, 2014812342, 2015241433, 2015633224, 2015938370, 2014994808, 2018682286, 2014920254}"
      ],
      "execution_count": 0,
      "outputs": []
    },
    {
      "metadata": {
        "id": "ZP7aLZTtRrBs",
        "colab_type": "text"
      },
      "cell_type": "markdown",
      "source": [
        "Calcule quantos alunos falam apenas inglês e espanhol:"
      ]
    },
    {
      "metadata": {
        "id": "cOpD-g4aRsQB",
        "colab_type": "code",
        "colab": {}
      },
      "cell_type": "code",
      "source": [
        ""
      ],
      "execution_count": 0,
      "outputs": []
    },
    {
      "metadata": {
        "id": "Z_HROn0QRs_W",
        "colab_type": "text"
      },
      "cell_type": "markdown",
      "source": [
        "Calcule quantos alunos falam dois idiomas:"
      ]
    },
    {
      "metadata": {
        "id": "TmNx8vBCRz1I",
        "colab_type": "code",
        "colab": {}
      },
      "cell_type": "code",
      "source": [
        ""
      ],
      "execution_count": 0,
      "outputs": []
    },
    {
      "metadata": {
        "id": "EAbcOQ2DRv4A",
        "colab_type": "text"
      },
      "cell_type": "markdown",
      "source": [
        "Calcule quantos alunos falam apenas um idioma:"
      ]
    },
    {
      "metadata": {
        "id": "I0XlgJdrR0Ve",
        "colab_type": "code",
        "colab": {}
      },
      "cell_type": "code",
      "source": [
        ""
      ],
      "execution_count": 0,
      "outputs": []
    },
    {
      "metadata": {
        "id": "Bx2KGgZKSKKR",
        "colab_type": "text"
      },
      "cell_type": "markdown",
      "source": [
        "Já imaginou realizar esses cálculos sem o ```set()```? Com certeza, teríamos mais trabalho. <br>\n",
        "Nesse exercício, vimos uma das utilidades dos conjuntos, que é realizar operações. Outra ocasião em que pode ser bastante útil é na remoção de elementos repetidos de uma sequência. Para entender melhor, faça o exercício 2:"
      ]
    },
    {
      "metadata": {
        "id": "GsztDDtzSLUQ",
        "colab_type": "text"
      },
      "cell_type": "markdown",
      "source": [
        "2 - [OBI - 2012] Certa vez, numa aula, a professora passou um filme para os alunos assistirem. Durante este filme, ela passou uma lista de presença em sua sala para verificar a presença dos alunos, onde cada aluno deveria inserir apenas seu número de registro. Alguns alunos contudo, como possuem amigos que fogem da aula, decidiram ser camaradas e inseriram os números de registro de seus amigos fujões. O problema é que muitos alunos são amigos de alunos que fogem da aula e alguns números de registro acabaram sendo repetidamente inseridos na lista de presença. Além de tudo, alguns dos alunos que se esperava que não estivessem na aula de fato estavam!\n",
        "\n",
        "A professora, ao notar que a lista de presença continha alguns números repetidos, ficou sem entender, mas decidiu dar um voto de confiança e dar presença a todos os alunos cujos números de registro estavam na lista. Como são muitos alunos na sala e muitos números com repetição, ela pediu a sua ajuda para determinar o total de alunos que receberam presença na aula."
      ]
    },
    {
      "metadata": {
        "id": "WpucsZKZS7Sn",
        "colab_type": "text"
      },
      "cell_type": "markdown",
      "source": [
        "Entrada:<br>\n",
        "A primeira linha da entrada contém um número inteiro N , que informa a quantidade de números de registro que apareceram na lista de presença. Cada uma das N linhas seguintes contém um número de registro Vi que foi inserido na lista de presença.\n",
        "\n",
        "Saída:<br>\n",
        "Seu programa deve imprimir uma única linha, contendo apenas um número inteiro, o número de alunos que receberam presença."
      ]
    },
    {
      "metadata": {
        "id": "ptPTsS7kTRyu",
        "colab_type": "text"
      },
      "cell_type": "markdown",
      "source": [
        "| Entrada            \t| Saída \t|\n",
        "|--------------------\t|-------\t|\n",
        "| 3<br> 2<br>3<br>1|   3   \t|"
      ]
    },
    {
      "metadata": {
        "id": "q7GEc59NTeVk",
        "colab_type": "code",
        "colab": {}
      },
      "cell_type": "code",
      "source": [
        ""
      ],
      "execution_count": 0,
      "outputs": []
    },
    {
      "metadata": {
        "id": "hGQloYI5TfFe",
        "colab_type": "text"
      },
      "cell_type": "markdown",
      "source": [
        "[Extensão] No dia seguinte, a professora deu um grande sermão para os seus alunos, que se comprometeram a não fugir mais das aulas.\n",
        "Passada uma semana, a professora passou mais um filme para os seus alunos assistirem e a mesma situação se repetiu. Chateada, ela decidiu que, dessa vez, daria falta nos alunos que tinham registro repetido na lista de presença. Mais uma vez, ela pediu a sua ajuda para determinar o total de alunos que receberam presença na aula."
      ]
    },
    {
      "metadata": {
        "id": "MxbSUPtcTpSQ",
        "colab_type": "text"
      },
      "cell_type": "markdown",
      "source": [
        "Entrada<br>\n",
        "A primeira linha da entrada contém um número inteiro N , que informa a quantidade de números de registro que apareceram na lista de presença. Cada uma das N linhas seguintes contém um número de registro Vi que foi inserido na lista de presença.\n",
        "\n",
        "Saída<br>\n",
        "Seu programa deve imprimir uma única linha, contendo apenas um número inteiro, o número de alunos que receberam presença.\n"
      ]
    },
    {
      "metadata": {
        "id": "R3BU7OJbTyJq",
        "colab_type": "text"
      },
      "cell_type": "markdown",
      "source": [
        "| Entrada            \t| Saída \t|\n",
        "|--------------------\t| -------\t|\n",
        "| 15<br>1<br>0<br>5<br>6<br>0<br>12<br>25<br>6<br>2<br>6<br>5<br>0<br>25<br>13<br>2 |    4   \t|"
      ]
    },
    {
      "metadata": {
        "id": "3YeNjIU4LC3C",
        "colab_type": "code",
        "colab": {}
      },
      "cell_type": "code",
      "source": [
        ""
      ],
      "execution_count": 0,
      "outputs": []
    },
    {
      "metadata": {
        "id": "g2UxWTC0LDXI",
        "colab_type": "text"
      },
      "cell_type": "markdown",
      "source": [
        "3 - [UFU-MG *adaptada*] O número de conjuntos distintos, os quais\n",
        "contêm o conjunto {14, 18, 5, 6, 8, 7, 1, 3, 23, 10, 2, 4, 9} e estão\n",
        "contidos no conjunto {22, 8, 19, 14, 5, 15, 1, 10, 11, 25, 2, 3, 6, 7, 9,\n",
        "12, 4, 13, 16, 23, 26, 18}, é igual a"
      ]
    },
    {
      "metadata": {
        "id": "L7ENVWbdMDZ6",
        "colab_type": "code",
        "colab": {}
      },
      "cell_type": "code",
      "source": [
        ""
      ],
      "execution_count": 0,
      "outputs": []
    },
    {
      "metadata": {
        "id": "G21D68zTU3Vd",
        "colab_type": "text"
      },
      "cell_type": "markdown",
      "source": [
        "4 - João e Maria possuem um dado de 12 faces e gostam de jogar com ele da seguinte forma:\n",
        "- João lança o dado e o número da face virada para cima é eliminado;\n",
        "- depois, Maria repete o processo. Caso tire um número que já foi eliminado, nada acontece;\n",
        "- assim continuam até que não restem mais números para serem eliminados;\n",
        "- ganha quem conseguir eliminar o último número. <br>\n",
        "Faça um programa que simule esse jogo"
      ]
    },
    {
      "metadata": {
        "id": "abFSN0BPWQcp",
        "colab_type": "code",
        "colab": {}
      },
      "cell_type": "code",
      "source": [
        "\n"
      ],
      "execution_count": 0,
      "outputs": []
    },
    {
      "metadata": {
        "id": "sO4uG468TeYY",
        "colab_type": "text"
      },
      "cell_type": "markdown",
      "source": [
        "# Exercícios w3r - [w3resource list](https://www.w3resource.com/python-exercises/python-functions-exercises.php)"
      ]
    },
    {
      "metadata": {
        "id": "1jkEksPIU02F",
        "colab_type": "text"
      },
      "cell_type": "markdown",
      "source": [
        "1 -  Escreva uma função que determine o maior número dentro de um conjunto de 7 números."
      ]
    },
    {
      "metadata": {
        "id": "P5mpbHUnVQok",
        "colab_type": "code",
        "colab": {}
      },
      "cell_type": "code",
      "source": [
        ""
      ],
      "execution_count": 0,
      "outputs": []
    },
    {
      "metadata": {
        "id": "roGVGDLhVubL",
        "colab_type": "text"
      },
      "cell_type": "markdown",
      "source": [
        "2 - Escreva uma função que some todos os elementos de um conjunto."
      ]
    },
    {
      "metadata": {
        "id": "h4V_VlBtV13T",
        "colab_type": "code",
        "colab": {}
      },
      "cell_type": "code",
      "source": [
        ""
      ],
      "execution_count": 0,
      "outputs": []
    },
    {
      "metadata": {
        "id": "R7DdPaF8V2ny",
        "colab_type": "text"
      },
      "cell_type": "markdown",
      "source": [
        "3 - Escreva uma função que multiplique todos os elementos de um conjunto."
      ]
    },
    {
      "metadata": {
        "id": "OHW1v7jHV_MB",
        "colab_type": "code",
        "colab": {}
      },
      "cell_type": "code",
      "source": [
        ""
      ],
      "execution_count": 0,
      "outputs": []
    },
    {
      "metadata": {
        "id": "twjw_hF1N24I",
        "colab_type": "text"
      },
      "cell_type": "markdown",
      "source": [
        "# Extras"
      ]
    },
    {
      "metadata": {
        "id": "hBuv6GdgUXyX",
        "colab_type": "text"
      },
      "cell_type": "markdown",
      "source": [
        "**Update**: Modifica o conjunto A para possuir os elementos de A ```U``` B"
      ]
    },
    {
      "metadata": {
        "id": "jGYVaBaTUkf3",
        "colab_type": "code",
        "colab": {}
      },
      "cell_type": "code",
      "source": [
        "a = {1, 2, 3, 4}\n",
        "b = {3, 4, 5, 6}\n",
        "print(a)\n",
        "print(b)\n",
        "print(a.union(b))\n",
        "a.update(b)\n",
        "print(a)\n",
        "print(b)"
      ],
      "execution_count": 0,
      "outputs": []
    },
    {
      "metadata": {
        "id": "UznGU1E6Uv4j",
        "colab_type": "text"
      },
      "cell_type": "markdown",
      "source": [
        "A função ```update()``` pode ser utilizada com outras funções, sendo escrita como sufixo. Nesse caso, ela sobrescreve o conjunto A para ser equivalente a operação desejada. Por exemplo:"
      ]
    },
    {
      "metadata": {
        "id": "q0XJwlsPUyxF",
        "colab_type": "code",
        "colab": {}
      },
      "cell_type": "code",
      "source": [
        "a = {1, 2, 3, 4}\n",
        "b = {3, 4, 5, 6}\n",
        "print(a)\n",
        "print(b)\n",
        "print(a.intersection(b))\n",
        "a.intersection_update(b)\n",
        "print(a)\n",
        "print(b)"
      ],
      "execution_count": 0,
      "outputs": []
    },
    {
      "metadata": {
        "id": "FzOkoEYSelGa",
        "colab_type": "code",
        "colab": {}
      },
      "cell_type": "code",
      "source": [
        "a = {1, 2, 3, 4}\n",
        "b = {3, 4, 5, 6}\n",
        "print(a)\n",
        "print(b)\n",
        "print(a.difference(b))\n",
        "a.difference_update(b)\n",
        "print(a)\n",
        "print(b)"
      ],
      "execution_count": 0,
      "outputs": []
    },
    {
      "metadata": {
        "id": "TO7DCjp6elTr",
        "colab_type": "code",
        "colab": {}
      },
      "cell_type": "code",
      "source": [
        "a = {1, 2, 3, 4}\n",
        "b = {3, 4, 5, 6}\n",
        "print(a)\n",
        "print(b)\n",
        "print(a.symmetric_difference(b))\n",
        "a.symmetric_difference_update(b)\n",
        "print(a)\n",
        "print(b)"
      ],
      "execution_count": 0,
      "outputs": []
    },
    {
      "metadata": {
        "id": "ufNwjr4gSTmx",
        "colab_type": "text"
      },
      "cell_type": "markdown",
      "source": [
        "**Frozenset**: funciona, em linhas gerais, como um conjunto, mas com a diferença de que não pode ser alterado. <br>\n",
        "Leia mais em: [frozenset](https://www.programiz.com/python-programming/methods/built-in/frozenset)"
      ]
    }
  ]
}